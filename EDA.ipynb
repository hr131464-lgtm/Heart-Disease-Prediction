{
 "cells": [
  {
   "cell_type": "code",
   "execution_count": 119,
   "id": "0ad69095",
   "metadata": {},
   "outputs": [],
   "source": [
    "import pandas as pd\n",
    "import numpy as np\n",
    "import matplotlib.pyplot as plt\n",
    "import seaborn as sns\n",
    "\n",
    "\n",
    "# To preprocess the data\n",
    "from sklearn.preprocessing import StandardScaler, MinMaxScaler, LabelEncoder\n",
    "from sklearn.impute import SimpleImputer, KNNImputer\n",
    "# import iterative imputer\n",
    "from sklearn.experimental import enable_iterative_imputer\n",
    "from sklearn.impute import IterativeImputer\n",
    "\n",
    "# machine learning\n",
    "from sklearn.model_selection import train_test_split, GridSearchCV, cross_val_score\n",
    "#for classification tasks\n",
    "from sklearn.linear_model import LogisticRegression\n",
    "from sklearn.neighbors import KNeighborsClassifier\n",
    "from sklearn.svm import SVC\n",
    "from sklearn.tree import DecisionTreeClassifier\n",
    "from sklearn.ensemble import RandomForestClassifier, AdaBoostClassifier, GradientBoostingClassifier, RandomForestRegressor\n",
    "\n",
    "#metrics\n",
    "from sklearn.metrics import accuracy_score, confusion_matrix, classification_report, mean_absolute_error, mean_squared_error, r2_score\n",
    "\n",
    "# ignore warnings   \n",
    "import warnings\n",
    "warnings.filterwarnings('ignore')\n"
   ]
  },
  {
   "cell_type": "code",
   "execution_count": 120,
   "id": "e36ad4fc",
   "metadata": {},
   "outputs": [
    {
     "name": "stdout",
     "output_type": "stream",
     "text": [
      "Shape of the data is  (1025, 14)\n"
     ]
    }
   ],
   "source": [
    "df = pd.read_csv(\"heart.csv\")\n",
    "print('Shape of the data is ', df.shape)"
   ]
  },
  {
   "cell_type": "code",
   "execution_count": 121,
   "id": "6e5677e7",
   "metadata": {},
   "outputs": [
    {
     "data": {
      "text/plain": [
       "<bound method NDFrame.head of       age  sex  cp  trestbps  chol  fbs  restecg  thalach  exang  oldpeak  \\\n",
       "0      52    1   0       125   212    0        1      168      0      1.0   \n",
       "1      53    1   0       140   203    1        0      155      1      3.1   \n",
       "2      70    1   0       145   174    0        1      125      1      2.6   \n",
       "3      61    1   0       148   203    0        1      161      0      0.0   \n",
       "4      62    0   0       138   294    1        1      106      0      1.9   \n",
       "...   ...  ...  ..       ...   ...  ...      ...      ...    ...      ...   \n",
       "1020   59    1   1       140   221    0        1      164      1      0.0   \n",
       "1021   60    1   0       125   258    0        0      141      1      2.8   \n",
       "1022   47    1   0       110   275    0        0      118      1      1.0   \n",
       "1023   50    0   0       110   254    0        0      159      0      0.0   \n",
       "1024   54    1   0       120   188    0        1      113      0      1.4   \n",
       "\n",
       "      slope  ca  thal  target  \n",
       "0         2   2     3       0  \n",
       "1         0   0     3       0  \n",
       "2         0   0     3       0  \n",
       "3         2   1     3       0  \n",
       "4         1   3     2       0  \n",
       "...     ...  ..   ...     ...  \n",
       "1020      2   0     2       1  \n",
       "1021      1   1     3       0  \n",
       "1022      1   1     2       0  \n",
       "1023      2   0     2       1  \n",
       "1024      1   1     3       0  \n",
       "\n",
       "[1025 rows x 14 columns]>"
      ]
     },
     "execution_count": 121,
     "metadata": {},
     "output_type": "execute_result"
    }
   ],
   "source": [
    "df.head"
   ]
  },
  {
   "cell_type": "code",
   "execution_count": 122,
   "id": "0e812199",
   "metadata": {},
   "outputs": [
    {
     "name": "stdout",
     "output_type": "stream",
     "text": [
      "<class 'pandas.core.frame.DataFrame'>\n",
      "RangeIndex: 1025 entries, 0 to 1024\n",
      "Data columns (total 14 columns):\n",
      " #   Column    Non-Null Count  Dtype  \n",
      "---  ------    --------------  -----  \n",
      " 0   age       1025 non-null   int64  \n",
      " 1   sex       1025 non-null   int64  \n",
      " 2   cp        1025 non-null   int64  \n",
      " 3   trestbps  1025 non-null   int64  \n",
      " 4   chol      1025 non-null   int64  \n",
      " 5   fbs       1025 non-null   int64  \n",
      " 6   restecg   1025 non-null   int64  \n",
      " 7   thalach   1025 non-null   int64  \n",
      " 8   exang     1025 non-null   int64  \n",
      " 9   oldpeak   1025 non-null   float64\n",
      " 10  slope     1025 non-null   int64  \n",
      " 11  ca        1025 non-null   int64  \n",
      " 12  thal      1025 non-null   int64  \n",
      " 13  target    1025 non-null   int64  \n",
      "dtypes: float64(1), int64(13)\n",
      "memory usage: 112.2 KB\n"
     ]
    }
   ],
   "source": [
    "df.info()"
   ]
  },
  {
   "cell_type": "code",
   "execution_count": 123,
   "id": "c28d5051",
   "metadata": {},
   "outputs": [
    {
     "data": {
      "text/plain": [
       "(1025, 14)"
      ]
     },
     "execution_count": 123,
     "metadata": {},
     "output_type": "execute_result"
    }
   ],
   "source": [
    "df.shape"
   ]
  },
  {
   "cell_type": "code",
   "execution_count": 124,
   "id": "c6c91196",
   "metadata": {},
   "outputs": [
    {
     "data": {
      "text/plain": [
       "(29, 77)"
      ]
     },
     "execution_count": 124,
     "metadata": {},
     "output_type": "execute_result"
    }
   ],
   "source": [
    "df['age'].min(), df['age'].max()"
   ]
  },
  {
   "cell_type": "code",
   "execution_count": 125,
   "id": "a88b62f8",
   "metadata": {},
   "outputs": [
    {
     "data": {
      "text/plain": [
       "count    1025.000000\n",
       "mean       54.434146\n",
       "std         9.072290\n",
       "min        29.000000\n",
       "25%        48.000000\n",
       "50%        56.000000\n",
       "75%        61.000000\n",
       "max        77.000000\n",
       "Name: age, dtype: float64"
      ]
     },
     "execution_count": 125,
     "metadata": {},
     "output_type": "execute_result"
    }
   ],
   "source": [
    "df['age'].describe()"
   ]
  },
  {
   "cell_type": "code",
   "execution_count": 126,
   "id": "a8ed7241",
   "metadata": {},
   "outputs": [
    {
     "data": {
      "text/html": [
       "<div>\n",
       "<style scoped>\n",
       "    .dataframe tbody tr th:only-of-type {\n",
       "        vertical-align: middle;\n",
       "    }\n",
       "\n",
       "    .dataframe tbody tr th {\n",
       "        vertical-align: top;\n",
       "    }\n",
       "\n",
       "    .dataframe thead th {\n",
       "        text-align: right;\n",
       "    }\n",
       "</style>\n",
       "<table border=\"1\" class=\"dataframe\">\n",
       "  <thead>\n",
       "    <tr style=\"text-align: right;\">\n",
       "      <th></th>\n",
       "      <th>age</th>\n",
       "      <th>sex</th>\n",
       "      <th>cp</th>\n",
       "      <th>trestbps</th>\n",
       "      <th>chol</th>\n",
       "      <th>fbs</th>\n",
       "      <th>restecg</th>\n",
       "      <th>thalach</th>\n",
       "      <th>exang</th>\n",
       "      <th>oldpeak</th>\n",
       "      <th>slope</th>\n",
       "      <th>ca</th>\n",
       "      <th>thal</th>\n",
       "      <th>target</th>\n",
       "    </tr>\n",
       "  </thead>\n",
       "  <tbody>\n",
       "    <tr>\n",
       "      <th>count</th>\n",
       "      <td>1025.000000</td>\n",
       "      <td>1025.000000</td>\n",
       "      <td>1025.000000</td>\n",
       "      <td>1025.000000</td>\n",
       "      <td>1025.00000</td>\n",
       "      <td>1025.000000</td>\n",
       "      <td>1025.000000</td>\n",
       "      <td>1025.000000</td>\n",
       "      <td>1025.000000</td>\n",
       "      <td>1025.000000</td>\n",
       "      <td>1025.000000</td>\n",
       "      <td>1025.000000</td>\n",
       "      <td>1025.000000</td>\n",
       "      <td>1025.000000</td>\n",
       "    </tr>\n",
       "    <tr>\n",
       "      <th>mean</th>\n",
       "      <td>54.434146</td>\n",
       "      <td>0.695610</td>\n",
       "      <td>0.942439</td>\n",
       "      <td>131.611707</td>\n",
       "      <td>246.00000</td>\n",
       "      <td>0.149268</td>\n",
       "      <td>0.529756</td>\n",
       "      <td>149.114146</td>\n",
       "      <td>0.336585</td>\n",
       "      <td>1.071512</td>\n",
       "      <td>1.385366</td>\n",
       "      <td>0.754146</td>\n",
       "      <td>2.323902</td>\n",
       "      <td>0.513171</td>\n",
       "    </tr>\n",
       "    <tr>\n",
       "      <th>std</th>\n",
       "      <td>9.072290</td>\n",
       "      <td>0.460373</td>\n",
       "      <td>1.029641</td>\n",
       "      <td>17.516718</td>\n",
       "      <td>51.59251</td>\n",
       "      <td>0.356527</td>\n",
       "      <td>0.527878</td>\n",
       "      <td>23.005724</td>\n",
       "      <td>0.472772</td>\n",
       "      <td>1.175053</td>\n",
       "      <td>0.617755</td>\n",
       "      <td>1.030798</td>\n",
       "      <td>0.620660</td>\n",
       "      <td>0.500070</td>\n",
       "    </tr>\n",
       "    <tr>\n",
       "      <th>min</th>\n",
       "      <td>29.000000</td>\n",
       "      <td>0.000000</td>\n",
       "      <td>0.000000</td>\n",
       "      <td>94.000000</td>\n",
       "      <td>126.00000</td>\n",
       "      <td>0.000000</td>\n",
       "      <td>0.000000</td>\n",
       "      <td>71.000000</td>\n",
       "      <td>0.000000</td>\n",
       "      <td>0.000000</td>\n",
       "      <td>0.000000</td>\n",
       "      <td>0.000000</td>\n",
       "      <td>0.000000</td>\n",
       "      <td>0.000000</td>\n",
       "    </tr>\n",
       "    <tr>\n",
       "      <th>25%</th>\n",
       "      <td>48.000000</td>\n",
       "      <td>0.000000</td>\n",
       "      <td>0.000000</td>\n",
       "      <td>120.000000</td>\n",
       "      <td>211.00000</td>\n",
       "      <td>0.000000</td>\n",
       "      <td>0.000000</td>\n",
       "      <td>132.000000</td>\n",
       "      <td>0.000000</td>\n",
       "      <td>0.000000</td>\n",
       "      <td>1.000000</td>\n",
       "      <td>0.000000</td>\n",
       "      <td>2.000000</td>\n",
       "      <td>0.000000</td>\n",
       "    </tr>\n",
       "    <tr>\n",
       "      <th>50%</th>\n",
       "      <td>56.000000</td>\n",
       "      <td>1.000000</td>\n",
       "      <td>1.000000</td>\n",
       "      <td>130.000000</td>\n",
       "      <td>240.00000</td>\n",
       "      <td>0.000000</td>\n",
       "      <td>1.000000</td>\n",
       "      <td>152.000000</td>\n",
       "      <td>0.000000</td>\n",
       "      <td>0.800000</td>\n",
       "      <td>1.000000</td>\n",
       "      <td>0.000000</td>\n",
       "      <td>2.000000</td>\n",
       "      <td>1.000000</td>\n",
       "    </tr>\n",
       "    <tr>\n",
       "      <th>75%</th>\n",
       "      <td>61.000000</td>\n",
       "      <td>1.000000</td>\n",
       "      <td>2.000000</td>\n",
       "      <td>140.000000</td>\n",
       "      <td>275.00000</td>\n",
       "      <td>0.000000</td>\n",
       "      <td>1.000000</td>\n",
       "      <td>166.000000</td>\n",
       "      <td>1.000000</td>\n",
       "      <td>1.800000</td>\n",
       "      <td>2.000000</td>\n",
       "      <td>1.000000</td>\n",
       "      <td>3.000000</td>\n",
       "      <td>1.000000</td>\n",
       "    </tr>\n",
       "    <tr>\n",
       "      <th>max</th>\n",
       "      <td>77.000000</td>\n",
       "      <td>1.000000</td>\n",
       "      <td>3.000000</td>\n",
       "      <td>200.000000</td>\n",
       "      <td>564.00000</td>\n",
       "      <td>1.000000</td>\n",
       "      <td>2.000000</td>\n",
       "      <td>202.000000</td>\n",
       "      <td>1.000000</td>\n",
       "      <td>6.200000</td>\n",
       "      <td>2.000000</td>\n",
       "      <td>4.000000</td>\n",
       "      <td>3.000000</td>\n",
       "      <td>1.000000</td>\n",
       "    </tr>\n",
       "  </tbody>\n",
       "</table>\n",
       "</div>"
      ],
      "text/plain": [
       "               age          sex           cp     trestbps        chol  \\\n",
       "count  1025.000000  1025.000000  1025.000000  1025.000000  1025.00000   \n",
       "mean     54.434146     0.695610     0.942439   131.611707   246.00000   \n",
       "std       9.072290     0.460373     1.029641    17.516718    51.59251   \n",
       "min      29.000000     0.000000     0.000000    94.000000   126.00000   \n",
       "25%      48.000000     0.000000     0.000000   120.000000   211.00000   \n",
       "50%      56.000000     1.000000     1.000000   130.000000   240.00000   \n",
       "75%      61.000000     1.000000     2.000000   140.000000   275.00000   \n",
       "max      77.000000     1.000000     3.000000   200.000000   564.00000   \n",
       "\n",
       "               fbs      restecg      thalach        exang      oldpeak  \\\n",
       "count  1025.000000  1025.000000  1025.000000  1025.000000  1025.000000   \n",
       "mean      0.149268     0.529756   149.114146     0.336585     1.071512   \n",
       "std       0.356527     0.527878    23.005724     0.472772     1.175053   \n",
       "min       0.000000     0.000000    71.000000     0.000000     0.000000   \n",
       "25%       0.000000     0.000000   132.000000     0.000000     0.000000   \n",
       "50%       0.000000     1.000000   152.000000     0.000000     0.800000   \n",
       "75%       0.000000     1.000000   166.000000     1.000000     1.800000   \n",
       "max       1.000000     2.000000   202.000000     1.000000     6.200000   \n",
       "\n",
       "             slope           ca         thal       target  \n",
       "count  1025.000000  1025.000000  1025.000000  1025.000000  \n",
       "mean      1.385366     0.754146     2.323902     0.513171  \n",
       "std       0.617755     1.030798     0.620660     0.500070  \n",
       "min       0.000000     0.000000     0.000000     0.000000  \n",
       "25%       1.000000     0.000000     2.000000     0.000000  \n",
       "50%       1.000000     0.000000     2.000000     1.000000  \n",
       "75%       2.000000     1.000000     3.000000     1.000000  \n",
       "max       2.000000     4.000000     3.000000     1.000000  "
      ]
     },
     "execution_count": 126,
     "metadata": {},
     "output_type": "execute_result"
    }
   ],
   "source": [
    "df.describe()"
   ]
  },
  {
   "cell_type": "code",
   "execution_count": 127,
   "id": "450c6df1",
   "metadata": {},
   "outputs": [
    {
     "data": {
      "image/png": "[encoded data removed]",
      "text/plain": [
       "<Figure size 640x480 with 1 Axes>"
      ]
     },
     "metadata": {},
     "output_type": "display_data"
    }
   ],
   "source": [
    "import matplotlib.pyplot as plt\n",
    "import seaborn as sns\n",
    "\n",
    "sns.countplot(x='target', data=df, palette='Set2')\n",
    "plt.title('Heart Disease Distribution (Target Variable)')\n",
    "plt.xlabel('Target (1 = Disease, 0 = No Disease)')\n",
    "plt.ylabel('Count')\n",
    "plt.show()"
   ]
  },
  {
   "cell_type": "code",
   "execution_count": 128,
   "id": "8529ce1f",
   "metadata": {},
   "outputs": [
    {
     "data": {
      "image/png": "[encoded data removed]",
      "text/plain": [
       "<Figure size 1000x600 with 2 Axes>"
      ]
     },
     "metadata": {},
     "output_type": "display_data"
    }
   ],
   "source": [
    "plt.figure(figsize=(10,6))\n",
    "sns.heatmap(df.corr(), annot=True, fmt=\".2f\", cmap='coolwarm')\n",
    "plt.title('Feature Correlation Heatmap')\n",
    "plt.show()"
   ]
  },
  {
   "cell_type": "code",
   "execution_count": 129,
   "id": "81358676",
   "metadata": {},
   "outputs": [
    {
     "data": {
      "text/plain": [
       "<Axes: xlabel='age', ylabel='Count'>"
      ]
     },
     "execution_count": 129,
     "metadata": {},
     "output_type": "execute_result"
    },
    {
     "data": {
      "image/png": "[encoded data removed]",
      "text/plain": [
       "<Figure size 640x480 with 1 Axes>"
      ]
     },
     "metadata": {},
     "output_type": "display_data"
    }
   ],
   "source": [
    "sns.histplot(df['age'], kde=True)"
   ]
  },
  {
   "cell_type": "code",
   "execution_count": 130,
   "id": "52fa86e1",
   "metadata": {},
   "outputs": [
    {
     "name": "stdout",
     "output_type": "stream",
     "text": [
      "Mean: 54.43414634146342\n",
      "Median: 56.0\n",
      "Mode: 58\n"
     ]
    },
    {
     "data": {
      "image/png": "[encoded data removed]",
      "text/plain": [
       "<Figure size 640x480 with 1 Axes>"
      ]
     },
     "metadata": {},
     "output_type": "display_data"
    }
   ],
   "source": [
    "sns.histplot(df['age'], kde=True)\n",
    "plt.axvline(df['age'].mean(), color='red')\n",
    "plt.axvline(df['age'].median(), color='green')\n",
    "plt.axvline(df['age'].mode()[0], color='blue')\n",
    "\n",
    "# print the value of mean, median and mode of age column\n",
    "print('Mean:', df['age'].mean())\n",
    "print('Median:', df['age'].median())\n",
    "print('Mode:', df['age'].mode()[0])"
   ]
  },
  {
   "cell_type": "code",
   "execution_count": 131,
   "id": "76f6c914",
   "metadata": {},
   "outputs": [
    {
     "data": {
      "application/vnd.plotly.v1+json": {
       "config": {
        "plotlyServerURL": "https://plot.ly"
       },
       "data": [
        {
         "alignmentgroup": "True",
         "bingroup": "x",
         "hovertemplate": "sex=1<br>age=%{x}<br>count=%{y}<extra></extra>",
         "legendgroup": "1",
         "marker": {
          "color": "#636efa",
          "pattern": {
           "shape": ""
          }
         },
         "name": "1",
         "offsetgroup": "1",
         "orientation": "v",
         "showlegend": true,
         "type": "histogram",
         "x": [
          52,
          53,
          70,
          61,
          58,
          55,
          46,
          54,
          51,
          52,
          54,
          58,
          60,
          45,
          44,
          56,
          44,
          57,
          70,
          50,
          46,
          51,
          59,
          64,
          57,
          54,
          46,
          42,
          41,
          60,
          38,
          49,
          55,
          55,
          56,
          48,
          67,
          57,
          29,
          67,
          59,
          29,
          59,
          53,
          42,
          59,
          61,
          56,
          59,
          48,
          47,
          48,
          63,
          52,
          52,
          50,
          49,
          46,
          38,
          44,
          58,
          68,
          63,
          44,
          62,
          53,
          65,
          57,
          54,
          47,
          52,
          47,
          51,
          62,
          40,
          54,
          44,
          53,
          48,
          57,
          59,
          63,
          43,
          29,
          42,
          54,
          44,
          60,
          61,
          66,
          53,
          52,
          57,
          41,
          50,
          54,
          47,
          41,
          57,
          61,
          34,
          47,
          40,
          41,
          52,
          39,
          58,
          54,
          58,
          54,
          63,
          54,
          40,
          54,
          41,
          77,
          51,
          77,
          48,
          56,
          59,
          56,
          43,
          43,
          56,
          56,
          54,
          56,
          64,
          44,
          63,
          64,
          60,
          42,
          45,
          57,
          40,
          56,
          63,
          64,
          41,
          56,
          69,
          67,
          59,
          58,
          45,
          50,
          34,
          52,
          64,
          42,
          59,
          41,
          38,
          62,
          42,
          67,
          50,
          43,
          45,
          49,
          65,
          41,
          46,
          54,
          63,
          64,
          51,
          54,
          49,
          52,
          58,
          56,
          60,
          64,
          49,
          57,
          60,
          67,
          38,
          60,
          51,
          44,
          54,
          46,
          42,
          47,
          55,
          57,
          35,
          38,
          66,
          44,
          54,
          48,
          45,
          53,
          67,
          58,
          43,
          44,
          54,
          66,
          56,
          57,
          44,
          55,
          35,
          64,
          58,
          40,
          52,
          58,
          61,
          59,
          67,
          67,
          58,
          35,
          52,
          51,
          60,
          62,
          44,
          59,
          61,
          48,
          70,
          40,
          42,
          59,
          45,
          66,
          48,
          54,
          57,
          70,
          37,
          60,
          58,
          57,
          54,
          56,
          60,
          38,
          44,
          52,
          41,
          66,
          50,
          43,
          66,
          50,
          57,
          57,
          57,
          59,
          67,
          59,
          48,
          62,
          53,
          53,
          58,
          48,
          58,
          51,
          55,
          58,
          66,
          59,
          67,
          52,
          58,
          58,
          59,
          58,
          35,
          51,
          77,
          64,
          63,
          45,
          51,
          63,
          68,
          40,
          66,
          63,
          49,
          70,
          61,
          56,
          58,
          58,
          46,
          56,
          57,
          70,
          59,
          54,
          52,
          45,
          57,
          43,
          47,
          67,
          37,
          67,
          47,
          58,
          60,
          57,
          57,
          47,
          52,
          53,
          55,
          52,
          69,
          47,
          43,
          51,
          69,
          48,
          52,
          43,
          38,
          44,
          47,
          61,
          67,
          41,
          48,
          57,
          57,
          57,
          39,
          58,
          51,
          35,
          65,
          62,
          41,
          65,
          61,
          57,
          64,
          55,
          51,
          59,
          68,
          57,
          54,
          47,
          61,
          43,
          44,
          54,
          44,
          49,
          60,
          49,
          61,
          59,
          58,
          61,
          58,
          59,
          69,
          52,
          46,
          64,
          58,
          44,
          59,
          54,
          48,
          70,
          68,
          69,
          54,
          53,
          58,
          67,
          59,
          48,
          67,
          44,
          56,
          41,
          42,
          60,
          34,
          44,
          60,
          43,
          52,
          70,
          58,
          46,
          44,
          55,
          43,
          55,
          40,
          64,
          59,
          54,
          70,
          64,
          61,
          59,
          38,
          58,
          46,
          47,
          66,
          42,
          64,
          55,
          43,
          49,
          65,
          57,
          48,
          61,
          59,
          69,
          58,
          38,
          65,
          45,
          49,
          61,
          52,
          65,
          64,
          65,
          44,
          50,
          47,
          62,
          41,
          56,
          41,
          64,
          59,
          61,
          58,
          47,
          35,
          57,
          29,
          66,
          52,
          68,
          54,
          63,
          58,
          60,
          63,
          68,
          42,
          59,
          59,
          43,
          60,
          52,
          58,
          58,
          53,
          39,
          35,
          67,
          66,
          35,
          41,
          35,
          57,
          51,
          58,
          57,
          45,
          56,
          35,
          51,
          70,
          56,
          52,
          64,
          45,
          48,
          56,
          46,
          44,
          52,
          51,
          52,
          50,
          59,
          67,
          58,
          52,
          44,
          63,
          58,
          51,
          64,
          60,
          44,
          58,
          55,
          48,
          65,
          48,
          64,
          66,
          57,
          56,
          63,
          57,
          57,
          68,
          46,
          41,
          51,
          53,
          59,
          44,
          58,
          56,
          54,
          55,
          67,
          51,
          62,
          54,
          54,
          68,
          61,
          62,
          41,
          59,
          43,
          67,
          63,
          52,
          53,
          57,
          44,
          51,
          40,
          57,
          53,
          62,
          58,
          70,
          45,
          42,
          61,
          60,
          54,
          61,
          42,
          57,
          44,
          54,
          51,
          58,
          68,
          55,
          42,
          49,
          52,
          51,
          51,
          70,
          58,
          59,
          60,
          56,
          61,
          52,
          58,
          37,
          52,
          67,
          65,
          46,
          43,
          51,
          52,
          64,
          59,
          52,
          59,
          41,
          41,
          56,
          56,
          39,
          64,
          57,
          59,
          60,
          61,
          54,
          59,
          57,
          57,
          57,
          48,
          70,
          57,
          61,
          57,
          54,
          52,
          51,
          59,
          52,
          59,
          61,
          59,
          55,
          64,
          42,
          62,
          50,
          50,
          35,
          45,
          66,
          46,
          65,
          47,
          59,
          38,
          39,
          58,
          44,
          54,
          57,
          54,
          42,
          54,
          60,
          65,
          40,
          38,
          42,
          56,
          43,
          64,
          53,
          65,
          56,
          70,
          57,
          67,
          62,
          50,
          52,
          58,
          53,
          52,
          38,
          52,
          52,
          51,
          43,
          39,
          52,
          44,
          45,
          57,
          39,
          64,
          59,
          62,
          57,
          60,
          56,
          60,
          43,
          59,
          44,
          54,
          42,
          67,
          64,
          42,
          66,
          52,
          58,
          56,
          42,
          40,
          51,
          45,
          48,
          58,
          58,
          65,
          53,
          41,
          47,
          59,
          60,
          47,
          54
         ],
         "xaxis": "x",
         "yaxis": "y"
        },
        {
         "alignmentgroup": "True",
         "bingroup": "x",
         "hovertemplate": "sex=0<br>age=%{x}<br>count=%{y}<extra></extra>",
         "legendgroup": "0",
         "marker": {
          "color": "#EF553B",
          "pattern": {
           "shape": ""
          }
         },
         "name": "0",
         "offsetgroup": "0",
         "orientation": "v",
         "showlegend": true,
         "type": "histogram",
         "x": [
          62,
          58,
          71,
          43,
          34,
          34,
          51,
          50,
          67,
          63,
          42,
          61,
          58,
          55,
          50,
          65,
          61,
          55,
          66,
          66,
          58,
          57,
          66,
          37,
          62,
          37,
          59,
          62,
          54,
          62,
          45,
          57,
          76,
          43,
          61,
          65,
          60,
          60,
          51,
          58,
          55,
          64,
          63,
          51,
          67,
          57,
          45,
          39,
          56,
          56,
          67,
          60,
          62,
          66,
          57,
          39,
          44,
          66,
          41,
          49,
          62,
          54,
          39,
          45,
          62,
          35,
          64,
          55,
          58,
          71,
          39,
          41,
          45,
          41,
          71,
          64,
          71,
          58,
          56,
          46,
          55,
          52,
          44,
          56,
          74,
          64,
          63,
          53,
          53,
          48,
          56,
          53,
          37,
          63,
          54,
          65,
          54,
          62,
          46,
          53,
          43,
          57,
          43,
          54,
          46,
          64,
          42,
          58,
          62,
          66,
          71,
          46,
          46,
          41,
          41,
          62,
          65,
          57,
          42,
          57,
          58,
          51,
          54,
          65,
          60,
          41,
          57,
          59,
          62,
          51,
          63,
          49,
          66,
          49,
          65,
          39,
          67,
          60,
          64,
          58,
          51,
          63,
          54,
          57,
          46,
          71,
          35,
          46,
          45,
          44,
          41,
          56,
          55,
          54,
          41,
          67,
          51,
          62,
          62,
          60,
          65,
          63,
          53,
          54,
          76,
          50,
          62,
          67,
          51,
          43,
          39,
          58,
          65,
          42,
          53,
          50,
          54,
          54,
          62,
          61,
          74,
          63,
          63,
          63,
          62,
          58,
          63,
          71,
          55,
          43,
          55,
          58,
          51,
          50,
          41,
          62,
          69,
          45,
          53,
          59,
          58,
          58,
          46,
          56,
          64,
          71,
          45,
          66,
          41,
          57,
          39,
          58,
          66,
          65,
          61,
          41,
          63,
          56,
          54,
          55,
          63,
          50,
          71,
          56,
          60,
          45,
          66,
          55,
          55,
          67,
          68,
          74,
          60,
          55,
          44,
          41,
          60,
          65,
          51,
          46,
          61,
          49,
          58,
          71,
          45,
          62,
          65,
          48,
          61,
          34,
          64,
          62,
          60,
          65,
          63,
          58,
          54,
          62,
          58,
          62,
          63,
          53,
          35,
          35,
          58,
          68,
          68,
          60,
          48,
          43,
          60,
          63,
          55,
          64,
          62,
          42,
          42,
          62,
          50,
          58,
          61,
          51,
          49,
          57,
          52,
          69,
          66,
          67,
          54,
          62,
          54,
          45,
          53,
          49,
          65,
          69,
          52,
          58,
          57,
          44,
          76,
          60,
          63,
          67,
          55,
          71,
          50,
          56,
          51,
          55,
          44,
          50
         ],
         "xaxis": "x",
         "yaxis": "y"
        }
       ],
       "layout": {
        "barmode": "relative",
        "legend": {
         "title": {
          "text": "sex"
         },
         "tracegroupgap": 0
        },
        "margin": {
         "t": 60
        },
        "template": {
         "data": {
          "bar": [
           {
            "error_x": {
             "color": "#2a3f5f"
            },
            "error_y": {
             "color": "#2a3f5f"
            },
            "marker": {
             "line": {
              "color": "#E5ECF6",
              "width": 0.5
             },
             "pattern": {
              "fillmode": "overlay",
              "size": 10,
              "solidity": 0.2
             }
            },
            "type": "bar"
           }
          ],
          "barpolar": [
           {
            "marker": {
             "line": {
              "color": "#E5ECF6",
              "width": 0.5
             },
             "pattern": {
              "fillmode": "overlay",
              "size": 10,
              "solidity": 0.2
             }
            },
            "type": "barpolar"
           }
          ],
          "carpet": [
           {
            "aaxis": {
             "endlinecolor": "#2a3f5f",
             "gridcolor": "white",
             "linecolor": "white",
             "minorgridcolor": "white",
             "startlinecolor": "#2a3f5f"
            },
            "baxis": {
             "endlinecolor": "#2a3f5f",
             "gridcolor": "white",
             "linecolor": "white",
             "minorgridcolor": "white",
             "startlinecolor": "#2a3f5f"
            },
            "type": "carpet"
           }
          ],
          "choropleth": [
           {
            "colorbar": {
             "outlinewidth": 0,
             "ticks": ""
            },
            "type": "choropleth"
           }
          ],
          "contour": [
           {
            "colorbar": {
             "outlinewidth": 0,
             "ticks": ""
            },
            "colorscale": [
             [
              0,
              "#0d0887"
             ],
             [
              0.1111111111111111,
              "#46039f"
             ],
             [
              0.2222222222222222,
              "#7201a8"
             ],
             [
              0.3333333333333333,
              "#9c179e"
             ],
             [
              0.4444444444444444,
              "#bd3786"
             ],
             [
              0.5555555555555556,
              "#d8576b"
             ],
             [
              0.6666666666666666,
              "#ed7953"
             ],
             [
              0.7777777777777778,
              "#fb9f3a"
             ],
             [
              0.8888888888888888,
              "#fdca26"
             ],
             [
              1,
              "#f0f921"
             ]
            ],
            "type": "contour"
           }
          ],
          "contourcarpet": [
           {
            "colorbar": {
             "outlinewidth": 0,
             "ticks": ""
            },
            "type": "contourcarpet"
           }
          ],
          "heatmap": [
           {
            "colorbar": {
             "outlinewidth": 0,
             "ticks": ""
            },
            "colorscale": [
             [
              0,
              "#0d0887"
             ],
             [
              0.1111111111111111,
              "#46039f"
             ],
             [
              0.2222222222222222,
              "#7201a8"
             ],
             [
              0.3333333333333333,
              "#9c179e"
             ],
             [
              0.4444444444444444,
              "#bd3786"
             ],
             [
              0.5555555555555556,
              "#d8576b"
             ],
             [
              0.6666666666666666,
              "#ed7953"
             ],
             [
              0.7777777777777778,
              "#fb9f3a"
             ],
             [
              0.8888888888888888,
              "#fdca26"
             ],
             [
              1,
              "#f0f921"
             ]
            ],
            "type": "heatmap"
           }
          ],
          "heatmapgl": [
           {
            "colorbar": {
             "outlinewidth": 0,
             "ticks": ""
            },
            "colorscale": [
             [
              0,
              "#0d0887"
             ],
             [
              0.1111111111111111,
              "#46039f"
             ],
             [
              0.2222222222222222,
              "#7201a8"
             ],
             [
              0.3333333333333333,
              "#9c179e"
             ],
             [
              0.4444444444444444,
              "#bd3786"
             ],
             [
              0.5555555555555556,
              "#d8576b"
             ],
             [
              0.6666666666666666,
              "#ed7953"
             ],
             [
              0.7777777777777778,
              "#fb9f3a"
             ],
             [
              0.8888888888888888,
              "#fdca26"
             ],
             [
              1,
              "#f0f921"
             ]
            ],
            "type": "heatmapgl"
           }
          ],
          "histogram": [
           {
            "marker": {
             "pattern": {
              "fillmode": "overlay",
              "size": 10,
              "solidity": 0.2
             }
            },
            "type": "histogram"
           }
          ],
          "histogram2d": [
           {
            "colorbar": {
             "outlinewidth": 0,
             "ticks": ""
            },
            "colorscale": [
             [
              0,
              "#0d0887"
             ],
             [
              0.1111111111111111,
              "#46039f"
             ],
             [
              0.2222222222222222,
              "#7201a8"
             ],
             [
              0.3333333333333333,
              "#9c179e"
             ],
             [
              0.4444444444444444,
              "#bd3786"
             ],
             [
              0.5555555555555556,
              "#d8576b"
             ],
             [
              0.6666666666666666,
              "#ed7953"
             ],
             [
              0.7777777777777778,
              "#fb9f3a"
             ],
             [
              0.8888888888888888,
              "#fdca26"
             ],
             [
              1,
              "#f0f921"
             ]
            ],
            "type": "histogram2d"
           }
          ],
          "histogram2dcontour": [
           {
            "colorbar": {
             "outlinewidth": 0,
             "ticks": ""
            },
            "colorscale": [
             [
              0,
              "#0d0887"
             ],
             [
              0.1111111111111111,
              "#46039f"
             ],
             [
              0.2222222222222222,
              "#7201a8"
             ],
             [
              0.3333333333333333,
              "#9c179e"
             ],
             [
              0.4444444444444444,
              "#bd3786"
             ],
             [
              0.5555555555555556,
              "#d8576b"
             ],
             [
              0.6666666666666666,
              "#ed7953"
             ],
             [
              0.7777777777777778,
              "#fb9f3a"
             ],
             [
              0.8888888888888888,
              "#fdca26"
             ],
             [
              1,
              "#f0f921"
             ]
            ],
            "type": "histogram2dcontour"
           }
          ],
          "mesh3d": [
           {
            "colorbar": {
             "outlinewidth": 0,
             "ticks": ""
            },
            "type": "mesh3d"
           }
          ],
          "parcoords": [
           {
            "line": {
             "colorbar": {
              "outlinewidth": 0,
              "ticks": ""
             }
            },
            "type": "parcoords"
           }
          ],
          "pie": [
           {
            "automargin": true,
            "type": "pie"
           }
          ],
          "scatter": [
           {
            "fillpattern": {
             "fillmode": "overlay",
             "size": 10,
             "solidity": 0.2
            },
            "type": "scatter"
           }
          ],
          "scatter3d": [
           {
            "line": {
             "colorbar": {
              "outlinewidth": 0,
              "ticks": ""
             }
            },
            "marker": {
             "colorbar": {
              "outlinewidth": 0,
              "ticks": ""
             }
            },
            "type": "scatter3d"
           }
          ],
          "scattercarpet": [
           {
            "marker": {
             "colorbar": {
              "outlinewidth": 0,
              "ticks": ""
             }
            },
            "type": "scattercarpet"
           }
          ],
          "scattergeo": [
           {
            "marker": {
             "colorbar": {
              "outlinewidth": 0,
              "ticks": ""
             }
            },
            "type": "scattergeo"
           }
          ],
          "scattergl": [
           {
            "marker": {
             "colorbar": {
              "outlinewidth": 0,
              "ticks": ""
             }
            },
            "type": "scattergl"
           }
          ],
          "scattermapbox": [
           {
            "marker": {
             "colorbar": {
              "outlinewidth": 0,
              "ticks": ""
             }
            },
            "type": "scattermapbox"
           }
          ],
          "scatterpolar": [
           {
            "marker": {
             "colorbar": {
              "outlinewidth": 0,
              "ticks": ""
             }
            },
            "type": "scatterpolar"
           }
          ],
          "scatterpolargl": [
           {
            "marker": {
             "colorbar": {
              "outlinewidth": 0,
              "ticks": ""
             }
            },
            "type": "scatterpolargl"
           }
          ],
          "scatterternary": [
           {
            "marker": {
             "colorbar": {
              "outlinewidth": 0,
              "ticks": ""
             }
            },
            "type": "scatterternary"
           }
          ],
          "surface": [
           {
            "colorbar": {
             "outlinewidth": 0,
             "ticks": ""
            },
            "colorscale": [
             [
              0,
              "#0d0887"
             ],
             [
              0.1111111111111111,
              "#46039f"
             ],
             [
              0.2222222222222222,
              "#7201a8"
             ],
             [
              0.3333333333333333,
              "#9c179e"
             ],
             [
              0.4444444444444444,
              "#bd3786"
             ],
             [
              0.5555555555555556,
              "#d8576b"
             ],
             [
              0.6666666666666666,
              "#ed7953"
             ],
             [
              0.7777777777777778,
              "#fb9f3a"
             ],
             [
              0.8888888888888888,
              "#fdca26"
             ],
             [
              1,
              "#f0f921"
             ]
            ],
            "type": "surface"
           }
          ],
          "table": [
           {
            "cells": {
             "fill": {
              "color": "#EBF0F8"
             },
             "line": {
              "color": "white"
             }
            },
            "header": {
             "fill": {
              "color": "#C8D4E3"
             },
             "line": {
              "color": "white"
             }
            },
            "type": "table"
           }
          ]
         },
         "layout": {
          "annotationdefaults": {
           "arrowcolor": "#2a3f5f",
           "arrowhead": 0,
           "arrowwidth": 1
          },
          "autotypenumbers": "strict",
          "coloraxis": {
           "colorbar": {
            "outlinewidth": 0,
            "ticks": ""
           }
          },
          "colorscale": {
           "diverging": [
            [
             0,
             "#8e0152"
            ],
            [
             0.1,
             "#c51b7d"
            ],
            [
             0.2,
             "#de77ae"
            ],
            [
             0.3,
             "#f1b6da"
            ],
            [
             0.4,
             "#fde0ef"
            ],
            [
             0.5,
             "#f7f7f7"
            ],
            [
             0.6,
             "#e6f5d0"
            ],
            [
             0.7,
             "#b8e186"
            ],
            [
             0.8,
             "#7fbc41"
            ],
            [
             0.9,
             "#4d9221"
            ],
            [
             1,
             "#276419"
            ]
           ],
           "sequential": [
            [
             0,
             "#0d0887"
            ],
            [
             0.1111111111111111,
             "#46039f"
            ],
            [
             0.2222222222222222,
             "#7201a8"
            ],
            [
             0.3333333333333333,
             "#9c179e"
            ],
            [
             0.4444444444444444,
             "#bd3786"
            ],
            [
             0.5555555555555556,
             "#d8576b"
            ],
            [
             0.6666666666666666,
             "#ed7953"
            ],
            [
             0.7777777777777778,
             "#fb9f3a"
            ],
            [
             0.8888888888888888,
             "#fdca26"
            ],
            [
             1,
             "#f0f921"
            ]
           ],
           "sequentialminus": [
            [
             0,
             "#0d0887"
            ],
            [
             0.1111111111111111,
             "#46039f"
            ],
            [
             0.2222222222222222,
             "#7201a8"
            ],
            [
             0.3333333333333333,
             "#9c179e"
            ],
            [
             0.4444444444444444,
             "#bd3786"
            ],
            [
             0.5555555555555556,
             "#d8576b"
            ],
            [
             0.6666666666666666,
             "#ed7953"
            ],
            [
             0.7777777777777778,
             "#fb9f3a"
            ],
            [
             0.8888888888888888,
             "#fdca26"
            ],
            [
             1,
             "#f0f921"
            ]
           ]
          },
          "colorway": [
           "#636efa",
           "#EF553B",
           "#00cc96",
           "#ab63fa",
           "#FFA15A",
           "#19d3f3",
           "#FF6692",
           "#B6E880",
           "#FF97FF",
           "#FECB52"
          ],
          "font": {
           "color": "#2a3f5f"
          },
          "geo": {
           "bgcolor": "white",
           "lakecolor": "white",
           "landcolor": "#E5ECF6",
           "showlakes": true,
           "showland": true,
           "subunitcolor": "white"
          },
          "hoverlabel": {
           "align": "left"
          },
          "hovermode": "closest",
          "mapbox": {
           "style": "light"
          },
          "paper_bgcolor": "white",
          "plot_bgcolor": "#E5ECF6",
          "polar": {
           "angularaxis": {
            "gridcolor": "white",
            "linecolor": "white",
            "ticks": ""
           },
           "bgcolor": "#E5ECF6",
           "radialaxis": {
            "gridcolor": "white",
            "linecolor": "white",
            "ticks": ""
           }
          },
          "scene": {
           "xaxis": {
            "backgroundcolor": "#E5ECF6",
            "gridcolor": "white",
            "gridwidth": 2,
            "linecolor": "white",
            "showbackground": true,
            "ticks": "",
            "zerolinecolor": "white"
           },
           "yaxis": {
            "backgroundcolor": "#E5ECF6",
            "gridcolor": "white",
            "gridwidth": 2,
            "linecolor": "white",
            "showbackground": true,
            "ticks": "",
            "zerolinecolor": "white"
           },
           "zaxis": {
            "backgroundcolor": "#E5ECF6",
            "gridcolor": "white",
            "gridwidth": 2,
            "linecolor": "white",
            "showbackground": true,
            "ticks": "",
            "zerolinecolor": "white"
           }
          },
          "shapedefaults": {
           "line": {
            "color": "#2a3f5f"
           }
          },
          "ternary": {
           "aaxis": {
            "gridcolor": "white",
            "linecolor": "white",
            "ticks": ""
           },
           "baxis": {
            "gridcolor": "white",
            "linecolor": "white",
            "ticks": ""
           },
           "bgcolor": "#E5ECF6",
           "caxis": {
            "gridcolor": "white",
            "linecolor": "white",
            "ticks": ""
           }
          },
          "title": {
           "x": 0.05
          },
          "xaxis": {
           "automargin": true,
           "gridcolor": "white",
           "linecolor": "white",
           "ticks": "",
           "title": {
            "standoff": 15
           },
           "zerolinecolor": "white",
           "zerolinewidth": 2
          },
          "yaxis": {
           "automargin": true,
           "gridcolor": "white",
           "linecolor": "white",
           "ticks": "",
           "title": {
            "standoff": 15
           },
           "zerolinecolor": "white",
           "zerolinewidth": 2
          }
         }
        },
        "xaxis": {
         "anchor": "y",
         "domain": [
          0,
          1
         ],
         "title": {
          "text": "age"
         }
        },
        "yaxis": {
         "anchor": "x",
         "domain": [
          0,
          1
         ],
         "title": {
          "text": "count"
         }
        }
       }
      }
     },
     "metadata": {},
     "output_type": "display_data"
    }
   ],
   "source": [
    "import plotly.express as px\n",
    "\n",
    "fig = px.histogram(data_frame=df, x='age', color='sex')\n",
    "fig.show()\n"
   ]
  },
  {
   "cell_type": "code",
   "execution_count": 132,
   "id": "f0cf5a1f",
   "metadata": {},
   "outputs": [
    {
     "data": {
      "text/plain": [
       "sex\n",
       "1    713\n",
       "0    312\n",
       "Name: count, dtype: int64"
      ]
     },
     "execution_count": 132,
     "metadata": {},
     "output_type": "execute_result"
    }
   ],
   "source": [
    "df['sex'].value_counts()"
   ]
  },
  {
   "cell_type": "code",
   "execution_count": 133,
   "id": "2e6121da",
   "metadata": {},
   "outputs": [
    {
     "name": "stdout",
     "output_type": "stream",
     "text": [
      "Male percentage in the data: 69.56%\n",
      "Female Percentage in the data: 30.44%\n",
      "Males are 128.53% more than females in the data.\n"
     ]
    }
   ],
   "source": [
    "male_count = 713\n",
    "female_count = 312\n",
    "total_count = male_count + female_count\n",
    "\n",
    "# calculate percentages\n",
    "male_percentage = (male_count / total_count) * 100\n",
    "female_percentage = (female_count / total_count) * 100\n",
    "\n",
    "# display the results\n",
    "print(f\"Male percentage in the data: {male_percentage:.2f}%\")\n",
    "print(f\"Female Percentage in the data: {female_percentage:.2f}%\")\n",
    "\n",
    "# difference\n",
    "difference_percentage = ((male_count - female_count) / female_count) * 100\n",
    "print(f\"Males are {difference_percentage:.2f}% more than females in the data.\")"
   ]
  },
  {
   "cell_type": "code",
   "execution_count": 134,
   "id": "63dd7117",
   "metadata": {},
   "outputs": [
    {
     "data": {
      "image/png": "[encoded data removed]",
      "text/plain": [
       "<Figure size 1000x600 with 1 Axes>"
      ]
     },
     "metadata": {},
     "output_type": "display_data"
    }
   ],
   "source": [
    "plt.figure(figsize=(10,6))\n",
    "sns.histplot(data=df, x='age', hue='sex', multiple='stack', bins=20, palette='Set2')\n",
    "plt.title('Age Distribution by Sex')\n",
    "plt.xlabel('Age')\n",
    "plt.ylabel('Count')\n",
    "plt.show()"
   ]
  },
  {
   "cell_type": "code",
   "execution_count": 135,
   "id": "ee5f1248",
   "metadata": {},
   "outputs": [
    {
     "data": {
      "text/plain": [
       "sex  age\n",
       "0    62     24\n",
       "     58     21\n",
       "     63     17\n",
       "     54     15\n",
       "     55     15\n",
       "            ..\n",
       "1    69      6\n",
       "     29      4\n",
       "     34      3\n",
       "     37      3\n",
       "     77      3\n",
       "Name: count, Length: 73, dtype: int64"
      ]
     },
     "execution_count": 135,
     "metadata": {},
     "output_type": "execute_result"
    }
   ],
   "source": [
    "df.groupby('sex')['age'].value_counts()"
   ]
  },
  {
   "cell_type": "code",
   "execution_count": 136,
   "id": "62a34ff1",
   "metadata": {},
   "outputs": [
    {
     "data": {
      "text/plain": [
       "age          41\n",
       "sex           2\n",
       "cp            4\n",
       "trestbps     49\n",
       "chol        152\n",
       "fbs           2\n",
       "restecg       3\n",
       "thalach      91\n",
       "exang         2\n",
       "oldpeak      40\n",
       "slope         3\n",
       "ca            5\n",
       "thal          4\n",
       "target        2\n",
       "dtype: int64"
      ]
     },
     "execution_count": 136,
     "metadata": {},
     "output_type": "execute_result"
    }
   ],
   "source": [
    "# find the unique values in dataset column\n",
    "df.nunique()"
   ]
  },
  {
   "cell_type": "code",
   "execution_count": 137,
   "id": "d36fd3a0",
   "metadata": {},
   "outputs": [
    {
     "name": "stdout",
     "output_type": "stream",
     "text": [
      "age → [52 53 70 61 62 58 55 46 54 71 43 34 51 50 60 67 45 63 42 44 56 57 59 64\n",
      " 65 41 66 38 49 48 29 37 47 68 76 40 39 77 69 35 74]\n",
      "sex → [1 0]\n",
      "cp → [0 1 2 3]\n",
      "trestbps → [125 140 145 148 138 100 114 160 120 122 112 132 118 128 124 106 104 135\n",
      " 130 136 180 129 150 178 146 117 152 154 170 134 174 144 108 123 110 142\n",
      " 126 192 115  94 200 165 102 105 155 172 164 156 101]\n",
      "chol → [212 203 174 294 248 318 289 249 286 149 341 210 298 204 308 266 244 211\n",
      " 185 223 208 252 209 307 233 319 256 327 169 131 269 196 231 213 271 263\n",
      " 229 360 258 330 342 226 228 278 230 283 241 175 188 217 193 245 232 299\n",
      " 288 197 315 215 164 326 207 177 257 255 187 201 220 268 267 236 303 282\n",
      " 126 309 186 275 281 206 335 218 254 295 417 260 240 302 192 225 325 235\n",
      " 274 234 182 167 172 321 300 199 564 157 304 222 184 354 160 247 239 246\n",
      " 409 293 180 250 221 200 227 243 311 261 242 205 306 219 353 198 394 183\n",
      " 237 224 265 313 340 259 270 216 264 276 322 214 273 253 176 284 305 168\n",
      " 407 290 277 262 195 166 178 141]\n",
      "fbs → [0 1]\n",
      "restecg → [1 0 2]\n",
      "thalach → [168 155 125 161 106 122 140 145 144 116 136 192 156 142 109 162 165 148\n",
      " 172 173 146 179 152 117 115 112 163 147 182 105 150 151 169 166 178 132\n",
      " 160 123 139 111 180 164 202 157 159 170 138 175 158 126 143 141 167  95\n",
      " 190 118 103 181 108 177 134 120 171 149 154 153  88 174 114 195 133  96\n",
      " 124 131 185 194 128 127 186 184 188 130  71 137  99 121 187  97  90 129\n",
      " 113]\n",
      "exang → [0 1]\n",
      "oldpeak → [1.  3.1 2.6 0.  1.9 4.4 0.8 3.2 1.6 3.  0.7 4.2 1.5 2.2 1.1 0.3 0.4 0.6\n",
      " 3.4 2.8 1.2 2.9 3.6 1.4 0.2 2.  5.6 0.9 1.8 6.2 4.  2.5 0.5 0.1 2.1 2.4\n",
      " 3.8 2.3 1.3 3.5]\n",
      "slope → [2 0 1]\n",
      "ca → [2 0 1 3 4]\n",
      "thal → [3 2 1 0]\n",
      "target → [0 1]\n"
     ]
    }
   ],
   "source": [
    "for col in df.columns:\n",
    "    unique_vals = df[col].unique()\n",
    "    print(f\"{col} → {unique_vals}\")"
   ]
  },
  {
   "cell_type": "code",
   "execution_count": 138,
   "id": "bc6a8313",
   "metadata": {},
   "outputs": [
    {
     "name": "stdout",
     "output_type": "stream",
     "text": [
      "\n",
      "Value counts for age:\n",
      "age\n",
      "58    68\n",
      "57    57\n",
      "54    53\n",
      "59    46\n",
      "52    43\n",
      "51    39\n",
      "56    39\n",
      "62    37\n",
      "60    37\n",
      "44    36\n",
      "64    34\n",
      "41    32\n",
      "63    32\n",
      "67    31\n",
      "61    31\n",
      "55    30\n",
      "65    27\n",
      "43    26\n",
      "42    26\n",
      "53    26\n",
      "66    25\n",
      "45    25\n",
      "48    23\n",
      "46    23\n",
      "50    21\n",
      "47    18\n",
      "49    17\n",
      "35    15\n",
      "39    14\n",
      "70    14\n",
      "68    12\n",
      "38    12\n",
      "71    11\n",
      "40    11\n",
      "69     9\n",
      "37     6\n",
      "34     6\n",
      "29     4\n",
      "76     3\n",
      "77     3\n",
      "74     3\n",
      "Name: count, dtype: int64\n",
      "\n",
      "Value counts for sex:\n",
      "sex\n",
      "1    713\n",
      "0    312\n",
      "Name: count, dtype: int64\n",
      "\n",
      "Value counts for cp:\n",
      "cp\n",
      "0    497\n",
      "2    284\n",
      "1    167\n",
      "3     77\n",
      "Name: count, dtype: int64\n",
      "\n",
      "Value counts for trestbps:\n",
      "trestbps\n",
      "120    128\n",
      "130    123\n",
      "140    107\n",
      "110     64\n",
      "150     55\n",
      "138     45\n",
      "128     39\n",
      "125     38\n",
      "160     36\n",
      "112     30\n",
      "132     28\n",
      "118     24\n",
      "108     21\n",
      "124     20\n",
      "135     20\n",
      "145     17\n",
      "134     17\n",
      "152     17\n",
      "170     15\n",
      "122     14\n",
      "100     14\n",
      "136     11\n",
      "126     10\n",
      "180     10\n",
      "142      9\n",
      "115      9\n",
      "105      9\n",
      "146      8\n",
      "148      7\n",
      "178      7\n",
      "94       7\n",
      "144      6\n",
      "102      6\n",
      "154      4\n",
      "117      4\n",
      "165      4\n",
      "200      4\n",
      "114      4\n",
      "123      4\n",
      "192      3\n",
      "106      3\n",
      "104      3\n",
      "129      3\n",
      "174      3\n",
      "155      3\n",
      "172      3\n",
      "164      3\n",
      "156      3\n",
      "101      3\n",
      "Name: count, dtype: int64\n",
      "\n",
      "Value counts for chol:\n",
      "chol\n",
      "204    21\n",
      "234    21\n",
      "197    19\n",
      "212    18\n",
      "254    17\n",
      "       ..\n",
      "164     3\n",
      "394     3\n",
      "215     3\n",
      "160     3\n",
      "141     3\n",
      "Name: count, Length: 152, dtype: int64\n",
      "\n",
      "Value counts for fbs:\n",
      "fbs\n",
      "0    872\n",
      "1    153\n",
      "Name: count, dtype: int64\n",
      "\n",
      "Value counts for restecg:\n",
      "restecg\n",
      "1    513\n",
      "0    497\n",
      "2     15\n",
      "Name: count, dtype: int64\n",
      "\n",
      "Value counts for thalach:\n",
      "thalach\n",
      "162    35\n",
      "160    31\n",
      "163    29\n",
      "173    28\n",
      "152    28\n",
      "       ..\n",
      "194     3\n",
      "185     3\n",
      "106     3\n",
      "88      3\n",
      "113     3\n",
      "Name: count, Length: 91, dtype: int64\n",
      "\n",
      "Value counts for exang:\n",
      "exang\n",
      "0    680\n",
      "1    345\n",
      "Name: count, dtype: int64\n",
      "\n",
      "Value counts for oldpeak:\n",
      "oldpeak\n",
      "0.0    329\n",
      "1.2     58\n",
      "1.0     51\n",
      "0.6     47\n",
      "0.8     44\n",
      "1.4     44\n",
      "1.6     37\n",
      "0.2     37\n",
      "1.8     36\n",
      "2.0     32\n",
      "0.4     30\n",
      "0.1     23\n",
      "2.8     22\n",
      "2.6     21\n",
      "3.0     17\n",
      "1.9     16\n",
      "1.5     16\n",
      "3.6     15\n",
      "0.5     15\n",
      "2.2     14\n",
      "4.0     12\n",
      "2.4     11\n",
      "0.3     10\n",
      "3.4     10\n",
      "0.9     10\n",
      "3.2      8\n",
      "2.5      7\n",
      "2.3      7\n",
      "4.2      6\n",
      "1.1      6\n",
      "4.4      4\n",
      "3.8      4\n",
      "5.6      4\n",
      "3.1      4\n",
      "1.3      3\n",
      "2.9      3\n",
      "2.1      3\n",
      "6.2      3\n",
      "0.7      3\n",
      "3.5      3\n",
      "Name: count, dtype: int64\n",
      "\n",
      "Value counts for slope:\n",
      "slope\n",
      "1    482\n",
      "2    469\n",
      "0     74\n",
      "Name: count, dtype: int64\n",
      "\n",
      "Value counts for ca:\n",
      "ca\n",
      "0    578\n",
      "1    226\n",
      "2    134\n",
      "3     69\n",
      "4     18\n",
      "Name: count, dtype: int64\n",
      "\n",
      "Value counts for thal:\n",
      "thal\n",
      "2    544\n",
      "3    410\n",
      "1     64\n",
      "0      7\n",
      "Name: count, dtype: int64\n",
      "\n",
      "Value counts for target:\n",
      "target\n",
      "1    526\n",
      "0    499\n",
      "Name: count, dtype: int64\n"
     ]
    }
   ],
   "source": [
    "for col in df.columns:\n",
    "    print(f\"\\nValue counts for {col}:\")\n",
    "    print(df[col].value_counts())"
   ]
  },
  {
   "cell_type": "code",
   "execution_count": 139,
   "id": "3624920e",
   "metadata": {},
   "outputs": [
    {
     "data": {
      "application/vnd.plotly.v1+json": {
       "config": {
        "plotlyServerURL": "https://plot.ly"
       },
       "data": [
        {
         "alignmentgroup": "True",
         "bingroup": "x",
         "hovertemplate": "sex=1<br>cp=%{x}<br>count=%{y}<extra></extra>",
         "legendgroup": "1",
         "marker": {
          "color": "#636efa",
          "pattern": {
           "shape": ""
          }
         },
         "name": "1",
         "offsetgroup": "1",
         "orientation": "v",
         "showlegend": true,
         "type": "histogram",
         "x": [
          0,
          0,
          0,
          0,
          0,
          0,
          0,
          0,
          0,
          0,
          0,
          2,
          2,
          0,
          2,
          2,
          0,
          0,
          2,
          2,
          2,
          3,
          0,
          0,
          2,
          2,
          0,
          0,
          1,
          0,
          2,
          2,
          0,
          0,
          3,
          1,
          2,
          1,
          1,
          0,
          2,
          1,
          3,
          2,
          0,
          0,
          0,
          0,
          0,
          0,
          2,
          2,
          0,
          1,
          1,
          2,
          2,
          2,
          2,
          1,
          2,
          0,
          0,
          0,
          1,
          0,
          0,
          2,
          1,
          2,
          3,
          0,
          0,
          1,
          0,
          0,
          0,
          0,
          0,
          0,
          2,
          0,
          0,
          1,
          1,
          1,
          0,
          0,
          0,
          0,
          2,
          2,
          0,
          1,
          2,
          1,
          2,
          1,
          0,
          3,
          3,
          0,
          0,
          0,
          3,
          2,
          0,
          1,
          0,
          2,
          0,
          1,
          3,
          2,
          1,
          0,
          2,
          0,
          0,
          0,
          0,
          0,
          2,
          0,
          0,
          1,
          0,
          0,
          0,
          0,
          0,
          3,
          0,
          2,
          1,
          0,
          0,
          0,
          0,
          2,
          2,
          1,
          3,
          0,
          2,
          0,
          0,
          0,
          3,
          3,
          3,
          3,
          2,
          2,
          2,
          1,
          2,
          0,
          0,
          2,
          1,
          1,
          0,
          1,
          0,
          0,
          0,
          3,
          0,
          2,
          2,
          1,
          0,
          1,
          0,
          3,
          2,
          1,
          0,
          2,
          2,
          2,
          2,
          1,
          1,
          0,
          2,
          0,
          0,
          0,
          0,
          3,
          0,
          2,
          2,
          0,
          0,
          0,
          0,
          2,
          0,
          1,
          0,
          0,
          0,
          0,
          1,
          0,
          1,
          3,
          2,
          0,
          2,
          0,
          2,
          2,
          0,
          0,
          0,
          1,
          1,
          2,
          0,
          0,
          1,
          2,
          0,
          0,
          2,
          3,
          3,
          0,
          0,
          1,
          1,
          1,
          0,
          0,
          2,
          0,
          0,
          2,
          2,
          2,
          0,
          2,
          2,
          2,
          1,
          1,
          0,
          0,
          0,
          0,
          0,
          0,
          1,
          0,
          0,
          3,
          0,
          2,
          2,
          2,
          2,
          1,
          2,
          2,
          0,
          1,
          0,
          1,
          0,
          3,
          0,
          2,
          0,
          0,
          0,
          2,
          0,
          0,
          3,
          3,
          2,
          0,
          2,
          0,
          0,
          3,
          2,
          1,
          0,
          2,
          2,
          0,
          2,
          0,
          0,
          0,
          3,
          2,
          2,
          0,
          2,
          0,
          2,
          2,
          2,
          0,
          2,
          1,
          0,
          0,
          2,
          2,
          1,
          2,
          0,
          0,
          3,
          2,
          0,
          0,
          2,
          2,
          3,
          0,
          2,
          1,
          0,
          2,
          0,
          2,
          1,
          2,
          0,
          2,
          2,
          0,
          0,
          1,
          0,
          1,
          0,
          0,
          2,
          2,
          2,
          0,
          2,
          0,
          2,
          1,
          0,
          2,
          0,
          0,
          0,
          0,
          1,
          2,
          0,
          2,
          0,
          0,
          1,
          0,
          2,
          3,
          3,
          1,
          0,
          3,
          0,
          2,
          3,
          2,
          1,
          0,
          2,
          2,
          0,
          2,
          0,
          0,
          0,
          0,
          0,
          0,
          0,
          2,
          2,
          0,
          3,
          0,
          0,
          0,
          3,
          0,
          0,
          1,
          2,
          1,
          0,
          0,
          3,
          2,
          0,
          0,
          2,
          0,
          0,
          1,
          2,
          1,
          0,
          2,
          0,
          0,
          0,
          0,
          0,
          1,
          0,
          0,
          0,
          3,
          3,
          2,
          2,
          3,
          3,
          3,
          1,
          0,
          0,
          3,
          0,
          0,
          2,
          0,
          2,
          0,
          1,
          0,
          1,
          2,
          0,
          0,
          0,
          0,
          1,
          1,
          1,
          1,
          0,
          2,
          2,
          0,
          0,
          0,
          0,
          2,
          1,
          0,
          0,
          0,
          2,
          0,
          0,
          2,
          0,
          0,
          0,
          2,
          0,
          0,
          2,
          0,
          0,
          2,
          0,
          2,
          3,
          1,
          0,
          3,
          1,
          2,
          0,
          2,
          0,
          0,
          1,
          0,
          1,
          0,
          2,
          0,
          2,
          0,
          0,
          0,
          0,
          2,
          0,
          1,
          2,
          2,
          0,
          2,
          1,
          1,
          1,
          0,
          2,
          0,
          0,
          0,
          1,
          0,
          0,
          0,
          0,
          1,
          1,
          2,
          0,
          3,
          0,
          0,
          1,
          2,
          0,
          0,
          0,
          1,
          0,
          0,
          0,
          3,
          1,
          1,
          3,
          0,
          0,
          3,
          0,
          0,
          0,
          2,
          2,
          0,
          1,
          0,
          1,
          2,
          1,
          0,
          3,
          0,
          0,
          0,
          0,
          2,
          2,
          2,
          0,
          2,
          1,
          2,
          0,
          0,
          2,
          2,
          3,
          0,
          0,
          2,
          3,
          0,
          0,
          0,
          0,
          1,
          2,
          0,
          0,
          3,
          1,
          0,
          0,
          0,
          2,
          3,
          0,
          3,
          2,
          1,
          1,
          1,
          2,
          3,
          0,
          3,
          0,
          0,
          0,
          0,
          0,
          1,
          0,
          0,
          0,
          0,
          0,
          0,
          0,
          0,
          0,
          3,
          1,
          0,
          3,
          2,
          1,
          0,
          0,
          0,
          0,
          2,
          0,
          0,
          0,
          0,
          0,
          2,
          3,
          3,
          0,
          0,
          1,
          0,
          0,
          0,
          2,
          0,
          0,
          0,
          0,
          3,
          2,
          1,
          2,
          2,
          0,
          0,
          3,
          0,
          0,
          0,
          2,
          2,
          0,
          0,
          0,
          1,
          2,
          2,
          3,
          2,
          0,
          0,
          1,
          0,
          0,
          0,
          0,
          0,
          0,
          2,
          1,
          0,
          1,
          0,
          0,
          0,
          1,
          0,
          0,
          0,
          0,
          0,
          0,
          0,
          2,
          3,
          1,
          0,
          0,
          1,
          1,
          0,
          0,
          3,
          0,
          0,
          0,
          1,
          0,
          0,
          0
         ],
         "xaxis": "x",
         "yaxis": "y"
        },
        {
         "alignmentgroup": "True",
         "bingroup": "x",
         "hovertemplate": "sex=0<br>cp=%{x}<br>count=%{y}<extra></extra>",
         "legendgroup": "0",
         "marker": {
          "color": "#EF553B",
          "pattern": {
           "shape": ""
          }
         },
         "name": "0",
         "offsetgroup": "0",
         "orientation": "v",
         "showlegend": true,
         "type": "histogram",
         "x": [
          0,
          0,
          0,
          0,
          1,
          1,
          2,
          1,
          0,
          2,
          2,
          0,
          1,
          0,
          1,
          2,
          0,
          1,
          0,
          2,
          3,
          0,
          2,
          2,
          0,
          2,
          0,
          0,
          2,
          0,
          0,
          0,
          2,
          2,
          0,
          2,
          3,
          3,
          2,
          0,
          1,
          0,
          0,
          2,
          2,
          0,
          1,
          2,
          0,
          0,
          2,
          2,
          0,
          2,
          1,
          2,
          2,
          0,
          1,
          0,
          0,
          1,
          2,
          1,
          0,
          0,
          0,
          1,
          0,
          2,
          2,
          1,
          1,
          1,
          2,
          2,
          1,
          2,
          0,
          1,
          1,
          2,
          2,
          1,
          1,
          2,
          2,
          2,
          0,
          2,
          1,
          2,
          2,
          0,
          2,
          2,
          2,
          2,
          0,
          2,
          2,
          1,
          0,
          2,
          2,
          0,
          2,
          1,
          0,
          2,
          0,
          1,
          0,
          1,
          1,
          0,
          2,
          0,
          0,
          0,
          1,
          0,
          2,
          0,
          2,
          2,
          0,
          0,
          0,
          2,
          0,
          1,
          0,
          1,
          0,
          2,
          2,
          3,
          2,
          0,
          0,
          0,
          1,
          0,
          2,
          0,
          0,
          2,
          1,
          2,
          1,
          0,
          0,
          1,
          1,
          2,
          2,
          0,
          0,
          0,
          2,
          0,
          0,
          2,
          2,
          2,
          0,
          0,
          2,
          0,
          2,
          0,
          2,
          2,
          0,
          0,
          2,
          2,
          0,
          0,
          1,
          0,
          0,
          1,
          2,
          2,
          1,
          2,
          0,
          0,
          0,
          0,
          0,
          2,
          1,
          0,
          3,
          1,
          0,
          0,
          2,
          0,
          0,
          0,
          0,
          0,
          1,
          3,
          1,
          1,
          2,
          0,
          3,
          2,
          0,
          2,
          0,
          0,
          2,
          1,
          1,
          2,
          1,
          1,
          2,
          1,
          3,
          0,
          1,
          2,
          2,
          1,
          0,
          1,
          2,
          2,
          2,
          2,
          2,
          1,
          0,
          0,
          3,
          2,
          0,
          0,
          0,
          2,
          0,
          1,
          0,
          0,
          2,
          0,
          0,
          0,
          2,
          0,
          0,
          0,
          2,
          0,
          0,
          0,
          3,
          2,
          2,
          3,
          2,
          2,
          0,
          0,
          0,
          0,
          2,
          0,
          0,
          0,
          1,
          1,
          0,
          2,
          1,
          0,
          2,
          3,
          0,
          2,
          2,
          2,
          2,
          0,
          0,
          0,
          2,
          3,
          2,
          0,
          0,
          2,
          2,
          2,
          0,
          0,
          0,
          1,
          0,
          0,
          2,
          0,
          2,
          0
         ],
         "xaxis": "x",
         "yaxis": "y"
        }
       ],
       "layout": {
        "barmode": "group",
        "legend": {
         "title": {
          "text": "sex"
         },
         "tracegroupgap": 0
        },
        "margin": {
         "t": 60
        },
        "template": {
         "data": {
          "bar": [
           {
            "error_x": {
             "color": "#2a3f5f"
            },
            "error_y": {
             "color": "#2a3f5f"
            },
            "marker": {
             "line": {
              "color": "#E5ECF6",
              "width": 0.5
             },
             "pattern": {
              "fillmode": "overlay",
              "size": 10,
              "solidity": 0.2
             }
            },
            "type": "bar"
           }
          ],
          "barpolar": [
           {
            "marker": {
             "line": {
              "color": "#E5ECF6",
              "width": 0.5
             },
             "pattern": {
              "fillmode": "overlay",
              "size": 10,
              "solidity": 0.2
             }
            },
            "type": "barpolar"
           }
          ],
          "carpet": [
           {
            "aaxis": {
             "endlinecolor": "#2a3f5f",
             "gridcolor": "white",
             "linecolor": "white",
             "minorgridcolor": "white",
             "startlinecolor": "#2a3f5f"
            },
            "baxis": {
             "endlinecolor": "#2a3f5f",
             "gridcolor": "white",
             "linecolor": "white",
             "minorgridcolor": "white",
             "startlinecolor": "#2a3f5f"
            },
            "type": "carpet"
           }
          ],
          "choropleth": [
           {
            "colorbar": {
             "outlinewidth": 0,
             "ticks": ""
            },
            "type": "choropleth"
           }
          ],
          "contour": [
           {
            "colorbar": {
             "outlinewidth": 0,
             "ticks": ""
            },
            "colorscale": [
             [
              0,
              "#0d0887"
             ],
             [
              0.1111111111111111,
              "#46039f"
             ],
             [
              0.2222222222222222,
              "#7201a8"
             ],
             [
              0.3333333333333333,
              "#9c179e"
             ],
             [
              0.4444444444444444,
              "#bd3786"
             ],
             [
              0.5555555555555556,
              "#d8576b"
             ],
             [
              0.6666666666666666,
              "#ed7953"
             ],
             [
              0.7777777777777778,
              "#fb9f3a"
             ],
             [
              0.8888888888888888,
              "#fdca26"
             ],
             [
              1,
              "#f0f921"
             ]
            ],
            "type": "contour"
           }
          ],
          "contourcarpet": [
           {
            "colorbar": {
             "outlinewidth": 0,
             "ticks": ""
            },
            "type": "contourcarpet"
           }
          ],
          "heatmap": [
           {
            "colorbar": {
             "outlinewidth": 0,
             "ticks": ""
            },
            "colorscale": [
             [
              0,
              "#0d0887"
             ],
             [
              0.1111111111111111,
              "#46039f"
             ],
             [
              0.2222222222222222,
              "#7201a8"
             ],
             [
              0.3333333333333333,
              "#9c179e"
             ],
             [
              0.4444444444444444,
              "#bd3786"
             ],
             [
              0.5555555555555556,
              "#d8576b"
             ],
             [
              0.6666666666666666,
              "#ed7953"
             ],
             [
              0.7777777777777778,
              "#fb9f3a"
             ],
             [
              0.8888888888888888,
              "#fdca26"
             ],
             [
              1,
              "#f0f921"
             ]
            ],
            "type": "heatmap"
           }
          ],
          "heatmapgl": [
           {
            "colorbar": {
             "outlinewidth": 0,
             "ticks": ""
            },
            "colorscale": [
             [
              0,
              "#0d0887"
             ],
             [
              0.1111111111111111,
              "#46039f"
             ],
             [
              0.2222222222222222,
              "#7201a8"
             ],
             [
              0.3333333333333333,
              "#9c179e"
             ],
             [
              0.4444444444444444,
              "#bd3786"
             ],
             [
              0.5555555555555556,
              "#d8576b"
             ],
             [
              0.6666666666666666,
              "#ed7953"
             ],
             [
              0.7777777777777778,
              "#fb9f3a"
             ],
             [
              0.8888888888888888,
              "#fdca26"
             ],
             [
              1,
              "#f0f921"
             ]
            ],
            "type": "heatmapgl"
           }
          ],
          "histogram": [
           {
            "marker": {
             "pattern": {
              "fillmode": "overlay",
              "size": 10,
              "solidity": 0.2
             }
            },
            "type": "histogram"
           }
          ],
          "histogram2d": [
           {
            "colorbar": {
             "outlinewidth": 0,
             "ticks": ""
            },
            "colorscale": [
             [
              0,
              "#0d0887"
             ],
             [
              0.1111111111111111,
              "#46039f"
             ],
             [
              0.2222222222222222,
              "#7201a8"
             ],
             [
              0.3333333333333333,
              "#9c179e"
             ],
             [
              0.4444444444444444,
              "#bd3786"
             ],
             [
              0.5555555555555556,
              "#d8576b"
             ],
             [
              0.6666666666666666,
              "#ed7953"
             ],
             [
              0.7777777777777778,
              "#fb9f3a"
             ],
             [
              0.8888888888888888,
              "#fdca26"
             ],
             [
              1,
              "#f0f921"
             ]
            ],
            "type": "histogram2d"
           }
          ],
          "histogram2dcontour": [
           {
            "colorbar": {
             "outlinewidth": 0,
             "ticks": ""
            },
            "colorscale": [
             [
              0,
              "#0d0887"
             ],
             [
              0.1111111111111111,
              "#46039f"
             ],
             [
              0.2222222222222222,
              "#7201a8"
             ],
             [
              0.3333333333333333,
              "#9c179e"
             ],
             [
              0.4444444444444444,
              "#bd3786"
             ],
             [
              0.5555555555555556,
              "#d8576b"
             ],
             [
              0.6666666666666666,
              "#ed7953"
             ],
             [
              0.7777777777777778,
              "#fb9f3a"
             ],
             [
              0.8888888888888888,
              "#fdca26"
             ],
             [
              1,
              "#f0f921"
             ]
            ],
            "type": "histogram2dcontour"
           }
          ],
          "mesh3d": [
           {
            "colorbar": {
             "outlinewidth": 0,
             "ticks": ""
            },
            "type": "mesh3d"
           }
          ],
          "parcoords": [
           {
            "line": {
             "colorbar": {
              "outlinewidth": 0,
              "ticks": ""
             }
            },
            "type": "parcoords"
           }
          ],
          "pie": [
           {
            "automargin": true,
            "type": "pie"
           }
          ],
          "scatter": [
           {
            "fillpattern": {
             "fillmode": "overlay",
             "size": 10,
             "solidity": 0.2
            },
            "type": "scatter"
           }
          ],
          "scatter3d": [
           {
            "line": {
             "colorbar": {
              "outlinewidth": 0,
              "ticks": ""
             }
            },
            "marker": {
             "colorbar": {
              "outlinewidth": 0,
              "ticks": ""
             }
            },
            "type": "scatter3d"
           }
          ],
          "scattercarpet": [
           {
            "marker": {
             "colorbar": {
              "outlinewidth": 0,
              "ticks": ""
             }
            },
            "type": "scattercarpet"
           }
          ],
          "scattergeo": [
           {
            "marker": {
             "colorbar": {
              "outlinewidth": 0,
              "ticks": ""
             }
            },
            "type": "scattergeo"
           }
          ],
          "scattergl": [
           {
            "marker": {
             "colorbar": {
              "outlinewidth": 0,
              "ticks": ""
             }
            },
            "type": "scattergl"
           }
          ],
          "scattermapbox": [
           {
            "marker": {
             "colorbar": {
              "outlinewidth": 0,
              "ticks": ""
             }
            },
            "type": "scattermapbox"
           }
          ],
          "scatterpolar": [
           {
            "marker": {
             "colorbar": {
              "outlinewidth": 0,
              "ticks": ""
             }
            },
            "type": "scatterpolar"
           }
          ],
          "scatterpolargl": [
           {
            "marker": {
             "colorbar": {
              "outlinewidth": 0,
              "ticks": ""
             }
            },
            "type": "scatterpolargl"
           }
          ],
          "scatterternary": [
           {
            "marker": {
             "colorbar": {
              "outlinewidth": 0,
              "ticks": ""
             }
            },
            "type": "scatterternary"
           }
          ],
          "surface": [
           {
            "colorbar": {
             "outlinewidth": 0,
             "ticks": ""
            },
            "colorscale": [
             [
              0,
              "#0d0887"
             ],
             [
              0.1111111111111111,
              "#46039f"
             ],
             [
              0.2222222222222222,
              "#7201a8"
             ],
             [
              0.3333333333333333,
              "#9c179e"
             ],
             [
              0.4444444444444444,
              "#bd3786"
             ],
             [
              0.5555555555555556,
              "#d8576b"
             ],
             [
              0.6666666666666666,
              "#ed7953"
             ],
             [
              0.7777777777777778,
              "#fb9f3a"
             ],
             [
              0.8888888888888888,
              "#fdca26"
             ],
             [
              1,
              "#f0f921"
             ]
            ],
            "type": "surface"
           }
          ],
          "table": [
           {
            "cells": {
             "fill": {
              "color": "#EBF0F8"
             },
             "line": {
              "color": "white"
             }
            },
            "header": {
             "fill": {
              "color": "#C8D4E3"
             },
             "line": {
              "color": "white"
             }
            },
            "type": "table"
           }
          ]
         },
         "layout": {
          "annotationdefaults": {
           "arrowcolor": "#2a3f5f",
           "arrowhead": 0,
           "arrowwidth": 1
          },
          "autotypenumbers": "strict",
          "coloraxis": {
           "colorbar": {
            "outlinewidth": 0,
            "ticks": ""
           }
          },
          "colorscale": {
           "diverging": [
            [
             0,
             "#8e0152"
            ],
            [
             0.1,
             "#c51b7d"
            ],
            [
             0.2,
             "#de77ae"
            ],
            [
             0.3,
             "#f1b6da"
            ],
            [
             0.4,
             "#fde0ef"
            ],
            [
             0.5,
             "#f7f7f7"
            ],
            [
             0.6,
             "#e6f5d0"
            ],
            [
             0.7,
             "#b8e186"
            ],
            [
             0.8,
             "#7fbc41"
            ],
            [
             0.9,
             "#4d9221"
            ],
            [
             1,
             "#276419"
            ]
           ],
           "sequential": [
            [
             0,
             "#0d0887"
            ],
            [
             0.1111111111111111,
             "#46039f"
            ],
            [
             0.2222222222222222,
             "#7201a8"
            ],
            [
             0.3333333333333333,
             "#9c179e"
            ],
            [
             0.4444444444444444,
             "#bd3786"
            ],
            [
             0.5555555555555556,
             "#d8576b"
            ],
            [
             0.6666666666666666,
             "#ed7953"
            ],
            [
             0.7777777777777778,
             "#fb9f3a"
            ],
            [
             0.8888888888888888,
             "#fdca26"
            ],
            [
             1,
             "#f0f921"
            ]
           ],
           "sequentialminus": [
            [
             0,
             "#0d0887"
            ],
            [
             0.1111111111111111,
             "#46039f"
            ],
            [
             0.2222222222222222,
             "#7201a8"
            ],
            [
             0.3333333333333333,
             "#9c179e"
            ],
            [
             0.4444444444444444,
             "#bd3786"
            ],
            [
             0.5555555555555556,
             "#d8576b"
            ],
            [
             0.6666666666666666,
             "#ed7953"
            ],
            [
             0.7777777777777778,
             "#fb9f3a"
            ],
            [
             0.8888888888888888,
             "#fdca26"
            ],
            [
             1,
             "#f0f921"
            ]
           ]
          },
          "colorway": [
           "#636efa",
           "#EF553B",
           "#00cc96",
           "#ab63fa",
           "#FFA15A",
           "#19d3f3",
           "#FF6692",
           "#B6E880",
           "#FF97FF",
           "#FECB52"
          ],
          "font": {
           "color": "#2a3f5f"
          },
          "geo": {
           "bgcolor": "white",
           "lakecolor": "white",
           "landcolor": "#E5ECF6",
           "showlakes": true,
           "showland": true,
           "subunitcolor": "white"
          },
          "hoverlabel": {
           "align": "left"
          },
          "hovermode": "closest",
          "mapbox": {
           "style": "light"
          },
          "paper_bgcolor": "white",
          "plot_bgcolor": "#E5ECF6",
          "polar": {
           "angularaxis": {
            "gridcolor": "white",
            "linecolor": "white",
            "ticks": ""
           },
           "bgcolor": "#E5ECF6",
           "radialaxis": {
            "gridcolor": "white",
            "linecolor": "white",
            "ticks": ""
           }
          },
          "scene": {
           "xaxis": {
            "backgroundcolor": "#E5ECF6",
            "gridcolor": "white",
            "gridwidth": 2,
            "linecolor": "white",
            "showbackground": true,
            "ticks": "",
            "zerolinecolor": "white"
           },
           "yaxis": {
            "backgroundcolor": "#E5ECF6",
            "gridcolor": "white",
            "gridwidth": 2,
            "linecolor": "white",
            "showbackground": true,
            "ticks": "",
            "zerolinecolor": "white"
           },
           "zaxis": {
            "backgroundcolor": "#E5ECF6",
            "gridcolor": "white",
            "gridwidth": 2,
            "linecolor": "white",
            "showbackground": true,
            "ticks": "",
            "zerolinecolor": "white"
           }
          },
          "shapedefaults": {
           "line": {
            "color": "#2a3f5f"
           }
          },
          "ternary": {
           "aaxis": {
            "gridcolor": "white",
            "linecolor": "white",
            "ticks": ""
           },
           "baxis": {
            "gridcolor": "white",
            "linecolor": "white",
            "ticks": ""
           },
           "bgcolor": "#E5ECF6",
           "caxis": {
            "gridcolor": "white",
            "linecolor": "white",
            "ticks": ""
           }
          },
          "title": {
           "x": 0.05
          },
          "xaxis": {
           "automargin": true,
           "gridcolor": "white",
           "linecolor": "white",
           "ticks": "",
           "title": {
            "standoff": 15
           },
           "zerolinecolor": "white",
           "zerolinewidth": 2
          },
          "yaxis": {
           "automargin": true,
           "gridcolor": "white",
           "linecolor": "white",
           "ticks": "",
           "title": {
            "standoff": 15
           },
           "zerolinecolor": "white",
           "zerolinewidth": 2
          }
         }
        },
        "xaxis": {
         "anchor": "y",
         "domain": [
          0,
          1
         ],
         "title": {
          "text": "cp"
         }
        },
        "yaxis": {
         "anchor": "x",
         "domain": [
          0,
          1
         ],
         "title": {
          "text": "count"
         }
        }
       }
      }
     },
     "metadata": {},
     "output_type": "display_data"
    }
   ],
   "source": [
    "import plotly.express as px\n",
    "\n",
    "# Example: grouped countplot for 'cp' by 'sex'\n",
    "fig = px.histogram(\n",
    "    df,\n",
    "    x=\"cp\",          # change 'cp' to your column of interest\n",
    "    color=\"sex\",     # hue-like effect\n",
    "    barmode=\"group\"  # group bars side-by-side\n",
    ")\n",
    "\n",
    "fig.show()"
   ]
  },
  {
   "cell_type": "code",
   "execution_count": 140,
   "id": "6dc3f37e",
   "metadata": {},
   "outputs": [
    {
     "data": {
      "application/vnd.plotly.v1+json": {
       "config": {
        "plotlyServerURL": "https://plot.ly"
       },
       "data": [
        {
         "alignmentgroup": "True",
         "bingroup": "x",
         "hovertemplate": "target=0<br>age=%{x}<br>count=%{y}<extra></extra>",
         "legendgroup": "0",
         "marker": {
          "color": "#636efa",
          "opacity": 0.5,
          "pattern": {
           "shape": ""
          }
         },
         "name": "0",
         "offsetgroup": "0",
         "orientation": "v",
         "showlegend": true,
         "type": "histogram",
         "x": [
          52,
          53,
          70,
          61,
          62,
          58,
          55,
          46,
          54,
          43,
          51,
          52,
          54,
          60,
          61,
          58,
          56,
          55,
          44,
          57,
          70,
          46,
          57,
          61,
          46,
          66,
          60,
          57,
          49,
          55,
          55,
          67,
          57,
          67,
          59,
          42,
          62,
          59,
          61,
          56,
          59,
          48,
          63,
          50,
          49,
          46,
          59,
          62,
          68,
          63,
          44,
          53,
          65,
          47,
          51,
          62,
          40,
          54,
          44,
          48,
          57,
          59,
          61,
          63,
          43,
          44,
          60,
          61,
          58,
          57,
          63,
          61,
          40,
          41,
          58,
          54,
          58,
          63,
          77,
          77,
          48,
          56,
          59,
          56,
          56,
          54,
          56,
          56,
          64,
          44,
          56,
          63,
          60,
          57,
          40,
          56,
          63,
          64,
          67,
          58,
          50,
          59,
          62,
          67,
          50,
          65,
          46,
          54,
          57,
          63,
          49,
          66,
          58,
          60,
          49,
          57,
          60,
          62,
          67,
          60,
          54,
          46,
          47,
          55,
          57,
          35,
          38,
          58,
          53,
          67,
          58,
          54,
          56,
          55,
          58,
          40,
          58,
          56,
          67,
          67,
          58,
          60,
          62,
          59,
          61,
          48,
          70,
          59,
          45,
          66,
          54,
          57,
          70,
          63,
          60,
          58,
          56,
          60,
          66,
          50,
          43,
          62,
          50,
          57,
          57,
          59,
          67,
          59,
          57,
          58,
          48,
          43,
          55,
          58,
          67,
          58,
          58,
          59,
          58,
          35,
          77,
          64,
          58,
          45,
          62,
          63,
          68,
          40,
          49,
          61,
          56,
          58,
          46,
          56,
          57,
          70,
          59,
          58,
          45,
          51,
          43,
          47,
          67,
          65,
          59,
          67,
          58,
          62,
          60,
          57,
          55,
          52,
          63,
          66,
          65,
          47,
          69,
          47,
          67,
          48,
          57,
          57,
          58,
          51,
          63,
          51,
          65,
          62,
          41,
          65,
          64,
          55,
          68,
          57,
          47,
          61,
          56,
          55,
          43,
          44,
          54,
          49,
          60,
          49,
          61,
          59,
          61,
          58,
          62,
          60,
          63,
          46,
          58,
          59,
          48,
          70,
          69,
          54,
          43,
          58,
          67,
          59,
          67,
          44,
          56,
          60,
          44,
          60,
          70,
          58,
          43,
          55,
          64,
          59,
          61,
          54,
          63,
          70,
          63,
          64,
          61,
          58,
          62,
          46,
          66,
          42,
          64,
          55,
          43,
          55,
          58,
          55,
          51,
          65,
          57,
          48,
          62,
          61,
          69,
          58,
          38,
          65,
          45,
          61,
          52,
          59,
          65,
          56,
          50,
          47,
          62,
          56,
          57,
          64,
          61,
          58,
          57,
          66,
          61,
          52,
          63,
          58,
          60,
          63,
          68,
          59,
          59,
          43,
          60,
          63,
          52,
          58,
          56,
          53,
          39,
          35,
          67,
          66,
          35,
          35,
          58,
          57,
          45,
          35,
          55,
          56,
          64,
          60,
          48,
          46,
          52,
          52,
          59,
          67,
          58,
          52,
          63,
          64,
          60,
          64,
          61,
          57,
          63,
          57,
          57,
          68,
          62,
          65,
          61,
          53,
          59,
          44,
          58,
          55,
          67,
          51,
          62,
          62,
          54,
          54,
          68,
          61,
          65,
          59,
          67,
          63,
          52,
          57,
          40,
          57,
          62,
          53,
          58,
          61,
          62,
          60,
          61,
          57,
          54,
          55,
          42,
          49,
          70,
          58,
          59,
          60,
          56,
          61,
          52,
          58,
          52,
          67,
          65,
          51,
          52,
          64,
          59,
          52,
          59,
          59,
          60,
          61,
          54,
          57,
          57,
          48,
          70,
          57,
          61,
          60,
          63,
          55,
          54,
          52,
          51,
          62,
          61,
          62,
          59,
          64,
          62,
          50,
          50,
          58,
          35,
          66,
          46,
          65,
          59,
          38,
          39,
          58,
          61,
          57,
          54,
          54,
          60,
          65,
          40,
          38,
          64,
          57,
          66,
          70,
          67,
          62,
          50,
          57,
          58,
          53,
          39,
          63,
          44,
          45,
          39,
          55,
          57,
          60,
          60,
          43,
          59,
          56,
          54,
          42,
          67,
          64,
          66,
          55,
          40,
          51,
          48,
          58,
          58,
          65,
          53,
          41,
          60,
          47,
          54
         ],
         "xaxis": "x",
         "yaxis": "y"
        },
        {
         "alignmentgroup": "True",
         "bingroup": "x",
         "hovertemplate": "target=1<br>age=%{x}<br>count=%{y}<extra></extra>",
         "legendgroup": "1",
         "marker": {
          "color": "#EF553B",
          "opacity": 0.5,
          "pattern": {
           "shape": ""
          }
         },
         "name": "1",
         "offsetgroup": "1",
         "orientation": "v",
         "showlegend": true,
         "type": "histogram",
         "x": [
          58,
          71,
          34,
          34,
          51,
          50,
          58,
          67,
          45,
          63,
          42,
          44,
          50,
          50,
          51,
          59,
          64,
          65,
          54,
          55,
          42,
          41,
          66,
          58,
          38,
          56,
          48,
          29,
          66,
          59,
          29,
          53,
          37,
          47,
          48,
          52,
          52,
          38,
          37,
          44,
          58,
          54,
          62,
          62,
          45,
          57,
          76,
          43,
          57,
          54,
          47,
          52,
          53,
          29,
          42,
          54,
          65,
          60,
          66,
          53,
          52,
          57,
          60,
          51,
          41,
          50,
          54,
          55,
          64,
          47,
          41,
          34,
          47,
          51,
          52,
          39,
          54,
          54,
          40,
          54,
          67,
          41,
          51,
          57,
          43,
          45,
          43,
          56,
          39,
          64,
          42,
          45,
          41,
          56,
          67,
          69,
          59,
          45,
          60,
          62,
          34,
          52,
          64,
          66,
          42,
          41,
          38,
          42,
          43,
          45,
          49,
          41,
          64,
          39,
          51,
          54,
          44,
          52,
          56,
          41,
          49,
          64,
          54,
          38,
          51,
          44,
          39,
          42,
          45,
          62,
          35,
          64,
          66,
          44,
          54,
          48,
          55,
          45,
          71,
          43,
          44,
          39,
          66,
          57,
          44,
          41,
          45,
          35,
          41,
          64,
          71,
          64,
          71,
          58,
          52,
          61,
          59,
          35,
          52,
          46,
          51,
          55,
          52,
          44,
          44,
          56,
          74,
          40,
          42,
          64,
          63,
          53,
          53,
          48,
          48,
          56,
          53,
          37,
          37,
          54,
          57,
          54,
          38,
          44,
          65,
          52,
          41,
          54,
          66,
          57,
          46,
          53,
          48,
          62,
          43,
          53,
          53,
          58,
          51,
          54,
          46,
          66,
          59,
          64,
          52,
          51,
          42,
          63,
          51,
          66,
          66,
          63,
          71,
          70,
          46,
          58,
          46,
          41,
          41,
          54,
          52,
          62,
          65,
          57,
          42,
          57,
          54,
          57,
          60,
          37,
          41,
          57,
          47,
          57,
          47,
          52,
          53,
          51,
          49,
          49,
          69,
          39,
          43,
          51,
          48,
          52,
          43,
          67,
          38,
          44,
          61,
          60,
          64,
          58,
          41,
          57,
          39,
          35,
          54,
          61,
          57,
          57,
          51,
          59,
          54,
          46,
          71,
          35,
          46,
          45,
          44,
          41,
          54,
          44,
          41,
          58,
          67,
          51,
          62,
          59,
          69,
          65,
          53,
          54,
          76,
          50,
          52,
          64,
          44,
          62,
          54,
          67,
          51,
          68,
          53,
          48,
          39,
          58,
          65,
          42,
          53,
          50,
          41,
          54,
          42,
          54,
          34,
          43,
          52,
          62,
          46,
          44,
          55,
          40,
          74,
          59,
          38,
          63,
          58,
          63,
          47,
          71,
          50,
          43,
          41,
          49,
          59,
          69,
          49,
          45,
          53,
          58,
          58,
          46,
          64,
          65,
          44,
          64,
          71,
          45,
          41,
          66,
          41,
          41,
          39,
          59,
          47,
          58,
          66,
          65,
          35,
          29,
          68,
          54,
          41,
          42,
          54,
          58,
          55,
          63,
          50,
          41,
          71,
          57,
          51,
          56,
          60,
          56,
          45,
          66,
          51,
          70,
          55,
          52,
          45,
          67,
          68,
          74,
          56,
          55,
          44,
          51,
          44,
          50,
          44,
          41,
          58,
          60,
          51,
          44,
          58,
          55,
          65,
          48,
          65,
          51,
          48,
          66,
          46,
          49,
          56,
          58,
          46,
          71,
          41,
          45,
          48,
          51,
          34,
          64,
          56,
          54,
          60,
          62,
          41,
          43,
          63,
          58,
          53,
          44,
          51,
          54,
          62,
          58,
          70,
          45,
          42,
          54,
          63,
          42,
          44,
          51,
          58,
          68,
          53,
          52,
          51,
          51,
          35,
          35,
          58,
          37,
          46,
          68,
          43,
          68,
          60,
          41,
          41,
          56,
          56,
          48,
          39,
          64,
          57,
          43,
          59,
          57,
          57,
          64,
          59,
          52,
          42,
          59,
          42,
          55,
          42,
          50,
          45,
          47,
          44,
          54,
          42,
          51,
          42,
          56,
          43,
          53,
          49,
          52,
          69,
          65,
          56,
          67,
          54,
          57,
          54,
          45,
          53,
          62,
          49,
          65,
          69,
          52,
          58,
          52,
          44,
          76,
          60,
          52,
          38,
          52,
          52,
          51,
          43,
          52,
          57,
          67,
          64,
          59,
          62,
          71,
          56,
          50,
          44,
          42,
          52,
          51,
          58,
          56,
          42,
          45,
          44,
          47,
          59,
          50
         ],
         "xaxis": "x",
         "yaxis": "y"
        }
       ],
       "layout": {
        "barmode": "overlay",
        "legend": {
         "title": {
          "text": "target"
         },
         "tracegroupgap": 0
        },
        "margin": {
         "t": 60
        },
        "template": {
         "data": {
          "bar": [
           {
            "error_x": {
             "color": "#2a3f5f"
            },
            "error_y": {
             "color": "#2a3f5f"
            },
            "marker": {
             "line": {
              "color": "#E5ECF6",
              "width": 0.5
             },
             "pattern": {
              "fillmode": "overlay",
              "size": 10,
              "solidity": 0.2
             }
            },
            "type": "bar"
           }
          ],
          "barpolar": [
           {
            "marker": {
             "line": {
              "color": "#E5ECF6",
              "width": 0.5
             },
             "pattern": {
              "fillmode": "overlay",
              "size": 10,
              "solidity": 0.2
             }
            },
            "type": "barpolar"
           }
          ],
          "carpet": [
           {
            "aaxis": {
             "endlinecolor": "#2a3f5f",
             "gridcolor": "white",
             "linecolor": "white",
             "minorgridcolor": "white",
             "startlinecolor": "#2a3f5f"
            },
            "baxis": {
             "endlinecolor": "#2a3f5f",
             "gridcolor": "white",
             "linecolor": "white",
             "minorgridcolor": "white",
             "startlinecolor": "#2a3f5f"
            },
            "type": "carpet"
           }
          ],
          "choropleth": [
           {
            "colorbar": {
             "outlinewidth": 0,
             "ticks": ""
            },
            "type": "choropleth"
           }
          ],
          "contour": [
           {
            "colorbar": {
             "outlinewidth": 0,
             "ticks": ""
            },
            "colorscale": [
             [
              0,
              "#0d0887"
             ],
             [
              0.1111111111111111,
              "#46039f"
             ],
             [
              0.2222222222222222,
              "#7201a8"
             ],
             [
              0.3333333333333333,
              "#9c179e"
             ],
             [
              0.4444444444444444,
              "#bd3786"
             ],
             [
              0.5555555555555556,
              "#d8576b"
             ],
             [
              0.6666666666666666,
              "#ed7953"
             ],
             [
              0.7777777777777778,
              "#fb9f3a"
             ],
             [
              0.8888888888888888,
              "#fdca26"
             ],
             [
              1,
              "#f0f921"
             ]
            ],
            "type": "contour"
           }
          ],
          "contourcarpet": [
           {
            "colorbar": {
             "outlinewidth": 0,
             "ticks": ""
            },
            "type": "contourcarpet"
           }
          ],
          "heatmap": [
           {
            "colorbar": {
             "outlinewidth": 0,
             "ticks": ""
            },
            "colorscale": [
             [
              0,
              "#0d0887"
             ],
             [
              0.1111111111111111,
              "#46039f"
             ],
             [
              0.2222222222222222,
              "#7201a8"
             ],
             [
              0.3333333333333333,
              "#9c179e"
             ],
             [
              0.4444444444444444,
              "#bd3786"
             ],
             [
              0.5555555555555556,
              "#d8576b"
             ],
             [
              0.6666666666666666,
              "#ed7953"
             ],
             [
              0.7777777777777778,
              "#fb9f3a"
             ],
             [
              0.8888888888888888,
              "#fdca26"
             ],
             [
              1,
              "#f0f921"
             ]
            ],
            "type": "heatmap"
           }
          ],
          "heatmapgl": [
           {
            "colorbar": {
             "outlinewidth": 0,
             "ticks": ""
            },
            "colorscale": [
             [
              0,
              "#0d0887"
             ],
             [
              0.1111111111111111,
              "#46039f"
             ],
             [
              0.2222222222222222,
              "#7201a8"
             ],
             [
              0.3333333333333333,
              "#9c179e"
             ],
             [
              0.4444444444444444,
              "#bd3786"
             ],
             [
              0.5555555555555556,
              "#d8576b"
             ],
             [
              0.6666666666666666,
              "#ed7953"
             ],
             [
              0.7777777777777778,
              "#fb9f3a"
             ],
             [
              0.8888888888888888,
              "#fdca26"
             ],
             [
              1,
              "#f0f921"
             ]
            ],
            "type": "heatmapgl"
           }
          ],
          "histogram": [
           {
            "marker": {
             "pattern": {
              "fillmode": "overlay",
              "size": 10,
              "solidity": 0.2
             }
            },
            "type": "histogram"
           }
          ],
          "histogram2d": [
           {
            "colorbar": {
             "outlinewidth": 0,
             "ticks": ""
            },
            "colorscale": [
             [
              0,
              "#0d0887"
             ],
             [
              0.1111111111111111,
              "#46039f"
             ],
             [
              0.2222222222222222,
              "#7201a8"
             ],
             [
              0.3333333333333333,
              "#9c179e"
             ],
             [
              0.4444444444444444,
              "#bd3786"
             ],
             [
              0.5555555555555556,
              "#d8576b"
             ],
             [
              0.6666666666666666,
              "#ed7953"
             ],
             [
              0.7777777777777778,
              "#fb9f3a"
             ],
             [
              0.8888888888888888,
              "#fdca26"
             ],
             [
              1,
              "#f0f921"
             ]
            ],
            "type": "histogram2d"
           }
          ],
          "histogram2dcontour": [
           {
            "colorbar": {
             "outlinewidth": 0,
             "ticks": ""
            },
            "colorscale": [
             [
              0,
              "#0d0887"
             ],
             [
              0.1111111111111111,
              "#46039f"
             ],
             [
              0.2222222222222222,
              "#7201a8"
             ],
             [
              0.3333333333333333,
              "#9c179e"
             ],
             [
              0.4444444444444444,
              "#bd3786"
             ],
             [
              0.5555555555555556,
              "#d8576b"
             ],
             [
              0.6666666666666666,
              "#ed7953"
             ],
             [
              0.7777777777777778,
              "#fb9f3a"
             ],
             [
              0.8888888888888888,
              "#fdca26"
             ],
             [
              1,
              "#f0f921"
             ]
            ],
            "type": "histogram2dcontour"
           }
          ],
          "mesh3d": [
           {
            "colorbar": {
             "outlinewidth": 0,
             "ticks": ""
            },
            "type": "mesh3d"
           }
          ],
          "parcoords": [
           {
            "line": {
             "colorbar": {
              "outlinewidth": 0,
              "ticks": ""
             }
            },
            "type": "parcoords"
           }
          ],
          "pie": [
           {
            "automargin": true,
            "type": "pie"
           }
          ],
          "scatter": [
           {
            "fillpattern": {
             "fillmode": "overlay",
             "size": 10,
             "solidity": 0.2
            },
            "type": "scatter"
           }
          ],
          "scatter3d": [
           {
            "line": {
             "colorbar": {
              "outlinewidth": 0,
              "ticks": ""
             }
            },
            "marker": {
             "colorbar": {
              "outlinewidth": 0,
              "ticks": ""
             }
            },
            "type": "scatter3d"
           }
          ],
          "scattercarpet": [
           {
            "marker": {
             "colorbar": {
              "outlinewidth": 0,
              "ticks": ""
             }
            },
            "type": "scattercarpet"
           }
          ],
          "scattergeo": [
           {
            "marker": {
             "colorbar": {
              "outlinewidth": 0,
              "ticks": ""
             }
            },
            "type": "scattergeo"
           }
          ],
          "scattergl": [
           {
            "marker": {
             "colorbar": {
              "outlinewidth": 0,
              "ticks": ""
             }
            },
            "type": "scattergl"
           }
          ],
          "scattermapbox": [
           {
            "marker": {
             "colorbar": {
              "outlinewidth": 0,
              "ticks": ""
             }
            },
            "type": "scattermapbox"
           }
          ],
          "scatterpolar": [
           {
            "marker": {
             "colorbar": {
              "outlinewidth": 0,
              "ticks": ""
             }
            },
            "type": "scatterpolar"
           }
          ],
          "scatterpolargl": [
           {
            "marker": {
             "colorbar": {
              "outlinewidth": 0,
              "ticks": ""
             }
            },
            "type": "scatterpolargl"
           }
          ],
          "scatterternary": [
           {
            "marker": {
             "colorbar": {
              "outlinewidth": 0,
              "ticks": ""
             }
            },
            "type": "scatterternary"
           }
          ],
          "surface": [
           {
            "colorbar": {
             "outlinewidth": 0,
             "ticks": ""
            },
            "colorscale": [
             [
              0,
              "#0d0887"
             ],
             [
              0.1111111111111111,
              "#46039f"
             ],
             [
              0.2222222222222222,
              "#7201a8"
             ],
             [
              0.3333333333333333,
              "#9c179e"
             ],
             [
              0.4444444444444444,
              "#bd3786"
             ],
             [
              0.5555555555555556,
              "#d8576b"
             ],
             [
              0.6666666666666666,
              "#ed7953"
             ],
             [
              0.7777777777777778,
              "#fb9f3a"
             ],
             [
              0.8888888888888888,
              "#fdca26"
             ],
             [
              1,
              "#f0f921"
             ]
            ],
            "type": "surface"
           }
          ],
          "table": [
           {
            "cells": {
             "fill": {
              "color": "#EBF0F8"
             },
             "line": {
              "color": "white"
             }
            },
            "header": {
             "fill": {
              "color": "#C8D4E3"
             },
             "line": {
              "color": "white"
             }
            },
            "type": "table"
           }
          ]
         },
         "layout": {
          "annotationdefaults": {
           "arrowcolor": "#2a3f5f",
           "arrowhead": 0,
           "arrowwidth": 1
          },
          "autotypenumbers": "strict",
          "coloraxis": {
           "colorbar": {
            "outlinewidth": 0,
            "ticks": ""
           }
          },
          "colorscale": {
           "diverging": [
            [
             0,
             "#8e0152"
            ],
            [
             0.1,
             "#c51b7d"
            ],
            [
             0.2,
             "#de77ae"
            ],
            [
             0.3,
             "#f1b6da"
            ],
            [
             0.4,
             "#fde0ef"
            ],
            [
             0.5,
             "#f7f7f7"
            ],
            [
             0.6,
             "#e6f5d0"
            ],
            [
             0.7,
             "#b8e186"
            ],
            [
             0.8,
             "#7fbc41"
            ],
            [
             0.9,
             "#4d9221"
            ],
            [
             1,
             "#276419"
            ]
           ],
           "sequential": [
            [
             0,
             "#0d0887"
            ],
            [
             0.1111111111111111,
             "#46039f"
            ],
            [
             0.2222222222222222,
             "#7201a8"
            ],
            [
             0.3333333333333333,
             "#9c179e"
            ],
            [
             0.4444444444444444,
             "#bd3786"
            ],
            [
             0.5555555555555556,
             "#d8576b"
            ],
            [
             0.6666666666666666,
             "#ed7953"
            ],
            [
             0.7777777777777778,
             "#fb9f3a"
            ],
            [
             0.8888888888888888,
             "#fdca26"
            ],
            [
             1,
             "#f0f921"
            ]
           ],
           "sequentialminus": [
            [
             0,
             "#0d0887"
            ],
            [
             0.1111111111111111,
             "#46039f"
            ],
            [
             0.2222222222222222,
             "#7201a8"
            ],
            [
             0.3333333333333333,
             "#9c179e"
            ],
            [
             0.4444444444444444,
             "#bd3786"
            ],
            [
             0.5555555555555556,
             "#d8576b"
            ],
            [
             0.6666666666666666,
             "#ed7953"
            ],
            [
             0.7777777777777778,
             "#fb9f3a"
            ],
            [
             0.8888888888888888,
             "#fdca26"
            ],
            [
             1,
             "#f0f921"
            ]
           ]
          },
          "colorway": [
           "#636efa",
           "#EF553B",
           "#00cc96",
           "#ab63fa",
           "#FFA15A",
           "#19d3f3",
           "#FF6692",
           "#B6E880",
           "#FF97FF",
           "#FECB52"
          ],
          "font": {
           "color": "#2a3f5f"
          },
          "geo": {
           "bgcolor": "white",
           "lakecolor": "white",
           "landcolor": "#E5ECF6",
           "showlakes": true,
           "showland": true,
           "subunitcolor": "white"
          },
          "hoverlabel": {
           "align": "left"
          },
          "hovermode": "closest",
          "mapbox": {
           "style": "light"
          },
          "paper_bgcolor": "white",
          "plot_bgcolor": "#E5ECF6",
          "polar": {
           "angularaxis": {
            "gridcolor": "white",
            "linecolor": "white",
            "ticks": ""
           },
           "bgcolor": "#E5ECF6",
           "radialaxis": {
            "gridcolor": "white",
            "linecolor": "white",
            "ticks": ""
           }
          },
          "scene": {
           "xaxis": {
            "backgroundcolor": "#E5ECF6",
            "gridcolor": "white",
            "gridwidth": 2,
            "linecolor": "white",
            "showbackground": true,
            "ticks": "",
            "zerolinecolor": "white"
           },
           "yaxis": {
            "backgroundcolor": "#E5ECF6",
            "gridcolor": "white",
            "gridwidth": 2,
            "linecolor": "white",
            "showbackground": true,
            "ticks": "",
            "zerolinecolor": "white"
           },
           "zaxis": {
            "backgroundcolor": "#E5ECF6",
            "gridcolor": "white",
            "gridwidth": 2,
            "linecolor": "white",
            "showbackground": true,
            "ticks": "",
            "zerolinecolor": "white"
           }
          },
          "shapedefaults": {
           "line": {
            "color": "#2a3f5f"
           }
          },
          "ternary": {
           "aaxis": {
            "gridcolor": "white",
            "linecolor": "white",
            "ticks": ""
           },
           "baxis": {
            "gridcolor": "white",
            "linecolor": "white",
            "ticks": ""
           },
           "bgcolor": "#E5ECF6",
           "caxis": {
            "gridcolor": "white",
            "linecolor": "white",
            "ticks": ""
           }
          },
          "title": {
           "x": 0.05
          },
          "xaxis": {
           "automargin": true,
           "gridcolor": "white",
           "linecolor": "white",
           "ticks": "",
           "title": {
            "standoff": 15
           },
           "zerolinecolor": "white",
           "zerolinewidth": 2
          },
          "yaxis": {
           "automargin": true,
           "gridcolor": "white",
           "linecolor": "white",
           "ticks": "",
           "title": {
            "standoff": 15
           },
           "zerolinecolor": "white",
           "zerolinewidth": 2
          }
         }
        },
        "xaxis": {
         "anchor": "y",
         "domain": [
          0,
          1
         ],
         "title": {
          "text": "age"
         }
        },
        "yaxis": {
         "anchor": "x",
         "domain": [
          0,
          1
         ],
         "title": {
          "text": "count"
         }
        }
       }
      }
     },
     "metadata": {},
     "output_type": "display_data"
    },
    {
     "name": "stdout",
     "output_type": "stream",
     "text": [
      "Mean of Age grouped by Target:\n",
      "target\n",
      "0    56.569138\n",
      "1    52.408745\n",
      "Name: age, dtype: float64\n",
      "-------------------------------------\n",
      "Median of Age grouped by Target:\n",
      "target\n",
      "0    58.0\n",
      "1    52.0\n",
      "Name: age, dtype: float64\n",
      "-------------------------------------\n",
      "Mode of Age grouped by Target:\n",
      "target\n",
      "0    58\n",
      "1    54\n",
      "Name: age, dtype: int64\n",
      "-------------------------------------\n"
     ]
    }
   ],
   "source": [
    "\n",
    "\n",
    "# Histogram of age grouped by target\n",
    "fig = px.histogram(data_frame=df, x='age', color='target', barmode='overlay')\n",
    "fig.show()\n",
    "\n",
    "\n",
    "print(\"Mean of Age grouped by Target:\")\n",
    "print(df.groupby('target')['age'].mean())\n",
    "print(\"-------------------------------------\")\n",
    "\n",
    "print(\"Median of Age grouped by Target:\")\n",
    "print(df.groupby('target')['age'].median())\n",
    "print(\"-------------------------------------\")\n",
    "\n",
    "print(\"Mode of Age grouped by Target:\")\n",
    "print(df.groupby('target')['age'].agg(pd.Series.mode))\n",
    "print(\"-------------------------------------\")"
   ]
  },
  {
   "cell_type": "code",
   "execution_count": 141,
   "id": "c1e8c614",
   "metadata": {},
   "outputs": [
    {
     "data": {
      "text/plain": [
       "<Axes: xlabel='cp', ylabel='count'>"
      ]
     },
     "execution_count": 141,
     "metadata": {},
     "output_type": "execute_result"
    },
    {
     "data": {
      "image/png": "[encoded data removed]",
      "text/plain": [
       "<Figure size 640x480 with 1 Axes>"
      ]
     },
     "metadata": {},
     "output_type": "display_data"
    }
   ],
   "source": [
    "# count plot of cp column by sex column\n",
    "sns.countplot(df, x='cp', hue='sex')"
   ]
  },
  {
   "cell_type": "code",
   "execution_count": 142,
   "id": "3ac7059b",
   "metadata": {},
   "outputs": [
    {
     "data": {
      "application/vnd.plotly.v1+json": {
       "config": {
        "plotlyServerURL": "https://plot.ly"
       },
       "data": [
        {
         "alignmentgroup": "True",
         "bingroup": "x",
         "hovertemplate": "cp=0<br>age=%{x}<br>count=%{y}<extra></extra>",
         "legendgroup": "0",
         "marker": {
          "color": "#636efa",
          "pattern": {
           "shape": ""
          }
         },
         "name": "0",
         "offsetgroup": "0",
         "orientation": "v",
         "showlegend": true,
         "type": "histogram",
         "x": [
          52,
          53,
          70,
          61,
          62,
          58,
          58,
          55,
          46,
          54,
          71,
          43,
          51,
          52,
          54,
          67,
          45,
          61,
          55,
          44,
          57,
          59,
          64,
          61,
          46,
          42,
          66,
          60,
          57,
          55,
          55,
          67,
          42,
          62,
          59,
          61,
          56,
          59,
          48,
          63,
          59,
          62,
          68,
          62,
          63,
          44,
          45,
          57,
          53,
          65,
          47,
          51,
          40,
          54,
          44,
          53,
          48,
          57,
          61,
          63,
          43,
          44,
          60,
          61,
          66,
          57,
          58,
          64,
          57,
          63,
          47,
          40,
          41,
          58,
          58,
          63,
          77,
          77,
          48,
          56,
          59,
          56,
          57,
          43,
          56,
          54,
          56,
          56,
          64,
          44,
          56,
          63,
          60,
          57,
          40,
          56,
          63,
          67,
          58,
          45,
          50,
          62,
          67,
          50,
          65,
          46,
          54,
          63,
          51,
          66,
          58,
          60,
          49,
          60,
          62,
          46,
          47,
          55,
          57,
          35,
          62,
          35,
          64,
          66,
          48,
          58,
          45,
          53,
          67,
          43,
          54,
          66,
          56,
          57,
          55,
          40,
          58,
          56,
          67,
          67,
          58,
          60,
          62,
          61,
          48,
          59,
          53,
          45,
          57,
          70,
          63,
          60,
          58,
          60,
          50,
          43,
          66,
          50,
          57,
          57,
          46,
          59,
          67,
          48,
          43,
          55,
          66,
          64,
          67,
          58,
          59,
          58,
          35,
          77,
          64,
          62,
          63,
          40,
          66,
          71,
          61,
          58,
          46,
          56,
          57,
          70,
          62,
          57,
          42,
          57,
          45,
          51,
          43,
          65,
          57,
          59,
          67,
          62,
          60,
          57,
          55,
          52,
          63,
          66,
          65,
          43,
          51,
          43,
          47,
          67,
          58,
          57,
          58,
          51,
          63,
          51,
          65,
          41,
          65,
          57,
          55,
          59,
          54,
          71,
          35,
          61,
          56,
          55,
          43,
          44,
          54,
          60,
          61,
          59,
          61,
          62,
          62,
          60,
          63,
          53,
          46,
          58,
          62,
          70,
          67,
          54,
          43,
          58,
          67,
          59,
          48,
          67,
          58,
          44,
          56,
          53,
          50,
          60,
          44,
          60,
          43,
          70,
          62,
          58,
          43,
          55,
          59,
          61,
          54,
          63,
          63,
          64,
          61,
          46,
          66,
          42,
          64,
          55,
          43,
          55,
          58,
          55,
          51,
          43,
          65,
          57,
          48,
          62,
          61,
          52,
          53,
          59,
          58,
          46,
          56,
          64,
          65,
          50,
          64,
          71,
          62,
          56,
          59,
          61,
          58,
          47,
          58,
          61,
          52,
          63,
          58,
          60,
          63,
          59,
          59,
          43,
          63,
          52,
          58,
          56,
          53,
          39,
          35,
          66,
          35,
          35,
          57,
          58,
          35,
          55,
          52,
          45,
          60,
          48,
          46,
          52,
          52,
          59,
          67,
          58,
          52,
          63,
          60,
          65,
          64,
          66,
          61,
          57,
          49,
          63,
          57,
          57,
          68,
          45,
          62,
          65,
          61,
          53,
          44,
          58,
          64,
          55,
          67,
          51,
          62,
          54,
          54,
          68,
          65,
          43,
          67,
          63,
          52,
          58,
          53,
          57,
          40,
          62,
          53,
          45,
          58,
          61,
          62,
          60,
          54,
          61,
          54,
          55,
          42,
          53,
          51,
          70,
          35,
          60,
          56,
          35,
          61,
          52,
          52,
          67,
          43,
          51,
          52,
          52,
          57,
          60,
          61,
          54,
          59,
          57,
          57,
          48,
          70,
          57,
          61,
          57,
          60,
          63,
          55,
          64,
          54,
          52,
          51,
          42,
          59,
          42,
          62,
          64,
          42,
          62,
          50,
          35,
          45,
          66,
          46,
          65,
          39,
          58,
          54,
          61,
          57,
          54,
          54,
          60,
          65,
          40,
          53,
          57,
          65,
          66,
          70,
          57,
          67,
          45,
          53,
          49,
          58,
          52,
          57,
          58,
          53,
          43,
          39,
          63,
          44,
          45,
          57,
          39,
          67,
          64,
          59,
          55,
          60,
          60,
          50,
          43,
          59,
          56,
          54,
          42,
          67,
          64,
          42,
          66,
          52,
          55,
          40,
          51,
          58,
          58,
          53,
          41,
          47,
          60,
          47,
          50,
          54
         ],
         "xaxis": "x",
         "yaxis": "y"
        },
        {
         "alignmentgroup": "True",
         "bingroup": "x",
         "hovertemplate": "cp=1<br>age=%{x}<br>count=%{y}<extra></extra>",
         "legendgroup": "1",
         "marker": {
          "color": "#EF553B",
          "pattern": {
           "shape": ""
          }
         },
         "name": "1",
         "offsetgroup": "1",
         "orientation": "v",
         "showlegend": true,
         "type": "histogram",
         "x": [
          34,
          34,
          50,
          58,
          50,
          55,
          41,
          48,
          57,
          29,
          29,
          52,
          52,
          44,
          62,
          54,
          62,
          29,
          42,
          54,
          41,
          54,
          55,
          41,
          54,
          54,
          41,
          45,
          56,
          45,
          56,
          62,
          45,
          49,
          41,
          57,
          52,
          56,
          41,
          57,
          54,
          44,
          54,
          45,
          55,
          44,
          44,
          41,
          45,
          35,
          41,
          71,
          35,
          52,
          46,
          55,
          44,
          56,
          74,
          66,
          48,
          56,
          54,
          41,
          66,
          57,
          57,
          48,
          58,
          59,
          58,
          70,
          46,
          41,
          41,
          58,
          58,
          52,
          49,
          49,
          44,
          48,
          35,
          62,
          54,
          57,
          45,
          41,
          54,
          44,
          41,
          58,
          52,
          48,
          46,
          55,
          74,
          59,
          58,
          63,
          63,
          41,
          49,
          49,
          45,
          45,
          41,
          41,
          41,
          57,
          35,
          57,
          29,
          66,
          42,
          55,
          63,
          71,
          56,
          56,
          45,
          70,
          55,
          74,
          56,
          55,
          44,
          58,
          58,
          55,
          48,
          46,
          56,
          46,
          41,
          34,
          56,
          62,
          62,
          41,
          57,
          62,
          70,
          58,
          58,
          46,
          41,
          56,
          56,
          57,
          52,
          55,
          50,
          58,
          44,
          56,
          49,
          52,
          52,
          57,
          71,
          56,
          44,
          42,
          45,
          48,
          59
         ],
         "xaxis": "x",
         "yaxis": "y"
        },
        {
         "alignmentgroup": "True",
         "bingroup": "x",
         "hovertemplate": "cp=2<br>age=%{x}<br>count=%{y}<extra></extra>",
         "legendgroup": "2",
         "marker": {
          "color": "#00cc96",
          "pattern": {
           "shape": ""
          }
         },
         "name": "2",
         "offsetgroup": "2",
         "orientation": "v",
         "showlegend": true,
         "type": "histogram",
         "x": [
          51,
          58,
          60,
          63,
          42,
          44,
          56,
          70,
          50,
          46,
          57,
          65,
          54,
          66,
          38,
          49,
          67,
          66,
          59,
          53,
          37,
          47,
          48,
          50,
          49,
          46,
          38,
          37,
          58,
          54,
          76,
          43,
          57,
          47,
          59,
          65,
          53,
          52,
          51,
          50,
          47,
          51,
          39,
          54,
          54,
          67,
          51,
          43,
          39,
          42,
          64,
          41,
          67,
          59,
          60,
          66,
          59,
          41,
          38,
          42,
          43,
          39,
          54,
          49,
          44,
          49,
          67,
          38,
          60,
          51,
          39,
          42,
          44,
          54,
          58,
          71,
          39,
          58,
          71,
          64,
          58,
          52,
          61,
          59,
          51,
          52,
          44,
          59,
          70,
          64,
          63,
          53,
          48,
          53,
          37,
          37,
          54,
          57,
          54,
          56,
          38,
          44,
          65,
          52,
          54,
          62,
          53,
          62,
          43,
          53,
          53,
          58,
          58,
          51,
          54,
          46,
          58,
          51,
          42,
          51,
          66,
          68,
          49,
          56,
          58,
          46,
          54,
          52,
          65,
          54,
          57,
          47,
          67,
          60,
          37,
          41,
          47,
          57,
          47,
          53,
          51,
          47,
          39,
          69,
          48,
          67,
          38,
          61,
          64,
          41,
          57,
          57,
          39,
          61,
          57,
          64,
          51,
          68,
          46,
          46,
          47,
          44,
          49,
          49,
          67,
          58,
          51,
          65,
          54,
          76,
          50,
          44,
          54,
          51,
          68,
          69,
          53,
          39,
          65,
          42,
          41,
          54,
          42,
          54,
          44,
          64,
          70,
          38,
          62,
          58,
          47,
          71,
          50,
          69,
          58,
          58,
          44,
          47,
          39,
          64,
          65,
          68,
          54,
          41,
          68,
          60,
          54,
          58,
          50,
          67,
          41,
          51,
          57,
          60,
          56,
          64,
          67,
          68,
          51,
          44,
          50,
          44,
          41,
          60,
          51,
          64,
          44,
          65,
          51,
          48,
          71,
          48,
          51,
          54,
          60,
          44,
          51,
          54,
          58,
          63,
          42,
          57,
          44,
          51,
          68,
          49,
          52,
          58,
          37,
          68,
          68,
          64,
          41,
          48,
          39,
          43,
          62,
          59,
          50,
          47,
          42,
          51,
          42,
          43,
          64,
          52,
          67,
          54,
          62,
          54,
          62,
          50,
          65,
          52,
          44,
          76,
          60,
          38,
          52,
          51,
          62,
          51,
          58,
          44
         ],
         "xaxis": "x",
         "yaxis": "y"
        },
        {
         "alignmentgroup": "True",
         "bingroup": "x",
         "hovertemplate": "cp=3<br>age=%{x}<br>count=%{y}<extra></extra>",
         "legendgroup": "3",
         "marker": {
          "color": "#ab63fa",
          "pattern": {
           "shape": ""
          }
         },
         "name": "3",
         "offsetgroup": "3",
         "orientation": "v",
         "showlegend": true,
         "type": "histogram",
         "x": [
          51,
          58,
          56,
          59,
          52,
          60,
          60,
          61,
          34,
          52,
          40,
          64,
          69,
          34,
          52,
          64,
          42,
          64,
          64,
          38,
          64,
          40,
          42,
          59,
          52,
          63,
          45,
          63,
          59,
          69,
          52,
          60,
          59,
          69,
          64,
          59,
          34,
          52,
          40,
          61,
          59,
          38,
          69,
          65,
          45,
          65,
          66,
          66,
          45,
          66,
          51,
          58,
          59,
          61,
          59,
          63,
          42,
          51,
          59,
          58,
          65,
          59,
          59,
          60,
          64,
          59,
          59,
          61,
          59,
          38,
          38,
          69,
          56,
          69,
          52,
          56,
          65
         ],
         "xaxis": "x",
         "yaxis": "y"
        }
       ],
       "layout": {
        "barmode": "relative",
        "legend": {
         "title": {
          "text": "cp"
         },
         "tracegroupgap": 0
        },
        "margin": {
         "t": 60
        },
        "template": {
         "data": {
          "bar": [
           {
            "error_x": {
             "color": "#2a3f5f"
            },
            "error_y": {
             "color": "#2a3f5f"
            },
            "marker": {
             "line": {
              "color": "#E5ECF6",
              "width": 0.5
             },
             "pattern": {
              "fillmode": "overlay",
              "size": 10,
              "solidity": 0.2
             }
            },
            "type": "bar"
           }
          ],
          "barpolar": [
           {
            "marker": {
             "line": {
              "color": "#E5ECF6",
              "width": 0.5
             },
             "pattern": {
              "fillmode": "overlay",
              "size": 10,
              "solidity": 0.2
             }
            },
            "type": "barpolar"
           }
          ],
          "carpet": [
           {
            "aaxis": {
             "endlinecolor": "#2a3f5f",
             "gridcolor": "white",
             "linecolor": "white",
             "minorgridcolor": "white",
             "startlinecolor": "#2a3f5f"
            },
            "baxis": {
             "endlinecolor": "#2a3f5f",
             "gridcolor": "white",
             "linecolor": "white",
             "minorgridcolor": "white",
             "startlinecolor": "#2a3f5f"
            },
            "type": "carpet"
           }
          ],
          "choropleth": [
           {
            "colorbar": {
             "outlinewidth": 0,
             "ticks": ""
            },
            "type": "choropleth"
           }
          ],
          "contour": [
           {
            "colorbar": {
             "outlinewidth": 0,
             "ticks": ""
            },
            "colorscale": [
             [
              0,
              "#0d0887"
             ],
             [
              0.1111111111111111,
              "#46039f"
             ],
             [
              0.2222222222222222,
              "#7201a8"
             ],
             [
              0.3333333333333333,
              "#9c179e"
             ],
             [
              0.4444444444444444,
              "#bd3786"
             ],
             [
              0.5555555555555556,
              "#d8576b"
             ],
             [
              0.6666666666666666,
              "#ed7953"
             ],
             [
              0.7777777777777778,
              "#fb9f3a"
             ],
             [
              0.8888888888888888,
              "#fdca26"
             ],
             [
              1,
              "#f0f921"
             ]
            ],
            "type": "contour"
           }
          ],
          "contourcarpet": [
           {
            "colorbar": {
             "outlinewidth": 0,
             "ticks": ""
            },
            "type": "contourcarpet"
           }
          ],
          "heatmap": [
           {
            "colorbar": {
             "outlinewidth": 0,
             "ticks": ""
            },
            "colorscale": [
             [
              0,
              "#0d0887"
             ],
             [
              0.1111111111111111,
              "#46039f"
             ],
             [
              0.2222222222222222,
              "#7201a8"
             ],
             [
              0.3333333333333333,
              "#9c179e"
             ],
             [
              0.4444444444444444,
              "#bd3786"
             ],
             [
              0.5555555555555556,
              "#d8576b"
             ],
             [
              0.6666666666666666,
              "#ed7953"
             ],
             [
              0.7777777777777778,
              "#fb9f3a"
             ],
             [
              0.8888888888888888,
              "#fdca26"
             ],
             [
              1,
              "#f0f921"
             ]
            ],
            "type": "heatmap"
           }
          ],
          "heatmapgl": [
           {
            "colorbar": {
             "outlinewidth": 0,
             "ticks": ""
            },
            "colorscale": [
             [
              0,
              "#0d0887"
             ],
             [
              0.1111111111111111,
              "#46039f"
             ],
             [
              0.2222222222222222,
              "#7201a8"
             ],
             [
              0.3333333333333333,
              "#9c179e"
             ],
             [
              0.4444444444444444,
              "#bd3786"
             ],
             [
              0.5555555555555556,
              "#d8576b"
             ],
             [
              0.6666666666666666,
              "#ed7953"
             ],
             [
              0.7777777777777778,
              "#fb9f3a"
             ],
             [
              0.8888888888888888,
              "#fdca26"
             ],
             [
              1,
              "#f0f921"
             ]
            ],
            "type": "heatmapgl"
           }
          ],
          "histogram": [
           {
            "marker": {
             "pattern": {
              "fillmode": "overlay",
              "size": 10,
              "solidity": 0.2
             }
            },
            "type": "histogram"
           }
          ],
          "histogram2d": [
           {
            "colorbar": {
             "outlinewidth": 0,
             "ticks": ""
            },
            "colorscale": [
             [
              0,
              "#0d0887"
             ],
             [
              0.1111111111111111,
              "#46039f"
             ],
             [
              0.2222222222222222,
              "#7201a8"
             ],
             [
              0.3333333333333333,
              "#9c179e"
             ],
             [
              0.4444444444444444,
              "#bd3786"
             ],
             [
              0.5555555555555556,
              "#d8576b"
             ],
             [
              0.6666666666666666,
              "#ed7953"
             ],
             [
              0.7777777777777778,
              "#fb9f3a"
             ],
             [
              0.8888888888888888,
              "#fdca26"
             ],
             [
              1,
              "#f0f921"
             ]
            ],
            "type": "histogram2d"
           }
          ],
          "histogram2dcontour": [
           {
            "colorbar": {
             "outlinewidth": 0,
             "ticks": ""
            },
            "colorscale": [
             [
              0,
              "#0d0887"
             ],
             [
              0.1111111111111111,
              "#46039f"
             ],
             [
              0.2222222222222222,
              "#7201a8"
             ],
             [
              0.3333333333333333,
              "#9c179e"
             ],
             [
              0.4444444444444444,
              "#bd3786"
             ],
             [
              0.5555555555555556,
              "#d8576b"
             ],
             [
              0.6666666666666666,
              "#ed7953"
             ],
             [
              0.7777777777777778,
              "#fb9f3a"
             ],
             [
              0.8888888888888888,
              "#fdca26"
             ],
             [
              1,
              "#f0f921"
             ]
            ],
            "type": "histogram2dcontour"
           }
          ],
          "mesh3d": [
           {
            "colorbar": {
             "outlinewidth": 0,
             "ticks": ""
            },
            "type": "mesh3d"
           }
          ],
          "parcoords": [
           {
            "line": {
             "colorbar": {
              "outlinewidth": 0,
              "ticks": ""
             }
            },
            "type": "parcoords"
           }
          ],
          "pie": [
           {
            "automargin": true,
            "type": "pie"
           }
          ],
          "scatter": [
           {
            "fillpattern": {
             "fillmode": "overlay",
             "size": 10,
             "solidity": 0.2
            },
            "type": "scatter"
           }
          ],
          "scatter3d": [
           {
            "line": {
             "colorbar": {
              "outlinewidth": 0,
              "ticks": ""
             }
            },
            "marker": {
             "colorbar": {
              "outlinewidth": 0,
              "ticks": ""
             }
            },
            "type": "scatter3d"
           }
          ],
          "scattercarpet": [
           {
            "marker": {
             "colorbar": {
              "outlinewidth": 0,
              "ticks": ""
             }
            },
            "type": "scattercarpet"
           }
          ],
          "scattergeo": [
           {
            "marker": {
             "colorbar": {
              "outlinewidth": 0,
              "ticks": ""
             }
            },
            "type": "scattergeo"
           }
          ],
          "scattergl": [
           {
            "marker": {
             "colorbar": {
              "outlinewidth": 0,
              "ticks": ""
             }
            },
            "type": "scattergl"
           }
          ],
          "scattermapbox": [
           {
            "marker": {
             "colorbar": {
              "outlinewidth": 0,
              "ticks": ""
             }
            },
            "type": "scattermapbox"
           }
          ],
          "scatterpolar": [
           {
            "marker": {
             "colorbar": {
              "outlinewidth": 0,
              "ticks": ""
             }
            },
            "type": "scatterpolar"
           }
          ],
          "scatterpolargl": [
           {
            "marker": {
             "colorbar": {
              "outlinewidth": 0,
              "ticks": ""
             }
            },
            "type": "scatterpolargl"
           }
          ],
          "scatterternary": [
           {
            "marker": {
             "colorbar": {
              "outlinewidth": 0,
              "ticks": ""
             }
            },
            "type": "scatterternary"
           }
          ],
          "surface": [
           {
            "colorbar": {
             "outlinewidth": 0,
             "ticks": ""
            },
            "colorscale": [
             [
              0,
              "#0d0887"
             ],
             [
              0.1111111111111111,
              "#46039f"
             ],
             [
              0.2222222222222222,
              "#7201a8"
             ],
             [
              0.3333333333333333,
              "#9c179e"
             ],
             [
              0.4444444444444444,
              "#bd3786"
             ],
             [
              0.5555555555555556,
              "#d8576b"
             ],
             [
              0.6666666666666666,
              "#ed7953"
             ],
             [
              0.7777777777777778,
              "#fb9f3a"
             ],
             [
              0.8888888888888888,
              "#fdca26"
             ],
             [
              1,
              "#f0f921"
             ]
            ],
            "type": "surface"
           }
          ],
          "table": [
           {
            "cells": {
             "fill": {
              "color": "#EBF0F8"
             },
             "line": {
              "color": "white"
             }
            },
            "header": {
             "fill": {
              "color": "#C8D4E3"
             },
             "line": {
              "color": "white"
             }
            },
            "type": "table"
           }
          ]
         },
         "layout": {
          "annotationdefaults": {
           "arrowcolor": "#2a3f5f",
           "arrowhead": 0,
           "arrowwidth": 1
          },
          "autotypenumbers": "strict",
          "coloraxis": {
           "colorbar": {
            "outlinewidth": 0,
            "ticks": ""
           }
          },
          "colorscale": {
           "diverging": [
            [
             0,
             "#8e0152"
            ],
            [
             0.1,
             "#c51b7d"
            ],
            [
             0.2,
             "#de77ae"
            ],
            [
             0.3,
             "#f1b6da"
            ],
            [
             0.4,
             "#fde0ef"
            ],
            [
             0.5,
             "#f7f7f7"
            ],
            [
             0.6,
             "#e6f5d0"
            ],
            [
             0.7,
             "#b8e186"
            ],
            [
             0.8,
             "#7fbc41"
            ],
            [
             0.9,
             "#4d9221"
            ],
            [
             1,
             "#276419"
            ]
           ],
           "sequential": [
            [
             0,
             "#0d0887"
            ],
            [
             0.1111111111111111,
             "#46039f"
            ],
            [
             0.2222222222222222,
             "#7201a8"
            ],
            [
             0.3333333333333333,
             "#9c179e"
            ],
            [
             0.4444444444444444,
             "#bd3786"
            ],
            [
             0.5555555555555556,
             "#d8576b"
            ],
            [
             0.6666666666666666,
             "#ed7953"
            ],
            [
             0.7777777777777778,
             "#fb9f3a"
            ],
            [
             0.8888888888888888,
             "#fdca26"
            ],
            [
             1,
             "#f0f921"
            ]
           ],
           "sequentialminus": [
            [
             0,
             "#0d0887"
            ],
            [
             0.1111111111111111,
             "#46039f"
            ],
            [
             0.2222222222222222,
             "#7201a8"
            ],
            [
             0.3333333333333333,
             "#9c179e"
            ],
            [
             0.4444444444444444,
             "#bd3786"
            ],
            [
             0.5555555555555556,
             "#d8576b"
            ],
            [
             0.6666666666666666,
             "#ed7953"
            ],
            [
             0.7777777777777778,
             "#fb9f3a"
            ],
            [
             0.8888888888888888,
             "#fdca26"
            ],
            [
             1,
             "#f0f921"
            ]
           ]
          },
          "colorway": [
           "#636efa",
           "#EF553B",
           "#00cc96",
           "#ab63fa",
           "#FFA15A",
           "#19d3f3",
           "#FF6692",
           "#B6E880",
           "#FF97FF",
           "#FECB52"
          ],
          "font": {
           "color": "#2a3f5f"
          },
          "geo": {
           "bgcolor": "white",
           "lakecolor": "white",
           "landcolor": "#E5ECF6",
           "showlakes": true,
           "showland": true,
           "subunitcolor": "white"
          },
          "hoverlabel": {
           "align": "left"
          },
          "hovermode": "closest",
          "mapbox": {
           "style": "light"
          },
          "paper_bgcolor": "white",
          "plot_bgcolor": "#E5ECF6",
          "polar": {
           "angularaxis": {
            "gridcolor": "white",
            "linecolor": "white",
            "ticks": ""
           },
           "bgcolor": "#E5ECF6",
           "radialaxis": {
            "gridcolor": "white",
            "linecolor": "white",
            "ticks": ""
           }
          },
          "scene": {
           "xaxis": {
            "backgroundcolor": "#E5ECF6",
            "gridcolor": "white",
            "gridwidth": 2,
            "linecolor": "white",
            "showbackground": true,
            "ticks": "",
            "zerolinecolor": "white"
           },
           "yaxis": {
            "backgroundcolor": "#E5ECF6",
            "gridcolor": "white",
            "gridwidth": 2,
            "linecolor": "white",
            "showbackground": true,
            "ticks": "",
            "zerolinecolor": "white"
           },
           "zaxis": {
            "backgroundcolor": "#E5ECF6",
            "gridcolor": "white",
            "gridwidth": 2,
            "linecolor": "white",
            "showbackground": true,
            "ticks": "",
            "zerolinecolor": "white"
           }
          },
          "shapedefaults": {
           "line": {
            "color": "#2a3f5f"
           }
          },
          "ternary": {
           "aaxis": {
            "gridcolor": "white",
            "linecolor": "white",
            "ticks": ""
           },
           "baxis": {
            "gridcolor": "white",
            "linecolor": "white",
            "ticks": ""
           },
           "bgcolor": "#E5ECF6",
           "caxis": {
            "gridcolor": "white",
            "linecolor": "white",
            "ticks": ""
           }
          },
          "title": {
           "x": 0.05
          },
          "xaxis": {
           "automargin": true,
           "gridcolor": "white",
           "linecolor": "white",
           "ticks": "",
           "title": {
            "standoff": 15
           },
           "zerolinecolor": "white",
           "zerolinewidth": 2
          },
          "yaxis": {
           "automargin": true,
           "gridcolor": "white",
           "linecolor": "white",
           "ticks": "",
           "title": {
            "standoff": 15
           },
           "zerolinecolor": "white",
           "zerolinewidth": 2
          }
         }
        },
        "xaxis": {
         "anchor": "y",
         "domain": [
          0,
          1
         ],
         "title": {
          "text": "age"
         }
        },
        "yaxis": {
         "anchor": "x",
         "domain": [
          0,
          1
         ],
         "title": {
          "text": "count"
         }
        }
       }
      }
     },
     "metadata": {},
     "output_type": "display_data"
    }
   ],
   "source": [
    "# draw the plot of age column grouped by cp column using plotly\n",
    "fig = px.histogram(data_frame=df, x='age', color='cp')\n",
    "fig.show()"
   ]
  },
  {
   "cell_type": "code",
   "execution_count": 143,
   "id": "34b4178b",
   "metadata": {},
   "outputs": [
    {
     "data": {
      "text/plain": [
       "count    1025.000000\n",
       "mean      131.611707\n",
       "std        17.516718\n",
       "min        94.000000\n",
       "25%       120.000000\n",
       "50%       130.000000\n",
       "75%       140.000000\n",
       "max       200.000000\n",
       "Name: trestbps, dtype: float64"
      ]
     },
     "execution_count": 143,
     "metadata": {},
     "output_type": "execute_result"
    }
   ],
   "source": [
    "# find the value counts of trestbps column\n",
    "df['trestbps'].describe()"
   ]
  },
  {
   "cell_type": "code",
   "execution_count": 144,
   "id": "e03f919a",
   "metadata": {},
   "outputs": [
    {
     "data": {
      "text/plain": [
       "<Axes: xlabel='trestbps', ylabel='Count'>"
      ]
     },
     "execution_count": 144,
     "metadata": {},
     "output_type": "execute_result"
    },
    {
     "data": {
      "image/png": "[encoded data removed]",
      "text/plain": [
       "<Figure size 640x480 with 1 Axes>"
      ]
     },
     "metadata": {},
     "output_type": "display_data"
    }
   ],
   "source": [
    "# create a histplot of trestbps column\n",
    "sns.histplot(df['trestbps'], kde=True)"
   ]
  },
  {
   "cell_type": "code",
   "execution_count": 145,
   "id": "bfb39a55",
   "metadata": {},
   "outputs": [
    {
     "data": {
      "text/plain": [
       "[]"
      ]
     },
     "execution_count": 145,
     "metadata": {},
     "output_type": "execute_result"
    }
   ],
   "source": [
    "df.isnull().sum()[df.isnull().sum() > 0].sort_values(ascending=False)\n",
    "missing_data_cols = df.isnull().sum()[df.isnull().sum() > 0].index.tolist()\n",
    "missing_data_cols"
   ]
  },
  {
   "cell_type": "code",
   "execution_count": 146,
   "id": "bd3f3cd2",
   "metadata": {},
   "outputs": [],
   "source": [
    "categorical_cols = ['thal', 'ca', 'slope', 'exang', 'restecg', 'fbs', 'cp', 'sex', 'target']\n",
    "bool_cols = ['fbs', 'exang']\n",
    "numeric_cols = ['oldpeak', 'thalach', 'chol', 'trestbps', 'age']"
   ]
  },
  {
   "cell_type": "code",
   "execution_count": 147,
   "id": "600dc9d5",
   "metadata": {},
   "outputs": [
    {
     "data": {
      "text/plain": [
       "age         0\n",
       "sex         0\n",
       "cp          0\n",
       "trestbps    0\n",
       "chol        0\n",
       "fbs         0\n",
       "restecg     0\n",
       "thalach     0\n",
       "exang       0\n",
       "oldpeak     0\n",
       "slope       0\n",
       "ca          0\n",
       "thal        0\n",
       "target      0\n",
       "dtype: int64"
      ]
     },
     "execution_count": 147,
     "metadata": {},
     "output_type": "execute_result"
    }
   ],
   "source": [
    "df.isnull().sum()"
   ]
  },
  {
   "cell_type": "code",
   "execution_count": 148,
   "id": "4e540ba2",
   "metadata": {},
   "outputs": [
    {
     "data": {
      "image/png": "[encoded data removed]",
      "text/plain": [
       "<Figure size 2000x2000 with 5 Axes>"
      ]
     },
     "metadata": {},
     "output_type": "display_data"
    }
   ],
   "source": [
    "\n",
    "plt.figure(figsize=(20, 20))\n",
    "\n",
    "colors = ['red', 'green', 'blue', 'orange', 'purple']\n",
    "\n",
    "for i, col in enumerate(numeric_cols):\n",
    "    plt.subplot(3, 2, i+1)\n",
    "    sns.boxplot(x=df[col], color=colors[i])\n",
    "    plt.title(col)\n",
    "plt.show()"
   ]
  },
  {
   "cell_type": "code",
   "execution_count": 149,
   "id": "2861ae39",
   "metadata": {},
   "outputs": [
    {
     "data": {
      "application/vnd.plotly.v1+json": {
       "config": {
        "plotlyServerURL": "https://plot.ly"
       },
       "data": [
        {
         "alignmentgroup": "True",
         "hovertemplate": "oldpeak=%{y}<extra></extra>",
         "legendgroup": "",
         "marker": {
          "color": "#636efa"
         },
         "name": "",
         "notched": false,
         "offsetgroup": "",
         "orientation": "v",
         "showlegend": false,
         "type": "box",
         "x0": " ",
         "xaxis": "x",
         "y": [
          1,
          3.1,
          2.6,
          0,
          1.9,
          1,
          4.4,
          0.8,
          0.8,
          3.2,
          1.6,
          3,
          0.7,
          4.2,
          1,
          0.7,
          1.5,
          2.2,
          1.1,
          0,
          3,
          0.3,
          3,
          0,
          0,
          1,
          0.4,
          0,
          0.6,
          3.4,
          2.8,
          1.1,
          1.2,
          2.9,
          0,
          3.6,
          1.4,
          0,
          0.2,
          0.4,
          0.8,
          0.4,
          0,
          0.8,
          1.2,
          0,
          0,
          1,
          0,
          1.4,
          1,
          0.2,
          0,
          2,
          5.6,
          5.6,
          1.9,
          0.2,
          0.8,
          0,
          0,
          0,
          0.9,
          1.6,
          0,
          0.2,
          1.2,
          1.8,
          0,
          6.2,
          3.4,
          1.9,
          1.2,
          0,
          0,
          0,
          0,
          4,
          0.8,
          0.8,
          0.6,
          0.8,
          3.6,
          0,
          0,
          0,
          0,
          0,
          3.6,
          3.4,
          0,
          0,
          4,
          2.8,
          0,
          0.2,
          0,
          2,
          0.6,
          1.1,
          0.2,
          0.2,
          0,
          0,
          0,
          1,
          1.6,
          1.4,
          0,
          0,
          0,
          0,
          0,
          3,
          2.2,
          1,
          1.4,
          2.5,
          0,
          0,
          0,
          2.8,
          2.8,
          0.8,
          3.6,
          0.9,
          0.4,
          1.2,
          0,
          0.4,
          0.9,
          0.5,
          0,
          0,
          0,
          2.8,
          1.2,
          0,
          0,
          0,
          1.2,
          0,
          2.6,
          0,
          0.1,
          2,
          0.6,
          0,
          1.2,
          0,
          4.4,
          0,
          0,
          0.4,
          1.8,
          0,
          1.4,
          0.4,
          1.6,
          0,
          0,
          1.2,
          0,
          0.5,
          1.2,
          3.4,
          2.1,
          0.6,
          1.9,
          0,
          1.5,
          1.6,
          0,
          0,
          2.8,
          4,
          1.6,
          2.2,
          0,
          1.9,
          4,
          1.8,
          1.2,
          0,
          0,
          1,
          2,
          1.2,
          1.4,
          1.8,
          0,
          0,
          1.6,
          0.1,
          1.5,
          1.6,
          0.1,
          0,
          0,
          0.9,
          0,
          0,
          1.2,
          0.6,
          0,
          0.8,
          2.2,
          0,
          0,
          1.4,
          0.8,
          0.9,
          2.6,
          1.9,
          0,
          0.6,
          2.8,
          0,
          1.8,
          3.2,
          0,
          1.4,
          1.8,
          0,
          0,
          1.6,
          0.8,
          0.3,
          0,
          1,
          0,
          0.8,
          2.8,
          0,
          0,
          0.6,
          0.8,
          0.3,
          1.4,
          1.4,
          0,
          0.8,
          0,
          3,
          2.4,
          0,
          0,
          1.8,
          0,
          0,
          1,
          0,
          1.2,
          1,
          1.6,
          1.2,
          1.4,
          0,
          3.8,
          0.4,
          0,
          1.6,
          0,
          1.2,
          2.8,
          3,
          2,
          1,
          3.2,
          0,
          0,
          0,
          0,
          0,
          2.3,
          1.6,
          0,
          0,
          0.8,
          0,
          0.6,
          0,
          1.4,
          1.8,
          3.2,
          0,
          0.2,
          0.4,
          0,
          0,
          0,
          3,
          1,
          1.6,
          4,
          0.9,
          1,
          0.8,
          0,
          0.2,
          0,
          0,
          1.2,
          2.8,
          0.1,
          1.8,
          0.3,
          0,
          2.2,
          1.3,
          3.6,
          0,
          2.9,
          0.2,
          1.4,
          0.8,
          0.2,
          0,
          0,
          0,
          0.4,
          0.2,
          0,
          0,
          0.2,
          1.3,
          0,
          0.6,
          2.4,
          0,
          0,
          1.8,
          3.5,
          1.6,
          2.4,
          0.8,
          0.2,
          0.5,
          0.6,
          1.4,
          0,
          0,
          0.8,
          0.5,
          0,
          0,
          2.6,
          0,
          0.1,
          1.2,
          0.4,
          0.9,
          3,
          1.5,
          0.3,
          0,
          1,
          1.5,
          0.8,
          0,
          0,
          1.8,
          0.2,
          0,
          0,
          0,
          2.5,
          1,
          0.6,
          0.6,
          3,
          1.2,
          1.6,
          1.8,
          1.4,
          2.3,
          0,
          2,
          1,
          0,
          2,
          3.2,
          1.2,
          0.8,
          0,
          0.6,
          0,
          0,
          2.2,
          2.3,
          0,
          1.2,
          0.6,
          6.2,
          1.8,
          0,
          1.6,
          2,
          2.3,
          2.3,
          2,
          1.6,
          0,
          0,
          1.9,
          0.6,
          0,
          0.1,
          0,
          3.6,
          0,
          1.2,
          0.6,
          2.4,
          0.2,
          1.4,
          0.5,
          0,
          0,
          0.8,
          0,
          0.6,
          0.6,
          0,
          0,
          1.2,
          0,
          1.6,
          0.1,
          0,
          0.8,
          1,
          0,
          3.5,
          0,
          0.6,
          0,
          2.6,
          0,
          1.8,
          1.4,
          1.2,
          1.2,
          1.6,
          0,
          0,
          0,
          0.8,
          0.6,
          0,
          4,
          0,
          1,
          0,
          1,
          0.1,
          0,
          0,
          1.5,
          0,
          2,
          0,
          0,
          0,
          1.6,
          0,
          0,
          1,
          1,
          1.5,
          0.9,
          0.2,
          0.6,
          2,
          1,
          0.2,
          1,
          0.4,
          0,
          2.2,
          1.2,
          4,
          4.2,
          0,
          0.6,
          1.4,
          0,
          2.8,
          0,
          1,
          0,
          1.6,
          1.8,
          1.2,
          2.4,
          0.5,
          1.6,
          0,
          1.2,
          1.4,
          1.6,
          1.4,
          1.4,
          0.6,
          0,
          0.3,
          3.6,
          1.4,
          4,
          3.4,
          0,
          2.5,
          0,
          0,
          0,
          2,
          2.4,
          0,
          2,
          0,
          0,
          0.4,
          0,
          0,
          2.5,
          0.5,
          6.2,
          0,
          4.2,
          0.1,
          2.6,
          0.8,
          0,
          0,
          0,
          1.1,
          1.6,
          0.2,
          0.8,
          0.6,
          3,
          0,
          1.2,
          0.8,
          0.5,
          1,
          2.4,
          0.3,
          0.6,
          1,
          2,
          3.2,
          3,
          1.2,
          0.1,
          0.2,
          0,
          0,
          0,
          1,
          0.6,
          0.8,
          0,
          0,
          2.1,
          0,
          0,
          2,
          0,
          0.8,
          0,
          2.8,
          0,
          0,
          2.8,
          1.5,
          1.2,
          2.4,
          1.2,
          2,
          0,
          0,
          0,
          2.5,
          1.2,
          1.4,
          1.8,
          1,
          1,
          3.2,
          0.2,
          1.8,
          2.9,
          1.8,
          2,
          0,
          0,
          0,
          1.8,
          0,
          1.2,
          1.8,
          0,
          0,
          0,
          0,
          0.1,
          1.8,
          2,
          3.4,
          3,
          2,
          2.8,
          5.6,
          1.2,
          1.6,
          1.2,
          0,
          0.6,
          0.6,
          1.2,
          0,
          1.9,
          2.6,
          4.2,
          2,
          3.2,
          3.8,
          1.8,
          1.4,
          1.2,
          0.6,
          0.6,
          3.6,
          1,
          0.4,
          0,
          0,
          1.4,
          0.6,
          0,
          1.9,
          0.2,
          0.4,
          0,
          2.6,
          0,
          2,
          1.6,
          0.6,
          1.8,
          0,
          2.6,
          1.6,
          0,
          0,
          0,
          0,
          1.8,
          0,
          3.6,
          4.4,
          0.1,
          1,
          2.6,
          0.8,
          0,
          0.3,
          0,
          0,
          0,
          1,
          1,
          0.4,
          1.8,
          0.1,
          1.4,
          1.4,
          0,
          1.6,
          0,
          3.4,
          1,
          2.5,
          3,
          4,
          1,
          0,
          4,
          0,
          0.6,
          1.4,
          3.1,
          0,
          1.2,
          0,
          1.6,
          0.8,
          0.1,
          0,
          2,
          1.6,
          0.4,
          1.5,
          0,
          2.2,
          0.4,
          1.3,
          0,
          1.2,
          0,
          1.6,
          0,
          2.6,
          1.4,
          0,
          2,
          0.6,
          1.4,
          0.1,
          0,
          0,
          0,
          1.5,
          0.2,
          2.6,
          0.5,
          0,
          1.8,
          1.4,
          0,
          0,
          0,
          0.6,
          1,
          0,
          1.2,
          2.6,
          0,
          0,
          0,
          0,
          1.8,
          0.4,
          0,
          1.2,
          0,
          1.4,
          0,
          0.4,
          0,
          0.8,
          0.2,
          0.4,
          0.5,
          0,
          2.2,
          2.3,
          0,
          0,
          0.6,
          0,
          0,
          1,
          4,
          3,
          3,
          3.4,
          0,
          0,
          0,
          0.2,
          1.4,
          1,
          0.2,
          1.2,
          1,
          2,
          0.8,
          0.7,
          2.8,
          2,
          2,
          0,
          1.6,
          0.8,
          0.2,
          4.2,
          1.9,
          1.4,
          2.8,
          2.8,
          3.4,
          0,
          2.6,
          0,
          0,
          1,
          0.2,
          1.2,
          2.6,
          2.3,
          0,
          0,
          0.6,
          0,
          0.6,
          0.4,
          0,
          1.6,
          2,
          0.3,
          3.6,
          3.1,
          0,
          0.6,
          0,
          0,
          0.8,
          2.8,
          1.9,
          3.6,
          1.4,
          1.2,
          3.6,
          0,
          0,
          0.4,
          0.4,
          2.2,
          1.2,
          0.4,
          1,
          5.6,
          1.8,
          0.8,
          0,
          0.5,
          1.4,
          0,
          2.6,
          1.4,
          2.5,
          0,
          1.2,
          2.1,
          1.4,
          3.6,
          1,
          0,
          1.8,
          3.5,
          0,
          2.6,
          1.4,
          0,
          1.5,
          1.2,
          1.5,
          1.6,
          0,
          0,
          0.2,
          1,
          0,
          0.9,
          0,
          0,
          0,
          0.8,
          0.2,
          0,
          0.6,
          0.4,
          0,
          2.4,
          1.9,
          0.2,
          1.4,
          0,
          0,
          0,
          1.2,
          0.5,
          2.6,
          1,
          3.6,
          1.5,
          2.6,
          4,
          2,
          0,
          2.8,
          1,
          1.6,
          1.2,
          4.2,
          0.8,
          0.6,
          0.5,
          2.6,
          0.6,
          3.6,
          2.2,
          0,
          2.2,
          0,
          1.1,
          1.8,
          0.9,
          0.6,
          0,
          1.6,
          3,
          0.1,
          0.8,
          2.8,
          0,
          0.8,
          3.8,
          1.2,
          2,
          0,
          1.2,
          0,
          1.2,
          0,
          0.8,
          2.2,
          2.4,
          2.8,
          0,
          1.5,
          3.8,
          0,
          0,
          1.9,
          0,
          0,
          0,
          0.2,
          0.1,
          1.8,
          0.4,
          1,
          1.9,
          0,
          0,
          2.6,
          0,
          1.5,
          1.2,
          0,
          0.2,
          0.4,
          1.8,
          0,
          0.6,
          0.8,
          1.8,
          0.1,
          1,
          0.1,
          0.2,
          0.6,
          1.1,
          3,
          0,
          3.1,
          0.2,
          0,
          0.5,
          0,
          2.4,
          0,
          1.2,
          1.8,
          0,
          0,
          0,
          0.4,
          1.2,
          0.3,
          0.2,
          0.5,
          1.8,
          3.4,
          0,
          1.2,
          0.4,
          0.8,
          1.4,
          0,
          0.1,
          1.2,
          0,
          1.9,
          1.4,
          1.8,
          0.2,
          2,
          0,
          0.1,
          0.1,
          1.5,
          2,
          0,
          1.9,
          0,
          0,
          1.6,
          0,
          1,
          4.4,
          0.6,
          2.2,
          1.4,
          2,
          0,
          0.1,
          0,
          2.8,
          1,
          0,
          1.4
         ],
         "y0": " ",
         "yaxis": "y"
        }
       ],
       "layout": {
        "boxmode": "group",
        "legend": {
         "tracegroupgap": 0
        },
        "template": {
         "data": {
          "bar": [
           {
            "error_x": {
             "color": "#2a3f5f"
            },
            "error_y": {
             "color": "#2a3f5f"
            },
            "marker": {
             "line": {
              "color": "#E5ECF6",
              "width": 0.5
             },
             "pattern": {
              "fillmode": "overlay",
              "size": 10,
              "solidity": 0.2
             }
            },
            "type": "bar"
           }
          ],
          "barpolar": [
           {
            "marker": {
             "line": {
              "color": "#E5ECF6",
              "width": 0.5
             },
             "pattern": {
              "fillmode": "overlay",
              "size": 10,
              "solidity": 0.2
             }
            },
            "type": "barpolar"
           }
          ],
          "carpet": [
           {
            "aaxis": {
             "endlinecolor": "#2a3f5f",
             "gridcolor": "white",
             "linecolor": "white",
             "minorgridcolor": "white",
             "startlinecolor": "#2a3f5f"
            },
            "baxis": {
             "endlinecolor": "#2a3f5f",
             "gridcolor": "white",
             "linecolor": "white",
             "minorgridcolor": "white",
             "startlinecolor": "#2a3f5f"
            },
            "type": "carpet"
           }
          ],
          "choropleth": [
           {
            "colorbar": {
             "outlinewidth": 0,
             "ticks": ""
            },
            "type": "choropleth"
           }
          ],
          "contour": [
           {
            "colorbar": {
             "outlinewidth": 0,
             "ticks": ""
            },
            "colorscale": [
             [
              0,
              "#0d0887"
             ],
             [
              0.1111111111111111,
              "#46039f"
             ],
             [
              0.2222222222222222,
              "#7201a8"
             ],
             [
              0.3333333333333333,
              "#9c179e"
             ],
             [
              0.4444444444444444,
              "#bd3786"
             ],
             [
              0.5555555555555556,
              "#d8576b"
             ],
             [
              0.6666666666666666,
              "#ed7953"
             ],
             [
              0.7777777777777778,
              "#fb9f3a"
             ],
             [
              0.8888888888888888,
              "#fdca26"
             ],
             [
              1,
              "#f0f921"
             ]
            ],
            "type": "contour"
           }
          ],
          "contourcarpet": [
           {
            "colorbar": {
             "outlinewidth": 0,
             "ticks": ""
            },
            "type": "contourcarpet"
           }
          ],
          "heatmap": [
           {
            "colorbar": {
             "outlinewidth": 0,
             "ticks": ""
            },
            "colorscale": [
             [
              0,
              "#0d0887"
             ],
             [
              0.1111111111111111,
              "#46039f"
             ],
             [
              0.2222222222222222,
              "#7201a8"
             ],
             [
              0.3333333333333333,
              "#9c179e"
             ],
             [
              0.4444444444444444,
              "#bd3786"
             ],
             [
              0.5555555555555556,
              "#d8576b"
             ],
             [
              0.6666666666666666,
              "#ed7953"
             ],
             [
              0.7777777777777778,
              "#fb9f3a"
             ],
             [
              0.8888888888888888,
              "#fdca26"
             ],
             [
              1,
              "#f0f921"
             ]
            ],
            "type": "heatmap"
           }
          ],
          "heatmapgl": [
           {
            "colorbar": {
             "outlinewidth": 0,
             "ticks": ""
            },
            "colorscale": [
             [
              0,
              "#0d0887"
             ],
             [
              0.1111111111111111,
              "#46039f"
             ],
             [
              0.2222222222222222,
              "#7201a8"
             ],
             [
              0.3333333333333333,
              "#9c179e"
             ],
             [
              0.4444444444444444,
              "#bd3786"
             ],
             [
              0.5555555555555556,
              "#d8576b"
             ],
             [
              0.6666666666666666,
              "#ed7953"
             ],
             [
              0.7777777777777778,
              "#fb9f3a"
             ],
             [
              0.8888888888888888,
              "#fdca26"
             ],
             [
              1,
              "#f0f921"
             ]
            ],
            "type": "heatmapgl"
           }
          ],
          "histogram": [
           {
            "marker": {
             "pattern": {
              "fillmode": "overlay",
              "size": 10,
              "solidity": 0.2
             }
            },
            "type": "histogram"
           }
          ],
          "histogram2d": [
           {
            "colorbar": {
             "outlinewidth": 0,
             "ticks": ""
            },
            "colorscale": [
             [
              0,
              "#0d0887"
             ],
             [
              0.1111111111111111,
              "#46039f"
             ],
             [
              0.2222222222222222,
              "#7201a8"
             ],
             [
              0.3333333333333333,
              "#9c179e"
             ],
             [
              0.4444444444444444,
              "#bd3786"
             ],
             [
              0.5555555555555556,
              "#d8576b"
             ],
             [
              0.6666666666666666,
              "#ed7953"
             ],
             [
              0.7777777777777778,
              "#fb9f3a"
             ],
             [
              0.8888888888888888,
              "#fdca26"
             ],
             [
              1,
              "#f0f921"
             ]
            ],
            "type": "histogram2d"
           }
          ],
          "histogram2dcontour": [
           {
            "colorbar": {
             "outlinewidth": 0,
             "ticks": ""
            },
            "colorscale": [
             [
              0,
              "#0d0887"
             ],
             [
              0.1111111111111111,
              "#46039f"
             ],
             [
              0.2222222222222222,
              "#7201a8"
             ],
             [
              0.3333333333333333,
              "#9c179e"
             ],
             [
              0.4444444444444444,
              "#bd3786"
             ],
             [
              0.5555555555555556,
              "#d8576b"
             ],
             [
              0.6666666666666666,
              "#ed7953"
             ],
             [
              0.7777777777777778,
              "#fb9f3a"
             ],
             [
              0.8888888888888888,
              "#fdca26"
             ],
             [
              1,
              "#f0f921"
             ]
            ],
            "type": "histogram2dcontour"
           }
          ],
          "mesh3d": [
           {
            "colorbar": {
             "outlinewidth": 0,
             "ticks": ""
            },
            "type": "mesh3d"
           }
          ],
          "parcoords": [
           {
            "line": {
             "colorbar": {
              "outlinewidth": 0,
              "ticks": ""
             }
            },
            "type": "parcoords"
           }
          ],
          "pie": [
           {
            "automargin": true,
            "type": "pie"
           }
          ],
          "scatter": [
           {
            "fillpattern": {
             "fillmode": "overlay",
             "size": 10,
             "solidity": 0.2
            },
            "type": "scatter"
           }
          ],
          "scatter3d": [
           {
            "line": {
             "colorbar": {
              "outlinewidth": 0,
              "ticks": ""
             }
            },
            "marker": {
             "colorbar": {
              "outlinewidth": 0,
              "ticks": ""
             }
            },
            "type": "scatter3d"
           }
          ],
          "scattercarpet": [
           {
            "marker": {
             "colorbar": {
              "outlinewidth": 0,
              "ticks": ""
             }
            },
            "type": "scattercarpet"
           }
          ],
          "scattergeo": [
           {
            "marker": {
             "colorbar": {
              "outlinewidth": 0,
              "ticks": ""
             }
            },
            "type": "scattergeo"
           }
          ],
          "scattergl": [
           {
            "marker": {
             "colorbar": {
              "outlinewidth": 0,
              "ticks": ""
             }
            },
            "type": "scattergl"
           }
          ],
          "scattermapbox": [
           {
            "marker": {
             "colorbar": {
              "outlinewidth": 0,
              "ticks": ""
             }
            },
            "type": "scattermapbox"
           }
          ],
          "scatterpolar": [
           {
            "marker": {
             "colorbar": {
              "outlinewidth": 0,
              "ticks": ""
             }
            },
            "type": "scatterpolar"
           }
          ],
          "scatterpolargl": [
           {
            "marker": {
             "colorbar": {
              "outlinewidth": 0,
              "ticks": ""
             }
            },
            "type": "scatterpolargl"
           }
          ],
          "scatterternary": [
           {
            "marker": {
             "colorbar": {
              "outlinewidth": 0,
              "ticks": ""
             }
            },
            "type": "scatterternary"
           }
          ],
          "surface": [
           {
            "colorbar": {
             "outlinewidth": 0,
             "ticks": ""
            },
            "colorscale": [
             [
              0,
              "#0d0887"
             ],
             [
              0.1111111111111111,
              "#46039f"
             ],
             [
              0.2222222222222222,
              "#7201a8"
             ],
             [
              0.3333333333333333,
              "#9c179e"
             ],
             [
              0.4444444444444444,
              "#bd3786"
             ],
             [
              0.5555555555555556,
              "#d8576b"
             ],
             [
              0.6666666666666666,
              "#ed7953"
             ],
             [
              0.7777777777777778,
              "#fb9f3a"
             ],
             [
              0.8888888888888888,
              "#fdca26"
             ],
             [
              1,
              "#f0f921"
             ]
            ],
            "type": "surface"
           }
          ],
          "table": [
           {
            "cells": {
             "fill": {
              "color": "#EBF0F8"
             },
             "line": {
              "color": "white"
             }
            },
            "header": {
             "fill": {
              "color": "#C8D4E3"
             },
             "line": {
              "color": "white"
             }
            },
            "type": "table"
           }
          ]
         },
         "layout": {
          "annotationdefaults": {
           "arrowcolor": "#2a3f5f",
           "arrowhead": 0,
           "arrowwidth": 1
          },
          "autotypenumbers": "strict",
          "coloraxis": {
           "colorbar": {
            "outlinewidth": 0,
            "ticks": ""
           }
          },
          "colorscale": {
           "diverging": [
            [
             0,
             "#8e0152"
            ],
            [
             0.1,
             "#c51b7d"
            ],
            [
             0.2,
             "#de77ae"
            ],
            [
             0.3,
             "#f1b6da"
            ],
            [
             0.4,
             "#fde0ef"
            ],
            [
             0.5,
             "#f7f7f7"
            ],
            [
             0.6,
             "#e6f5d0"
            ],
            [
             0.7,
             "#b8e186"
            ],
            [
             0.8,
             "#7fbc41"
            ],
            [
             0.9,
             "#4d9221"
            ],
            [
             1,
             "#276419"
            ]
           ],
           "sequential": [
            [
             0,
             "#0d0887"
            ],
            [
             0.1111111111111111,
             "#46039f"
            ],
            [
             0.2222222222222222,
             "#7201a8"
            ],
            [
             0.3333333333333333,
             "#9c179e"
            ],
            [
             0.4444444444444444,
             "#bd3786"
            ],
            [
             0.5555555555555556,
             "#d8576b"
            ],
            [
             0.6666666666666666,
             "#ed7953"
            ],
            [
             0.7777777777777778,
             "#fb9f3a"
            ],
            [
             0.8888888888888888,
             "#fdca26"
            ],
            [
             1,
             "#f0f921"
            ]
           ],
           "sequentialminus": [
            [
             0,
             "#0d0887"
            ],
            [
             0.1111111111111111,
             "#46039f"
            ],
            [
             0.2222222222222222,
             "#7201a8"
            ],
            [
             0.3333333333333333,
             "#9c179e"
            ],
            [
             0.4444444444444444,
             "#bd3786"
            ],
            [
             0.5555555555555556,
             "#d8576b"
            ],
            [
             0.6666666666666666,
             "#ed7953"
            ],
            [
             0.7777777777777778,
             "#fb9f3a"
            ],
            [
             0.8888888888888888,
             "#fdca26"
            ],
            [
             1,
             "#f0f921"
            ]
           ]
          },
          "colorway": [
           "#636efa",
           "#EF553B",
           "#00cc96",
           "#ab63fa",
           "#FFA15A",
           "#19d3f3",
           "#FF6692",
           "#B6E880",
           "#FF97FF",
           "#FECB52"
          ],
          "font": {
           "color": "#2a3f5f"
          },
          "geo": {
           "bgcolor": "white",
           "lakecolor": "white",
           "landcolor": "#E5ECF6",
           "showlakes": true,
           "showland": true,
           "subunitcolor": "white"
          },
          "hoverlabel": {
           "align": "left"
          },
          "hovermode": "closest",
          "mapbox": {
           "style": "light"
          },
          "paper_bgcolor": "white",
          "plot_bgcolor": "#E5ECF6",
          "polar": {
           "angularaxis": {
            "gridcolor": "white",
            "linecolor": "white",
            "ticks": ""
           },
           "bgcolor": "#E5ECF6",
           "radialaxis": {
            "gridcolor": "white",
            "linecolor": "white",
            "ticks": ""
           }
          },
          "scene": {
           "xaxis": {
            "backgroundcolor": "#E5ECF6",
            "gridcolor": "white",
            "gridwidth": 2,
            "linecolor": "white",
            "showbackground": true,
            "ticks": "",
            "zerolinecolor": "white"
           },
           "yaxis": {
            "backgroundcolor": "#E5ECF6",
            "gridcolor": "white",
            "gridwidth": 2,
            "linecolor": "white",
            "showbackground": true,
            "ticks": "",
            "zerolinecolor": "white"
           },
           "zaxis": {
            "backgroundcolor": "#E5ECF6",
            "gridcolor": "white",
            "gridwidth": 2,
            "linecolor": "white",
            "showbackground": true,
            "ticks": "",
            "zerolinecolor": "white"
           }
          },
          "shapedefaults": {
           "line": {
            "color": "#2a3f5f"
           }
          },
          "ternary": {
           "aaxis": {
            "gridcolor": "white",
            "linecolor": "white",
            "ticks": ""
           },
           "baxis": {
            "gridcolor": "white",
            "linecolor": "white",
            "ticks": ""
           },
           "bgcolor": "#E5ECF6",
           "caxis": {
            "gridcolor": "white",
            "linecolor": "white",
            "ticks": ""
           }
          },
          "title": {
           "x": 0.05
          },
          "xaxis": {
           "automargin": true,
           "gridcolor": "white",
           "linecolor": "white",
           "ticks": "",
           "title": {
            "standoff": 15
           },
           "zerolinecolor": "white",
           "zerolinewidth": 2
          },
          "yaxis": {
           "automargin": true,
           "gridcolor": "white",
           "linecolor": "white",
           "ticks": "",
           "title": {
            "standoff": 15
           },
           "zerolinecolor": "white",
           "zerolinewidth": 2
          }
         }
        },
        "title": {
         "text": "Box Plot of oldpeak"
        },
        "xaxis": {
         "anchor": "y",
         "domain": [
          0,
          1
         ]
        },
        "yaxis": {
         "anchor": "x",
         "domain": [
          0,
          1
         ],
         "title": {
          "text": "oldpeak"
         }
        }
       }
      }
     },
     "metadata": {},
     "output_type": "display_data"
    },
    {
     "data": {
      "application/vnd.plotly.v1+json": {
       "config": {
        "plotlyServerURL": "https://plot.ly"
       },
       "data": [
        {
         "alignmentgroup": "True",
         "hovertemplate": "thalach=%{y}<extra></extra>",
         "legendgroup": "",
         "marker": {
          "color": "#636efa"
         },
         "name": "",
         "notched": false,
         "offsetgroup": "",
         "orientation": "v",
         "showlegend": false,
         "type": "box",
         "x0": " ",
         "xaxis": "x",
         "y": [
          168,
          155,
          125,
          161,
          106,
          122,
          140,
          145,
          144,
          116,
          125,
          136,
          192,
          122,
          156,
          192,
          142,
          109,
          162,
          165,
          155,
          142,
          148,
          172,
          173,
          146,
          179,
          152,
          142,
          117,
          144,
          162,
          115,
          112,
          163,
          147,
          125,
          182,
          105,
          150,
          151,
          147,
          169,
          144,
          166,
          178,
          132,
          165,
          152,
          160,
          162,
          123,
          173,
          139,
          111,
          111,
          162,
          180,
          150,
          164,
          202,
          152,
          125,
          157,
          202,
          159,
          152,
          125,
          170,
          145,
          140,
          138,
          144,
          162,
          150,
          156,
          175,
          144,
          158,
          158,
          163,
          126,
          147,
          173,
          170,
          170,
          165,
          143,
          160,
          141,
          167,
          163,
          144,
          144,
          140,
          152,
          159,
          95,
          158,
          116,
          165,
          173,
          156,
          156,
          190,
          118,
          173,
          103,
          181,
          108,
          177,
          111,
          150,
          143,
          134,
          146,
          147,
          120,
          202,
          162,
          156,
          144,
          142,
          157,
          140,
          171,
          151,
          152,
          169,
          148,
          171,
          149,
          132,
          163,
          156,
          146,
          166,
          154,
          156,
          153,
          88,
          136,
          145,
          174,
          143,
          114,
          157,
          158,
          178,
          182,
          140,
          195,
          171,
          147,
          132,
          156,
          178,
          147,
          160,
          182,
          162,
          143,
          162,
          166,
          144,
          140,
          105,
          163,
          162,
          138,
          171,
          103,
          169,
          179,
          126,
          133,
          103,
          96,
          177,
          150,
          144,
          144,
          170,
          150,
          170,
          124,
          114,
          144,
          147,
          131,
          179,
          163,
          160,
          131,
          108,
          157,
          156,
          185,
          160,
          126,
          163,
          174,
          178,
          155,
          152,
          178,
          134,
          179,
          173,
          103,
          194,
          125,
          128,
          162,
          170,
          171,
          127,
          182,
          120,
          116,
          174,
          147,
          144,
          179,
          186,
          165,
          126,
          149,
          184,
          165,
          171,
          178,
          141,
          163,
          163,
          155,
          126,
          141,
          160,
          154,
          159,
          150,
          173,
          155,
          166,
          188,
          195,
          120,
          152,
          150,
          118,
          138,
          132,
          124,
          130,
          157,
          182,
          154,
          182,
          151,
          169,
          165,
          186,
          166,
          146,
          148,
          95,
          71,
          173,
          130,
          161,
          173,
          152,
          108,
          138,
          103,
          168,
          188,
          145,
          168,
          175,
          174,
          172,
          144,
          173,
          130,
          133,
          162,
          172,
          181,
          169,
          130,
          137,
          157,
          133,
          125,
          71,
          111,
          174,
          172,
          172,
          154,
          166,
          142,
          169,
          99,
          149,
          170,
          134,
          153,
          140,
          150,
          112,
          121,
          178,
          178,
          133,
          172,
          162,
          115,
          143,
          139,
          147,
          120,
          180,
          153,
          195,
          112,
          109,
          115,
          170,
          169,
          187,
          158,
          132,
          111,
          173,
          152,
          142,
          144,
          173,
          169,
          148,
          162,
          182,
          120,
          128,
          167,
          143,
          97,
          151,
          126,
          143,
          126,
          141,
          152,
          90,
          108,
          162,
          115,
          186,
          146,
          165,
          173,
          174,
          173,
          165,
          168,
          154,
          123,
          136,
          132,
          158,
          160,
          160,
          138,
          164,
          122,
          71,
          190,
          105,
          173,
          142,
          111,
          156,
          123,
          173,
          162,
          96,
          150,
          152,
          132,
          123,
          145,
          132,
          152,
          150,
          114,
          138,
          150,
          139,
          125,
          143,
          172,
          138,
          142,
          165,
          156,
          152,
          147,
          168,
          144,
          112,
          109,
          159,
          172,
          152,
          169,
          163,
          151,
          159,
          122,
          163,
          152,
          147,
          142,
          163,
          174,
          143,
          152,
          150,
          114,
          160,
          187,
          172,
          163,
          143,
          129,
          179,
          160,
          154,
          170,
          88,
          174,
          179,
          184,
          173,
          145,
          157,
          160,
          154,
          162,
          165,
          162,
          114,
          131,
          152,
          152,
          171,
          186,
          146,
          175,
          190,
          161,
          160,
          173,
          188,
          118,
          137,
          108,
          171,
          133,
          131,
          168,
          168,
          173,
          124,
          150,
          182,
          131,
          142,
          154,
          122,
          174,
          158,
          103,
          158,
          127,
          159,
          137,
          159,
          174,
          131,
          132,
          166,
          161,
          150,
          164,
          160,
          160,
          125,
          182,
          160,
          175,
          152,
          149,
          140,
          172,
          133,
          117,
          159,
          120,
          153,
          108,
          170,
          139,
          132,
          168,
          139,
          161,
          162,
          144,
          172,
          161,
          165,
          149,
          145,
          163,
          145,
          131,
          157,
          148,
          136,
          160,
          167,
          116,
          158,
          172,
          144,
          155,
          130,
          180,
          157,
          162,
          152,
          168,
          109,
          142,
          157,
          151,
          146,
          116,
          136,
          152,
          156,
          163,
          162,
          186,
          179,
          71,
          131,
          148,
          173,
          153,
          105,
          160,
          159,
          168,
          163,
          194,
          170,
          142,
          174,
          153,
          141,
          171,
          178,
          109,
          157,
          105,
          156,
          180,
          155,
          120,
          132,
          178,
          131,
          90,
          146,
          116,
          121,
          169,
          112,
          169,
          132,
          161,
          164,
          173,
          160,
          179,
          97,
          120,
          172,
          179,
          179,
          130,
          132,
          125,
          132,
          117,
          136,
          130,
          146,
          111,
          142,
          158,
          181,
          163,
          171,
          158,
          88,
          150,
          106,
          145,
          145,
          146,
          173,
          182,
          151,
          174,
          132,
          171,
          175,
          125,
          168,
          143,
          143,
          172,
          174,
          131,
          152,
          150,
          105,
          140,
          169,
          128,
          152,
          122,
          125,
          175,
          99,
          182,
          114,
          103,
          163,
          153,
          174,
          152,
          131,
          182,
          125,
          140,
          143,
          122,
          114,
          157,
          174,
          141,
          202,
          120,
          169,
          168,
          151,
          147,
          132,
          156,
          144,
          147,
          172,
          150,
          162,
          140,
          90,
          120,
          155,
          154,
          156,
          171,
          133,
          170,
          154,
          161,
          155,
          179,
          140,
          156,
          158,
          150,
          132,
          156,
          168,
          130,
          162,
          126,
          154,
          131,
          150,
          153,
          96,
          132,
          163,
          130,
          138,
          114,
          125,
          143,
          130,
          142,
          161,
          147,
          158,
          185,
          172,
          115,
          121,
          157,
          166,
          163,
          120,
          161,
          170,
          160,
          154,
          175,
          156,
          163,
          142,
          129,
          171,
          161,
          180,
          172,
          132,
          144,
          160,
          143,
          158,
          160,
          169,
          144,
          155,
          151,
          180,
          140,
          149,
          175,
          96,
          138,
          172,
          169,
          112,
          163,
          163,
          162,
          144,
          143,
          143,
          141,
          156,
          130,
          132,
          152,
          154,
          114,
          139,
          143,
          146,
          95,
          162,
          192,
          144,
          105,
          122,
          169,
          165,
          145,
          163,
          122,
          106,
          103,
          126,
          126,
          141,
          96,
          145,
          140,
          132,
          114,
          159,
          181,
          129,
          150,
          136,
          160,
          131,
          111,
          112,
          179,
          154,
          158,
          114,
          141,
          160,
          155,
          140,
          154,
          143,
          185,
          178,
          146,
          138,
          160,
          144,
          160,
          125,
          172,
          150,
          150,
          179,
          109,
          143,
          144,
          151,
          111,
          125,
          126,
          160,
          162,
          125,
          186,
          125,
          182,
          165,
          125,
          170,
          105,
          182,
          125,
          162,
          161,
          160,
          187,
          161,
          129,
          174,
          156,
          115,
          181,
          115,
          173,
          160,
          158,
          159,
          168,
          125,
          171,
          179,
          153,
          169,
          178,
          139,
          182,
          155,
          148,
          125,
          132,
          138,
          165,
          113,
          182,
          168,
          164,
          115,
          166,
          125,
          124,
          140,
          126,
          157,
          154,
          130,
          154,
          126,
          156,
          173,
          97,
          145,
          158,
          122,
          161,
          145,
          122,
          160,
          134,
          155,
          96,
          178,
          162,
          99,
          126,
          163,
          152,
          130,
          148,
          132,
          144,
          127,
          179,
          162,
          182,
          140,
          105,
          173,
          160,
          169,
          115,
          108,
          194,
          109,
          132,
          127,
          181,
          142,
          182,
          150,
          169,
          162,
          158,
          111,
          162,
          123,
          169,
          151,
          140,
          165,
          162,
          172,
          163,
          125,
          168,
          108,
          97,
          170,
          152,
          143,
          146,
          163,
          163,
          157,
          151,
          169,
          122,
          147,
          123,
          175,
          116,
          130,
          96,
          155,
          172,
          173,
          162,
          190,
          166,
          161,
          140,
          169,
          184,
          177,
          147,
          148,
          140,
          142,
          105,
          161,
          146,
          117,
          164,
          170,
          162,
          178,
          160,
          159,
          143,
          142,
          173,
          150,
          113,
          125,
          163,
          132,
          178,
          132,
          147,
          142,
          130,
          165,
          162,
          162,
          181,
          173,
          170,
          168,
          140,
          175,
          131,
          174,
          95,
          158,
          143,
          164,
          141,
          118,
          159,
          113
         ],
         "y0": " ",
         "yaxis": "y"
        }
       ],
       "layout": {
        "boxmode": "group",
        "legend": {
         "tracegroupgap": 0
        },
        "template": {
         "data": {
          "bar": [
           {
            "error_x": {
             "color": "#2a3f5f"
            },
            "error_y": {
             "color": "#2a3f5f"
            },
            "marker": {
             "line": {
              "color": "#E5ECF6",
              "width": 0.5
             },
             "pattern": {
              "fillmode": "overlay",
              "size": 10,
              "solidity": 0.2
             }
            },
            "type": "bar"
           }
          ],
          "barpolar": [
           {
            "marker": {
             "line": {
              "color": "#E5ECF6",
              "width": 0.5
             },
             "pattern": {
              "fillmode": "overlay",
              "size": 10,
              "solidity": 0.2
             }
            },
            "type": "barpolar"
           }
          ],
          "carpet": [
           {
            "aaxis": {
             "endlinecolor": "#2a3f5f",
             "gridcolor": "white",
             "linecolor": "white",
             "minorgridcolor": "white",
             "startlinecolor": "#2a3f5f"
            },
            "baxis": {
             "endlinecolor": "#2a3f5f",
             "gridcolor": "white",
             "linecolor": "white",
             "minorgridcolor": "white",
             "startlinecolor": "#2a3f5f"
            },
            "type": "carpet"
           }
          ],
          "choropleth": [
           {
            "colorbar": {
             "outlinewidth": 0,
             "ticks": ""
            },
            "type": "choropleth"
           }
          ],
          "contour": [
           {
            "colorbar": {
             "outlinewidth": 0,
             "ticks": ""
            },
            "colorscale": [
             [
              0,
              "#0d0887"
             ],
             [
              0.1111111111111111,
              "#46039f"
             ],
             [
              0.2222222222222222,
              "#7201a8"
             ],
             [
              0.3333333333333333,
              "#9c179e"
             ],
             [
              0.4444444444444444,
              "#bd3786"
             ],
             [
              0.5555555555555556,
              "#d8576b"
             ],
             [
              0.6666666666666666,
              "#ed7953"
             ],
             [
              0.7777777777777778,
              "#fb9f3a"
             ],
             [
              0.8888888888888888,
              "#fdca26"
             ],
             [
              1,
              "#f0f921"
             ]
            ],
            "type": "contour"
           }
          ],
          "contourcarpet": [
           {
            "colorbar": {
             "outlinewidth": 0,
             "ticks": ""
            },
            "type": "contourcarpet"
           }
          ],
          "heatmap": [
           {
            "colorbar": {
             "outlinewidth": 0,
             "ticks": ""
            },
            "colorscale": [
             [
              0,
              "#0d0887"
             ],
             [
              0.1111111111111111,
              "#46039f"
             ],
             [
              0.2222222222222222,
              "#7201a8"
             ],
             [
              0.3333333333333333,
              "#9c179e"
             ],
             [
              0.4444444444444444,
              "#bd3786"
             ],
             [
              0.5555555555555556,
              "#d8576b"
             ],
             [
              0.6666666666666666,
              "#ed7953"
             ],
             [
              0.7777777777777778,
              "#fb9f3a"
             ],
             [
              0.8888888888888888,
              "#fdca26"
             ],
             [
              1,
              "#f0f921"
             ]
            ],
            "type": "heatmap"
           }
          ],
          "heatmapgl": [
           {
            "colorbar": {
             "outlinewidth": 0,
             "ticks": ""
            },
            "colorscale": [
             [
              0,
              "#0d0887"
             ],
             [
              0.1111111111111111,
              "#46039f"
             ],
             [
              0.2222222222222222,
              "#7201a8"
             ],
             [
              0.3333333333333333,
              "#9c179e"
             ],
             [
              0.4444444444444444,
              "#bd3786"
             ],
             [
              0.5555555555555556,
              "#d8576b"
             ],
             [
              0.6666666666666666,
              "#ed7953"
             ],
             [
              0.7777777777777778,
              "#fb9f3a"
             ],
             [
              0.8888888888888888,
              "#fdca26"
             ],
             [
              1,
              "#f0f921"
             ]
            ],
            "type": "heatmapgl"
           }
          ],
          "histogram": [
           {
            "marker": {
             "pattern": {
              "fillmode": "overlay",
              "size": 10,
              "solidity": 0.2
             }
            },
            "type": "histogram"
           }
          ],
          "histogram2d": [
           {
            "colorbar": {
             "outlinewidth": 0,
             "ticks": ""
            },
            "colorscale": [
             [
              0,
              "#0d0887"
             ],
             [
              0.1111111111111111,
              "#46039f"
             ],
             [
              0.2222222222222222,
              "#7201a8"
             ],
             [
              0.3333333333333333,
              "#9c179e"
             ],
             [
              0.4444444444444444,
              "#bd3786"
             ],
             [
              0.5555555555555556,
              "#d8576b"
             ],
             [
              0.6666666666666666,
              "#ed7953"
             ],
             [
              0.7777777777777778,
              "#fb9f3a"
             ],
             [
              0.8888888888888888,
              "#fdca26"
             ],
             [
              1,
              "#f0f921"
             ]
            ],
            "type": "histogram2d"
           }
          ],
          "histogram2dcontour": [
           {
            "colorbar": {
             "outlinewidth": 0,
             "ticks": ""
            },
            "colorscale": [
             [
              0,
              "#0d0887"
             ],
             [
              0.1111111111111111,
              "#46039f"
             ],
             [
              0.2222222222222222,
              "#7201a8"
             ],
             [
              0.3333333333333333,
              "#9c179e"
             ],
             [
              0.4444444444444444,
              "#bd3786"
             ],
             [
              0.5555555555555556,
              "#d8576b"
             ],
             [
              0.6666666666666666,
              "#ed7953"
             ],
             [
              0.7777777777777778,
              "#fb9f3a"
             ],
             [
              0.8888888888888888,
              "#fdca26"
             ],
             [
              1,
              "#f0f921"
             ]
            ],
            "type": "histogram2dcontour"
           }
          ],
          "mesh3d": [
           {
            "colorbar": {
             "outlinewidth": 0,
             "ticks": ""
            },
            "type": "mesh3d"
           }
          ],
          "parcoords": [
           {
            "line": {
             "colorbar": {
              "outlinewidth": 0,
              "ticks": ""
             }
            },
            "type": "parcoords"
           }
          ],
          "pie": [
           {
            "automargin": true,
            "type": "pie"
           }
          ],
          "scatter": [
           {
            "fillpattern": {
             "fillmode": "overlay",
             "size": 10,
             "solidity": 0.2
            },
            "type": "scatter"
           }
          ],
          "scatter3d": [
           {
            "line": {
             "colorbar": {
              "outlinewidth": 0,
              "ticks": ""
             }
            },
            "marker": {
             "colorbar": {
              "outlinewidth": 0,
              "ticks": ""
             }
            },
            "type": "scatter3d"
           }
          ],
          "scattercarpet": [
           {
            "marker": {
             "colorbar": {
              "outlinewidth": 0,
              "ticks": ""
             }
            },
            "type": "scattercarpet"
           }
          ],
          "scattergeo": [
           {
            "marker": {
             "colorbar": {
              "outlinewidth": 0,
              "ticks": ""
             }
            },
            "type": "scattergeo"
           }
          ],
          "scattergl": [
           {
            "marker": {
             "colorbar": {
              "outlinewidth": 0,
              "ticks": ""
             }
            },
            "type": "scattergl"
           }
          ],
          "scattermapbox": [
           {
            "marker": {
             "colorbar": {
              "outlinewidth": 0,
              "ticks": ""
             }
            },
            "type": "scattermapbox"
           }
          ],
          "scatterpolar": [
           {
            "marker": {
             "colorbar": {
              "outlinewidth": 0,
              "ticks": ""
             }
            },
            "type": "scatterpolar"
           }
          ],
          "scatterpolargl": [
           {
            "marker": {
             "colorbar": {
              "outlinewidth": 0,
              "ticks": ""
             }
            },
            "type": "scatterpolargl"
           }
          ],
          "scatterternary": [
           {
            "marker": {
             "colorbar": {
              "outlinewidth": 0,
              "ticks": ""
             }
            },
            "type": "scatterternary"
           }
          ],
          "surface": [
           {
            "colorbar": {
             "outlinewidth": 0,
             "ticks": ""
            },
            "colorscale": [
             [
              0,
              "#0d0887"
             ],
             [
              0.1111111111111111,
              "#46039f"
             ],
             [
              0.2222222222222222,
              "#7201a8"
             ],
             [
              0.3333333333333333,
              "#9c179e"
             ],
             [
              0.4444444444444444,
              "#bd3786"
             ],
             [
              0.5555555555555556,
              "#d8576b"
             ],
             [
              0.6666666666666666,
              "#ed7953"
             ],
             [
              0.7777777777777778,
              "#fb9f3a"
             ],
             [
              0.8888888888888888,
              "#fdca26"
             ],
             [
              1,
              "#f0f921"
             ]
            ],
            "type": "surface"
           }
          ],
          "table": [
           {
            "cells": {
             "fill": {
              "color": "#EBF0F8"
             },
             "line": {
              "color": "white"
             }
            },
            "header": {
             "fill": {
              "color": "#C8D4E3"
             },
             "line": {
              "color": "white"
             }
            },
            "type": "table"
           }
          ]
         },
         "layout": {
          "annotationdefaults": {
           "arrowcolor": "#2a3f5f",
           "arrowhead": 0,
           "arrowwidth": 1
          },
          "autotypenumbers": "strict",
          "coloraxis": {
           "colorbar": {
            "outlinewidth": 0,
            "ticks": ""
           }
          },
          "colorscale": {
           "diverging": [
            [
             0,
             "#8e0152"
            ],
            [
             0.1,
             "#c51b7d"
            ],
            [
             0.2,
             "#de77ae"
            ],
            [
             0.3,
             "#f1b6da"
            ],
            [
             0.4,
             "#fde0ef"
            ],
            [
             0.5,
             "#f7f7f7"
            ],
            [
             0.6,
             "#e6f5d0"
            ],
            [
             0.7,
             "#b8e186"
            ],
            [
             0.8,
             "#7fbc41"
            ],
            [
             0.9,
             "#4d9221"
            ],
            [
             1,
             "#276419"
            ]
           ],
           "sequential": [
            [
             0,
             "#0d0887"
            ],
            [
             0.1111111111111111,
             "#46039f"
            ],
            [
             0.2222222222222222,
             "#7201a8"
            ],
            [
             0.3333333333333333,
             "#9c179e"
            ],
            [
             0.4444444444444444,
             "#bd3786"
            ],
            [
             0.5555555555555556,
             "#d8576b"
            ],
            [
             0.6666666666666666,
             "#ed7953"
            ],
            [
             0.7777777777777778,
             "#fb9f3a"
            ],
            [
             0.8888888888888888,
             "#fdca26"
            ],
            [
             1,
             "#f0f921"
            ]
           ],
           "sequentialminus": [
            [
             0,
             "#0d0887"
            ],
            [
             0.1111111111111111,
             "#46039f"
            ],
            [
             0.2222222222222222,
             "#7201a8"
            ],
            [
             0.3333333333333333,
             "#9c179e"
            ],
            [
             0.4444444444444444,
             "#bd3786"
            ],
            [
             0.5555555555555556,
             "#d8576b"
            ],
            [
             0.6666666666666666,
             "#ed7953"
            ],
            [
             0.7777777777777778,
             "#fb9f3a"
            ],
            [
             0.8888888888888888,
             "#fdca26"
            ],
            [
             1,
             "#f0f921"
            ]
           ]
          },
          "colorway": [
           "#636efa",
           "#EF553B",
           "#00cc96",
           "#ab63fa",
           "#FFA15A",
           "#19d3f3",
           "#FF6692",
           "#B6E880",
           "#FF97FF",
           "#FECB52"
          ],
          "font": {
           "color": "#2a3f5f"
          },
          "geo": {
           "bgcolor": "white",
           "lakecolor": "white",
           "landcolor": "#E5ECF6",
           "showlakes": true,
           "showland": true,
           "subunitcolor": "white"
          },
          "hoverlabel": {
           "align": "left"
          },
          "hovermode": "closest",
          "mapbox": {
           "style": "light"
          },
          "paper_bgcolor": "white",
          "plot_bgcolor": "#E5ECF6",
          "polar": {
           "angularaxis": {
            "gridcolor": "white",
            "linecolor": "white",
            "ticks": ""
           },
           "bgcolor": "#E5ECF6",
           "radialaxis": {
            "gridcolor": "white",
            "linecolor": "white",
            "ticks": ""
           }
          },
          "scene": {
           "xaxis": {
            "backgroundcolor": "#E5ECF6",
            "gridcolor": "white",
            "gridwidth": 2,
            "linecolor": "white",
            "showbackground": true,
            "ticks": "",
            "zerolinecolor": "white"
           },
           "yaxis": {
            "backgroundcolor": "#E5ECF6",
            "gridcolor": "white",
            "gridwidth": 2,
            "linecolor": "white",
            "showbackground": true,
            "ticks": "",
            "zerolinecolor": "white"
           },
           "zaxis": {
            "backgroundcolor": "#E5ECF6",
            "gridcolor": "white",
            "gridwidth": 2,
            "linecolor": "white",
            "showbackground": true,
            "ticks": "",
            "zerolinecolor": "white"
           }
          },
          "shapedefaults": {
           "line": {
            "color": "#2a3f5f"
           }
          },
          "ternary": {
           "aaxis": {
            "gridcolor": "white",
            "linecolor": "white",
            "ticks": ""
           },
           "baxis": {
            "gridcolor": "white",
            "linecolor": "white",
            "ticks": ""
           },
           "bgcolor": "#E5ECF6",
           "caxis": {
            "gridcolor": "white",
            "linecolor": "white",
            "ticks": ""
           }
          },
          "title": {
           "x": 0.05
          },
          "xaxis": {
           "automargin": true,
           "gridcolor": "white",
           "linecolor": "white",
           "ticks": "",
           "title": {
            "standoff": 15
           },
           "zerolinecolor": "white",
           "zerolinewidth": 2
          },
          "yaxis": {
           "automargin": true,
           "gridcolor": "white",
           "linecolor": "white",
           "ticks": "",
           "title": {
            "standoff": 15
           },
           "zerolinecolor": "white",
           "zerolinewidth": 2
          }
         }
        },
        "title": {
         "text": "Box Plot of thalach"
        },
        "xaxis": {
         "anchor": "y",
         "domain": [
          0,
          1
         ]
        },
        "yaxis": {
         "anchor": "x",
         "domain": [
          0,
          1
         ],
         "title": {
          "text": "thalach"
         }
        }
       }
      }
     },
     "metadata": {},
     "output_type": "display_data"
    },
    {
     "data": {
      "application/vnd.plotly.v1+json": {
       "config": {
        "plotlyServerURL": "https://plot.ly"
       },
       "data": [
        {
         "alignmentgroup": "True",
         "hovertemplate": "chol=%{y}<extra></extra>",
         "legendgroup": "",
         "marker": {
          "color": "#636efa"
         },
         "name": "",
         "notched": false,
         "offsetgroup": "",
         "orientation": "v",
         "showlegend": false,
         "type": "box",
         "x0": " ",
         "xaxis": "x",
         "y": [
          212,
          203,
          174,
          203,
          294,
          248,
          318,
          289,
          249,
          286,
          149,
          341,
          210,
          298,
          204,
          210,
          308,
          266,
          244,
          211,
          185,
          223,
          208,
          252,
          209,
          307,
          233,
          319,
          256,
          327,
          169,
          244,
          131,
          269,
          196,
          231,
          213,
          271,
          263,
          229,
          360,
          258,
          330,
          249,
          342,
          226,
          203,
          228,
          278,
          230,
          283,
          241,
          175,
          188,
          217,
          217,
          193,
          245,
          212,
          232,
          204,
          278,
          299,
          212,
          204,
          288,
          197,
          315,
          215,
          164,
          326,
          207,
          249,
          177,
          256,
          257,
          255,
          187,
          201,
          201,
          233,
          149,
          231,
          175,
          215,
          220,
          211,
          249,
          268,
          193,
          267,
          209,
          187,
          169,
          208,
          236,
          303,
          282,
          248,
          197,
          213,
          126,
          309,
          257,
          186,
          275,
          299,
          281,
          223,
          206,
          197,
          226,
          256,
          335,
          218,
          307,
          254,
          177,
          204,
          295,
          309,
          169,
          282,
          417,
          260,
          240,
          302,
          197,
          223,
          192,
          240,
          256,
          203,
          196,
          309,
          225,
          342,
          325,
          257,
          235,
          274,
          197,
          234,
          182,
          204,
          167,
          295,
          172,
          298,
          321,
          318,
          283,
          300,
          258,
          330,
          309,
          199,
          258,
          564,
          157,
          304,
          222,
          304,
          274,
          249,
          326,
          184,
          354,
          315,
          160,
          247,
          283,
          240,
          199,
          239,
          288,
          283,
          246,
          197,
          409,
          187,
          211,
          293,
          180,
          308,
          289,
          167,
          249,
          254,
          309,
          250,
          221,
          564,
          234,
          286,
          212,
          234,
          260,
          318,
          200,
          209,
          182,
          298,
          227,
          278,
          244,
          218,
          250,
          175,
          281,
          240,
          299,
          243,
          315,
          308,
          266,
          254,
          157,
          311,
          286,
          236,
          254,
          211,
          199,
          261,
          232,
          149,
          242,
          205,
          228,
          300,
          236,
          258,
          306,
          269,
          227,
          149,
          261,
          230,
          244,
          288,
          212,
          175,
          185,
          245,
          219,
          283,
          311,
          220,
          180,
          275,
          160,
          353,
          289,
          198,
          394,
          183,
          325,
          231,
          302,
          226,
          232,
          222,
          342,
          225,
          208,
          282,
          237,
          224,
          265,
          211,
          263,
          220,
          206,
          228,
          283,
          207,
          219,
          289,
          198,
          234,
          192,
          204,
          211,
          224,
          265,
          313,
          302,
          340,
          223,
          223,
          259,
          243,
          212,
          288,
          299,
          237,
          270,
          192,
          325,
          204,
          227,
          342,
          282,
          196,
          267,
          242,
          220,
          218,
          294,
          260,
          256,
          269,
          269,
          199,
          244,
          313,
          252,
          177,
          216,
          264,
          275,
          309,
          246,
          245,
          294,
          283,
          276,
          322,
          216,
          215,
          269,
          250,
          214,
          206,
          270,
          126,
          273,
          256,
          253,
          175,
          226,
          269,
          199,
          157,
          246,
          243,
          267,
          247,
          263,
          302,
          200,
          335,
          201,
          261,
          243,
          176,
          286,
          204,
          216,
          222,
          231,
          213,
          246,
          236,
          246,
          230,
          229,
          240,
          175,
          341,
          353,
          214,
          284,
          177,
          228,
          221,
          303,
          237,
          186,
          218,
          224,
          239,
          270,
          282,
          175,
          209,
          304,
          246,
          233,
          319,
          264,
          175,
          164,
          330,
          278,
          274,
          167,
          228,
          233,
          188,
          149,
          245,
          204,
          207,
          256,
          211,
          234,
          243,
          231,
          198,
          249,
          276,
          322,
          288,
          204,
          273,
          223,
          209,
          360,
          303,
          265,
          354,
          319,
          309,
          305,
          201,
          168,
          247,
          243,
          212,
          225,
          318,
          250,
          268,
          354,
          249,
          229,
          253,
          284,
          244,
          293,
          274,
          168,
          253,
          205,
          246,
          289,
          295,
          230,
          407,
          271,
          228,
          271,
          225,
          234,
          243,
          220,
          247,
          261,
          254,
          255,
          186,
          211,
          564,
          175,
          219,
          275,
          243,
          286,
          240,
          313,
          197,
          214,
          229,
          126,
          289,
          229,
          321,
          216,
          305,
          407,
          298,
          192,
          248,
          281,
          172,
          254,
          288,
          243,
          303,
          168,
          309,
          353,
          245,
          234,
          274,
          232,
          239,
          177,
          149,
          183,
          177,
          234,
          243,
          242,
          260,
          204,
          288,
          327,
          288,
          177,
          290,
          206,
          220,
          188,
          206,
          198,
          188,
          203,
          177,
          220,
          277,
          203,
          230,
          256,
          164,
          209,
          270,
          234,
          258,
          269,
          197,
          234,
          267,
          197,
          219,
          325,
          249,
          227,
          259,
          235,
          394,
          204,
          273,
          229,
          322,
          223,
          295,
          277,
          254,
          286,
          341,
          197,
          234,
          254,
          177,
          222,
          199,
          237,
          197,
          269,
          209,
          290,
          184,
          234,
          254,
          214,
          201,
          240,
          304,
          282,
          182,
          290,
          258,
          247,
          298,
          322,
          394,
          218,
          197,
          235,
          262,
          177,
          353,
          199,
          309,
          176,
          307,
          286,
          269,
          269,
          269,
          269,
          212,
          203,
          221,
          175,
          284,
          195,
          263,
          311,
          340,
          195,
          253,
          265,
          212,
          315,
          212,
          327,
          341,
          205,
          225,
          217,
          305,
          219,
          303,
          306,
          266,
          248,
          274,
          256,
          294,
          234,
          270,
          254,
          224,
          231,
          239,
          282,
          264,
          266,
          234,
          166,
          212,
          264,
          249,
          340,
          282,
          197,
          243,
          409,
          263,
          177,
          226,
          243,
          243,
          303,
          149,
          234,
          267,
          157,
          226,
          283,
          306,
          235,
          236,
          220,
          309,
          271,
          166,
          318,
          204,
          248,
          226,
          417,
          192,
          261,
          204,
          246,
          330,
          212,
          277,
          258,
          330,
          234,
          253,
          254,
          268,
          274,
          295,
          326,
          176,
          177,
          185,
          407,
          204,
          300,
          288,
          304,
          240,
          250,
          203,
          195,
          219,
          282,
          219,
          212,
          212,
          282,
          214,
          198,
          302,
          201,
          227,
          216,
          229,
          294,
          178,
          264,
          221,
          198,
          160,
          226,
          213,
          245,
          205,
          256,
          250,
          233,
          335,
          260,
          277,
          211,
          269,
          258,
          274,
          221,
          311,
          250,
          220,
          230,
          227,
          141,
          204,
          196,
          239,
          229,
          300,
          255,
          235,
          268,
          330,
          220,
          318,
          222,
          335,
          230,
          226,
          220,
          262,
          360,
          245,
          177,
          256,
          255,
          246,
          228,
          204,
          330,
          276,
          269,
          221,
          283,
          187,
          335,
          335,
          193,
          197,
          265,
          203,
          236,
          244,
          225,
          275,
          222,
          307,
          282,
          204,
          210,
          169,
          218,
          303,
          240,
          232,
          289,
          254,
          298,
          294,
          281,
          239,
          239,
          193,
          178,
          234,
          208,
          203,
          225,
          288,
          303,
          229,
          233,
          197,
          230,
          197,
          226,
          276,
          233,
          227,
          214,
          167,
          261,
          268,
          203,
          208,
          240,
          245,
          260,
          244,
          225,
          207,
          268,
          253,
          239,
          166,
          252,
          180,
          229,
          233,
          266,
          222,
          220,
          277,
          217,
          315,
          149,
          234,
          199,
          213,
          261,
          174,
          183,
          230,
          273,
          293,
          184,
          183,
          166,
          283,
          255,
          284,
          250,
          255,
          229,
          282,
          197,
          211,
          303,
          211,
          299,
          230,
          335,
          288,
          212,
          273,
          240,
          250,
          235,
          240,
          236,
          275,
          321,
          227,
          192,
          273,
          206,
          207,
          213,
          188,
          271,
          207,
          232,
          131,
          274,
          174,
          289,
          260,
          201,
          258,
          407,
          205,
          325,
          239,
          204,
          299,
          263,
          270,
          201,
          265,
          234,
          234,
          265,
          268,
          218,
          262,
          246,
          226,
          244,
          267,
          200,
          233,
          319,
          198,
          208,
          212,
          249,
          254,
          253,
          204,
          231,
          219,
          218,
          263,
          239,
          330,
          131,
          206,
          240,
          266,
          206,
          254,
          223,
          308,
          231,
          180,
          240,
          315,
          335,
          226,
          271,
          241,
          196,
          239,
          177,
          228,
          193,
          277,
          201,
          174,
          207,
          286,
          263,
          304,
          236,
          264,
          231,
          269,
          233,
          417,
          239,
          196,
          248,
          233,
          241,
          141,
          197,
          259,
          178,
          203,
          325,
          175,
          199,
          186,
          245,
          211,
          219,
          269,
          205,
          197,
          309,
          192,
          219,
          223,
          263,
          234,
          231,
          327,
          232,
          293,
          302,
          236,
          230,
          254,
          247,
          239,
          263,
          409,
          188,
          315,
          254,
          212,
          226,
          212,
          233,
          308,
          205,
          211,
          193,
          295,
          223,
          299,
          308,
          229,
          318,
          141,
          216,
          282,
          282,
          172,
          204,
          221,
          258,
          275,
          254,
          188
         ],
         "y0": " ",
         "yaxis": "y"
        }
       ],
       "layout": {
        "boxmode": "group",
        "legend": {
         "tracegroupgap": 0
        },
        "template": {
         "data": {
          "bar": [
           {
            "error_x": {
             "color": "#2a3f5f"
            },
            "error_y": {
             "color": "#2a3f5f"
            },
            "marker": {
             "line": {
              "color": "#E5ECF6",
              "width": 0.5
             },
             "pattern": {
              "fillmode": "overlay",
              "size": 10,
              "solidity": 0.2
             }
            },
            "type": "bar"
           }
          ],
          "barpolar": [
           {
            "marker": {
             "line": {
              "color": "#E5ECF6",
              "width": 0.5
             },
             "pattern": {
              "fillmode": "overlay",
              "size": 10,
              "solidity": 0.2
             }
            },
            "type": "barpolar"
           }
          ],
          "carpet": [
           {
            "aaxis": {
             "endlinecolor": "#2a3f5f",
             "gridcolor": "white",
             "linecolor": "white",
             "minorgridcolor": "white",
             "startlinecolor": "#2a3f5f"
            },
            "baxis": {
             "endlinecolor": "#2a3f5f",
             "gridcolor": "white",
             "linecolor": "white",
             "minorgridcolor": "white",
             "startlinecolor": "#2a3f5f"
            },
            "type": "carpet"
           }
          ],
          "choropleth": [
           {
            "colorbar": {
             "outlinewidth": 0,
             "ticks": ""
            },
            "type": "choropleth"
           }
          ],
          "contour": [
           {
            "colorbar": {
             "outlinewidth": 0,
             "ticks": ""
            },
            "colorscale": [
             [
              0,
              "#0d0887"
             ],
             [
              0.1111111111111111,
              "#46039f"
             ],
             [
              0.2222222222222222,
              "#7201a8"
             ],
             [
              0.3333333333333333,
              "#9c179e"
             ],
             [
              0.4444444444444444,
              "#bd3786"
             ],
             [
              0.5555555555555556,
              "#d8576b"
             ],
             [
              0.6666666666666666,
              "#ed7953"
             ],
             [
              0.7777777777777778,
              "#fb9f3a"
             ],
             [
              0.8888888888888888,
              "#fdca26"
             ],
             [
              1,
              "#f0f921"
             ]
            ],
            "type": "contour"
           }
          ],
          "contourcarpet": [
           {
            "colorbar": {
             "outlinewidth": 0,
             "ticks": ""
            },
            "type": "contourcarpet"
           }
          ],
          "heatmap": [
           {
            "colorbar": {
             "outlinewidth": 0,
             "ticks": ""
            },
            "colorscale": [
             [
              0,
              "#0d0887"
             ],
             [
              0.1111111111111111,
              "#46039f"
             ],
             [
              0.2222222222222222,
              "#7201a8"
             ],
             [
              0.3333333333333333,
              "#9c179e"
             ],
             [
              0.4444444444444444,
              "#bd3786"
             ],
             [
              0.5555555555555556,
              "#d8576b"
             ],
             [
              0.6666666666666666,
              "#ed7953"
             ],
             [
              0.7777777777777778,
              "#fb9f3a"
             ],
             [
              0.8888888888888888,
              "#fdca26"
             ],
             [
              1,
              "#f0f921"
             ]
            ],
            "type": "heatmap"
           }
          ],
          "heatmapgl": [
           {
            "colorbar": {
             "outlinewidth": 0,
             "ticks": ""
            },
            "colorscale": [
             [
              0,
              "#0d0887"
             ],
             [
              0.1111111111111111,
              "#46039f"
             ],
             [
              0.2222222222222222,
              "#7201a8"
             ],
             [
              0.3333333333333333,
              "#9c179e"
             ],
             [
              0.4444444444444444,
              "#bd3786"
             ],
             [
              0.5555555555555556,
              "#d8576b"
             ],
             [
              0.6666666666666666,
              "#ed7953"
             ],
             [
              0.7777777777777778,
              "#fb9f3a"
             ],
             [
              0.8888888888888888,
              "#fdca26"
             ],
             [
              1,
              "#f0f921"
             ]
            ],
            "type": "heatmapgl"
           }
          ],
          "histogram": [
           {
            "marker": {
             "pattern": {
              "fillmode": "overlay",
              "size": 10,
              "solidity": 0.2
             }
            },
            "type": "histogram"
           }
          ],
          "histogram2d": [
           {
            "colorbar": {
             "outlinewidth": 0,
             "ticks": ""
            },
            "colorscale": [
             [
              0,
              "#0d0887"
             ],
             [
              0.1111111111111111,
              "#46039f"
             ],
             [
              0.2222222222222222,
              "#7201a8"
             ],
             [
              0.3333333333333333,
              "#9c179e"
             ],
             [
              0.4444444444444444,
              "#bd3786"
             ],
             [
              0.5555555555555556,
              "#d8576b"
             ],
             [
              0.6666666666666666,
              "#ed7953"
             ],
             [
              0.7777777777777778,
              "#fb9f3a"
             ],
             [
              0.8888888888888888,
              "#fdca26"
             ],
             [
              1,
              "#f0f921"
             ]
            ],
            "type": "histogram2d"
           }
          ],
          "histogram2dcontour": [
           {
            "colorbar": {
             "outlinewidth": 0,
             "ticks": ""
            },
            "colorscale": [
             [
              0,
              "#0d0887"
             ],
             [
              0.1111111111111111,
              "#46039f"
             ],
             [
              0.2222222222222222,
              "#7201a8"
             ],
             [
              0.3333333333333333,
              "#9c179e"
             ],
             [
              0.4444444444444444,
              "#bd3786"
             ],
             [
              0.5555555555555556,
              "#d8576b"
             ],
             [
              0.6666666666666666,
              "#ed7953"
             ],
             [
              0.7777777777777778,
              "#fb9f3a"
             ],
             [
              0.8888888888888888,
              "#fdca26"
             ],
             [
              1,
              "#f0f921"
             ]
            ],
            "type": "histogram2dcontour"
           }
          ],
          "mesh3d": [
           {
            "colorbar": {
             "outlinewidth": 0,
             "ticks": ""
            },
            "type": "mesh3d"
           }
          ],
          "parcoords": [
           {
            "line": {
             "colorbar": {
              "outlinewidth": 0,
              "ticks": ""
             }
            },
            "type": "parcoords"
           }
          ],
          "pie": [
           {
            "automargin": true,
            "type": "pie"
           }
          ],
          "scatter": [
           {
            "fillpattern": {
             "fillmode": "overlay",
             "size": 10,
             "solidity": 0.2
            },
            "type": "scatter"
           }
          ],
          "scatter3d": [
           {
            "line": {
             "colorbar": {
              "outlinewidth": 0,
              "ticks": ""
             }
            },
            "marker": {
             "colorbar": {
              "outlinewidth": 0,
              "ticks": ""
             }
            },
            "type": "scatter3d"
           }
          ],
          "scattercarpet": [
           {
            "marker": {
             "colorbar": {
              "outlinewidth": 0,
              "ticks": ""
             }
            },
            "type": "scattercarpet"
           }
          ],
          "scattergeo": [
           {
            "marker": {
             "colorbar": {
              "outlinewidth": 0,
              "ticks": ""
             }
            },
            "type": "scattergeo"
           }
          ],
          "scattergl": [
           {
            "marker": {
             "colorbar": {
              "outlinewidth": 0,
              "ticks": ""
             }
            },
            "type": "scattergl"
           }
          ],
          "scattermapbox": [
           {
            "marker": {
             "colorbar": {
              "outlinewidth": 0,
              "ticks": ""
             }
            },
            "type": "scattermapbox"
           }
          ],
          "scatterpolar": [
           {
            "marker": {
             "colorbar": {
              "outlinewidth": 0,
              "ticks": ""
             }
            },
            "type": "scatterpolar"
           }
          ],
          "scatterpolargl": [
           {
            "marker": {
             "colorbar": {
              "outlinewidth": 0,
              "ticks": ""
             }
            },
            "type": "scatterpolargl"
           }
          ],
          "scatterternary": [
           {
            "marker": {
             "colorbar": {
              "outlinewidth": 0,
              "ticks": ""
             }
            },
            "type": "scatterternary"
           }
          ],
          "surface": [
           {
            "colorbar": {
             "outlinewidth": 0,
             "ticks": ""
            },
            "colorscale": [
             [
              0,
              "#0d0887"
             ],
             [
              0.1111111111111111,
              "#46039f"
             ],
             [
              0.2222222222222222,
              "#7201a8"
             ],
             [
              0.3333333333333333,
              "#9c179e"
             ],
             [
              0.4444444444444444,
              "#bd3786"
             ],
             [
              0.5555555555555556,
              "#d8576b"
             ],
             [
              0.6666666666666666,
              "#ed7953"
             ],
             [
              0.7777777777777778,
              "#fb9f3a"
             ],
             [
              0.8888888888888888,
              "#fdca26"
             ],
             [
              1,
              "#f0f921"
             ]
            ],
            "type": "surface"
           }
          ],
          "table": [
           {
            "cells": {
             "fill": {
              "color": "#EBF0F8"
             },
             "line": {
              "color": "white"
             }
            },
            "header": {
             "fill": {
              "color": "#C8D4E3"
             },
             "line": {
              "color": "white"
             }
            },
            "type": "table"
           }
          ]
         },
         "layout": {
          "annotationdefaults": {
           "arrowcolor": "#2a3f5f",
           "arrowhead": 0,
           "arrowwidth": 1
          },
          "autotypenumbers": "strict",
          "coloraxis": {
           "colorbar": {
            "outlinewidth": 0,
            "ticks": ""
           }
          },
          "colorscale": {
           "diverging": [
            [
             0,
             "#8e0152"
            ],
            [
             0.1,
             "#c51b7d"
            ],
            [
             0.2,
             "#de77ae"
            ],
            [
             0.3,
             "#f1b6da"
            ],
            [
             0.4,
             "#fde0ef"
            ],
            [
             0.5,
             "#f7f7f7"
            ],
            [
             0.6,
             "#e6f5d0"
            ],
            [
             0.7,
             "#b8e186"
            ],
            [
             0.8,
             "#7fbc41"
            ],
            [
             0.9,
             "#4d9221"
            ],
            [
             1,
             "#276419"
            ]
           ],
           "sequential": [
            [
             0,
             "#0d0887"
            ],
            [
             0.1111111111111111,
             "#46039f"
            ],
            [
             0.2222222222222222,
             "#7201a8"
            ],
            [
             0.3333333333333333,
             "#9c179e"
            ],
            [
             0.4444444444444444,
             "#bd3786"
            ],
            [
             0.5555555555555556,
             "#d8576b"
            ],
            [
             0.6666666666666666,
             "#ed7953"
            ],
            [
             0.7777777777777778,
             "#fb9f3a"
            ],
            [
             0.8888888888888888,
             "#fdca26"
            ],
            [
             1,
             "#f0f921"
            ]
           ],
           "sequentialminus": [
            [
             0,
             "#0d0887"
            ],
            [
             0.1111111111111111,
             "#46039f"
            ],
            [
             0.2222222222222222,
             "#7201a8"
            ],
            [
             0.3333333333333333,
             "#9c179e"
            ],
            [
             0.4444444444444444,
             "#bd3786"
            ],
            [
             0.5555555555555556,
             "#d8576b"
            ],
            [
             0.6666666666666666,
             "#ed7953"
            ],
            [
             0.7777777777777778,
             "#fb9f3a"
            ],
            [
             0.8888888888888888,
             "#fdca26"
            ],
            [
             1,
             "#f0f921"
            ]
           ]
          },
          "colorway": [
           "#636efa",
           "#EF553B",
           "#00cc96",
           "#ab63fa",
           "#FFA15A",
           "#19d3f3",
           "#FF6692",
           "#B6E880",
           "#FF97FF",
           "#FECB52"
          ],
          "font": {
           "color": "#2a3f5f"
          },
          "geo": {
           "bgcolor": "white",
           "lakecolor": "white",
           "landcolor": "#E5ECF6",
           "showlakes": true,
           "showland": true,
           "subunitcolor": "white"
          },
          "hoverlabel": {
           "align": "left"
          },
          "hovermode": "closest",
          "mapbox": {
           "style": "light"
          },
          "paper_bgcolor": "white",
          "plot_bgcolor": "#E5ECF6",
          "polar": {
           "angularaxis": {
            "gridcolor": "white",
            "linecolor": "white",
            "ticks": ""
           },
           "bgcolor": "#E5ECF6",
           "radialaxis": {
            "gridcolor": "white",
            "linecolor": "white",
            "ticks": ""
           }
          },
          "scene": {
           "xaxis": {
            "backgroundcolor": "#E5ECF6",
            "gridcolor": "white",
            "gridwidth": 2,
            "linecolor": "white",
            "showbackground": true,
            "ticks": "",
            "zerolinecolor": "white"
           },
           "yaxis": {
            "backgroundcolor": "#E5ECF6",
            "gridcolor": "white",
            "gridwidth": 2,
            "linecolor": "white",
            "showbackground": true,
            "ticks": "",
            "zerolinecolor": "white"
           },
           "zaxis": {
            "backgroundcolor": "#E5ECF6",
            "gridcolor": "white",
            "gridwidth": 2,
            "linecolor": "white",
            "showbackground": true,
            "ticks": "",
            "zerolinecolor": "white"
           }
          },
          "shapedefaults": {
           "line": {
            "color": "#2a3f5f"
           }
          },
          "ternary": {
           "aaxis": {
            "gridcolor": "white",
            "linecolor": "white",
            "ticks": ""
           },
           "baxis": {
            "gridcolor": "white",
            "linecolor": "white",
            "ticks": ""
           },
           "bgcolor": "#E5ECF6",
           "caxis": {
            "gridcolor": "white",
            "linecolor": "white",
            "ticks": ""
           }
          },
          "title": {
           "x": 0.05
          },
          "xaxis": {
           "automargin": true,
           "gridcolor": "white",
           "linecolor": "white",
           "ticks": "",
           "title": {
            "standoff": 15
           },
           "zerolinecolor": "white",
           "zerolinewidth": 2
          },
          "yaxis": {
           "automargin": true,
           "gridcolor": "white",
           "linecolor": "white",
           "ticks": "",
           "title": {
            "standoff": 15
           },
           "zerolinecolor": "white",
           "zerolinewidth": 2
          }
         }
        },
        "title": {
         "text": "Box Plot of chol"
        },
        "xaxis": {
         "anchor": "y",
         "domain": [
          0,
          1
         ]
        },
        "yaxis": {
         "anchor": "x",
         "domain": [
          0,
          1
         ],
         "title": {
          "text": "chol"
         }
        }
       }
      }
     },
     "metadata": {},
     "output_type": "display_data"
    },
    {
     "data": {
      "application/vnd.plotly.v1+json": {
       "config": {
        "plotlyServerURL": "https://plot.ly"
       },
       "data": [
        {
         "alignmentgroup": "True",
         "hovertemplate": "trestbps=%{y}<extra></extra>",
         "legendgroup": "",
         "marker": {
          "color": "#636efa"
         },
         "name": "",
         "notched": false,
         "offsetgroup": "",
         "orientation": "v",
         "showlegend": false,
         "type": "box",
         "x0": " ",
         "xaxis": "x",
         "y": [
          125,
          140,
          145,
          148,
          138,
          100,
          114,
          160,
          120,
          122,
          112,
          132,
          118,
          140,
          128,
          118,
          140,
          124,
          120,
          140,
          140,
          106,
          104,
          135,
          120,
          145,
          130,
          136,
          130,
          180,
          120,
          120,
          130,
          160,
          129,
          150,
          125,
          138,
          128,
          128,
          160,
          120,
          130,
          120,
          132,
          140,
          135,
          178,
          146,
          117,
          150,
          140,
          138,
          120,
          140,
          140,
          120,
          130,
          152,
          154,
          130,
          146,
          100,
          150,
          130,
          170,
          130,
          136,
          120,
          160,
          170,
          140,
          125,
          140,
          130,
          138,
          124,
          140,
          134,
          134,
          140,
          118,
          150,
          138,
          120,
          120,
          140,
          174,
          140,
          144,
          108,
          124,
          140,
          120,
          128,
          138,
          128,
          123,
          110,
          140,
          122,
          150,
          108,
          138,
          118,
          110,
          140,
          120,
          152,
          110,
          110,
          142,
          130,
          110,
          126,
          145,
          130,
          120,
          130,
          120,
          108,
          120,
          145,
          140,
          120,
          150,
          120,
          130,
          138,
          140,
          150,
          130,
          135,
          129,
          108,
          170,
          132,
          180,
          138,
          110,
          152,
          124,
          134,
          118,
          112,
          110,
          120,
          110,
          152,
          140,
          114,
          192,
          125,
          120,
          130,
          108,
          140,
          120,
          115,
          120,
          125,
          100,
          125,
          124,
          125,
          170,
          132,
          120,
          130,
          112,
          150,
          130,
          120,
          94,
          110,
          200,
          130,
          120,
          110,
          134,
          140,
          110,
          140,
          130,
          128,
          165,
          110,
          125,
          130,
          125,
          112,
          130,
          115,
          160,
          160,
          150,
          100,
          115,
          102,
          144,
          124,
          118,
          152,
          170,
          146,
          148,
          126,
          112,
          138,
          120,
          120,
          100,
          150,
          130,
          128,
          130,
          135,
          120,
          140,
          122,
          130,
          130,
          110,
          94,
          140,
          150,
          118,
          118,
          128,
          178,
          125,
          120,
          125,
          126,
          130,
          170,
          118,
          124,
          117,
          150,
          132,
          152,
          138,
          140,
          125,
          130,
          192,
          140,
          138,
          130,
          110,
          112,
          132,
          165,
          120,
          140,
          138,
          180,
          120,
          120,
          120,
          150,
          122,
          132,
          170,
          104,
          123,
          120,
          132,
          110,
          110,
          120,
          138,
          110,
          160,
          130,
          132,
          130,
          160,
          105,
          130,
          122,
          130,
          110,
          132,
          110,
          140,
          160,
          120,
          152,
          138,
          128,
          150,
          150,
          200,
          100,
          120,
          150,
          122,
          120,
          105,
          94,
          132,
          145,
          136,
          120,
          118,
          120,
          126,
          140,
          120,
          130,
          160,
          120,
          140,
          148,
          140,
          135,
          140,
          128,
          130,
          130,
          142,
          160,
          130,
          140,
          192,
          150,
          130,
          128,
          120,
          108,
          130,
          110,
          130,
          150,
          150,
          125,
          130,
          130,
          138,
          120,
          155,
          172,
          120,
          160,
          150,
          108,
          132,
          130,
          120,
          144,
          110,
          110,
          124,
          138,
          164,
          160,
          134,
          128,
          122,
          130,
          122,
          130,
          130,
          130,
          112,
          110,
          105,
          110,
          132,
          132,
          110,
          120,
          142,
          160,
          140,
          130,
          120,
          118,
          146,
          132,
          110,
          150,
          126,
          110,
          120,
          125,
          120,
          145,
          136,
          110,
          110,
          160,
          130,
          146,
          180,
          110,
          160,
          145,
          120,
          112,
          156,
          105,
          140,
          130,
          140,
          100,
          138,
          150,
          105,
          125,
          150,
          130,
          170,
          130,
          125,
          138,
          124,
          160,
          128,
          102,
          120,
          136,
          142,
          130,
          160,
          150,
          132,
          108,
          152,
          150,
          102,
          130,
          112,
          120,
          174,
          120,
          130,
          120,
          150,
          140,
          152,
          150,
          130,
          128,
          130,
          160,
          120,
          112,
          150,
          134,
          178,
          134,
          150,
          160,
          108,
          138,
          150,
          140,
          140,
          124,
          118,
          110,
          115,
          138,
          130,
          110,
          150,
          160,
          150,
          140,
          130,
          130,
          110,
          150,
          165,
          128,
          140,
          128,
          130,
          150,
          140,
          122,
          110,
          120,
          110,
          135,
          132,
          150,
          128,
          150,
          125,
          132,
          125,
          135,
          180,
          154,
          140,
          142,
          112,
          138,
          142,
          130,
          108,
          118,
          120,
          130,
          200,
          180,
          132,
          120,
          112,
          110,
          120,
          120,
          130,
          105,
          120,
          148,
          140,
          125,
          152,
          148,
          112,
          130,
          160,
          124,
          178,
          160,
          150,
          155,
          124,
          138,
          108,
          140,
          120,
          120,
          120,
          170,
          128,
          140,
          140,
          134,
          125,
          110,
          130,
          106,
          120,
          118,
          140,
          122,
          132,
          130,
          100,
          125,
          140,
          122,
          94,
          120,
          130,
          155,
          120,
          112,
          132,
          138,
          110,
          130,
          160,
          120,
          135,
          145,
          118,
          112,
          125,
          150,
          152,
          130,
          140,
          146,
          101,
          140,
          130,
          120,
          132,
          140,
          125,
          164,
          145,
          122,
          120,
          108,
          160,
          108,
          145,
          148,
          140,
          138,
          120,
          140,
          130,
          140,
          120,
          140,
          130,
          110,
          112,
          136,
          145,
          180,
          132,
          128,
          170,
          140,
          130,
          120,
          115,
          126,
          130,
          110,
          152,
          130,
          138,
          134,
          178,
          140,
          132,
          120,
          140,
          138,
          110,
          130,
          130,
          138,
          125,
          130,
          174,
          120,
          138,
          130,
          138,
          134,
          128,
          120,
          120,
          150,
          108,
          130,
          112,
          130,
          120,
          120,
          150,
          130,
          126,
          110,
          130,
          138,
          125,
          138,
          138,
          114,
          112,
          100,
          150,
          140,
          122,
          124,
          130,
          160,
          130,
          125,
          118,
          120,
          130,
          100,
          130,
          130,
          112,
          180,
          120,
          170,
          164,
          120,
          140,
          150,
          128,
          125,
          200,
          135,
          105,
          135,
          140,
          140,
          118,
          126,
          120,
          152,
          112,
          126,
          130,
          120,
          160,
          110,
          94,
          128,
          128,
          140,
          120,
          110,
          130,
          120,
          112,
          150,
          125,
          156,
          128,
          130,
          135,
          108,
          140,
          115,
          152,
          120,
          120,
          150,
          124,
          130,
          140,
          135,
          120,
          112,
          94,
          108,
          128,
          129,
          110,
          120,
          125,
          128,
          140,
          112,
          130,
          125,
          102,
          100,
          140,
          117,
          120,
          125,
          130,
          160,
          130,
          120,
          130,
          124,
          120,
          160,
          105,
          130,
          150,
          130,
          130,
          150,
          140,
          110,
          110,
          144,
          101,
          110,
          135,
          138,
          150,
          150,
          130,
          100,
          145,
          123,
          134,
          118,
          120,
          146,
          130,
          120,
          150,
          160,
          125,
          140,
          138,
          120,
          110,
          110,
          144,
          120,
          134,
          128,
          135,
          150,
          170,
          115,
          120,
          145,
          124,
          112,
          130,
          142,
          150,
          130,
          94,
          110,
          110,
          124,
          140,
          140,
          128,
          105,
          156,
          115,
          148,
          170,
          140,
          140,
          130,
          140,
          138,
          135,
          130,
          128,
          130,
          124,
          100,
          125,
          118,
          140,
          136,
          118,
          138,
          172,
          125,
          140,
          145,
          138,
          112,
          160,
          140,
          132,
          138,
          138,
          150,
          128,
          120,
          130,
          128,
          120,
          138,
          101,
          120,
          115,
          120,
          140,
          112,
          140,
          170,
          125,
          160,
          150,
          112,
          110,
          120,
          120,
          130,
          140,
          170,
          140,
          160,
          130,
          140,
          122,
          120,
          138,
          132,
          154,
          130,
          124,
          145,
          165,
          120,
          110,
          150,
          150,
          128,
          180,
          110,
          128,
          140,
          130,
          178,
          134,
          102,
          135,
          134,
          102,
          140,
          126,
          130,
          120,
          140,
          120,
          120,
          144,
          140,
          136,
          120,
          104,
          112,
          120,
          135,
          130,
          134,
          120,
          118,
          146,
          120,
          140,
          130,
          130,
          110,
          120,
          124,
          130,
          135,
          152,
          140,
          120,
          130,
          120,
          130,
          140,
          142,
          134,
          140,
          136,
          140,
          120,
          178,
          120,
          152,
          160,
          145,
          132,
          160,
          130,
          135,
          138,
          130,
          130,
          130,
          140,
          140,
          140,
          136,
          100,
          108,
          140,
          108,
          140,
          128,
          120,
          140,
          120,
          138,
          172,
          118,
          125,
          110,
          118,
          108,
          128,
          110,
          142,
          140,
          118,
          106,
          128,
          135,
          130,
          180,
          154,
          140,
          160,
          120,
          117,
          110,
          132,
          110,
          120,
          134,
          120,
          136,
          125,
          145,
          140,
          112,
          108,
          140,
          128,
          140,
          120,
          120,
          152,
          140,
          128,
          110,
          114,
          108,
          128,
          138,
          123,
          110,
          112,
          140,
          125,
          110,
          110,
          120
         ],
         "y0": " ",
         "yaxis": "y"
        }
       ],
       "layout": {
        "boxmode": "group",
        "legend": {
         "tracegroupgap": 0
        },
        "template": {
         "data": {
          "bar": [
           {
            "error_x": {
             "color": "#2a3f5f"
            },
            "error_y": {
             "color": "#2a3f5f"
            },
            "marker": {
             "line": {
              "color": "#E5ECF6",
              "width": 0.5
             },
             "pattern": {
              "fillmode": "overlay",
              "size": 10,
              "solidity": 0.2
             }
            },
            "type": "bar"
           }
          ],
          "barpolar": [
           {
            "marker": {
             "line": {
              "color": "#E5ECF6",
              "width": 0.5
             },
             "pattern": {
              "fillmode": "overlay",
              "size": 10,
              "solidity": 0.2
             }
            },
            "type": "barpolar"
           }
          ],
          "carpet": [
           {
            "aaxis": {
             "endlinecolor": "#2a3f5f",
             "gridcolor": "white",
             "linecolor": "white",
             "minorgridcolor": "white",
             "startlinecolor": "#2a3f5f"
            },
            "baxis": {
             "endlinecolor": "#2a3f5f",
             "gridcolor": "white",
             "linecolor": "white",
             "minorgridcolor": "white",
             "startlinecolor": "#2a3f5f"
            },
            "type": "carpet"
           }
          ],
          "choropleth": [
           {
            "colorbar": {
             "outlinewidth": 0,
             "ticks": ""
            },
            "type": "choropleth"
           }
          ],
          "contour": [
           {
            "colorbar": {
             "outlinewidth": 0,
             "ticks": ""
            },
            "colorscale": [
             [
              0,
              "#0d0887"
             ],
             [
              0.1111111111111111,
              "#46039f"
             ],
             [
              0.2222222222222222,
              "#7201a8"
             ],
             [
              0.3333333333333333,
              "#9c179e"
             ],
             [
              0.4444444444444444,
              "#bd3786"
             ],
             [
              0.5555555555555556,
              "#d8576b"
             ],
             [
              0.6666666666666666,
              "#ed7953"
             ],
             [
              0.7777777777777778,
              "#fb9f3a"
             ],
             [
              0.8888888888888888,
              "#fdca26"
             ],
             [
              1,
              "#f0f921"
             ]
            ],
            "type": "contour"
           }
          ],
          "contourcarpet": [
           {
            "colorbar": {
             "outlinewidth": 0,
             "ticks": ""
            },
            "type": "contourcarpet"
           }
          ],
          "heatmap": [
           {
            "colorbar": {
             "outlinewidth": 0,
             "ticks": ""
            },
            "colorscale": [
             [
              0,
              "#0d0887"
             ],
             [
              0.1111111111111111,
              "#46039f"
             ],
             [
              0.2222222222222222,
              "#7201a8"
             ],
             [
              0.3333333333333333,
              "#9c179e"
             ],
             [
              0.4444444444444444,
              "#bd3786"
             ],
             [
              0.5555555555555556,
              "#d8576b"
             ],
             [
              0.6666666666666666,
              "#ed7953"
             ],
             [
              0.7777777777777778,
              "#fb9f3a"
             ],
             [
              0.8888888888888888,
              "#fdca26"
             ],
             [
              1,
              "#f0f921"
             ]
            ],
            "type": "heatmap"
           }
          ],
          "heatmapgl": [
           {
            "colorbar": {
             "outlinewidth": 0,
             "ticks": ""
            },
            "colorscale": [
             [
              0,
              "#0d0887"
             ],
             [
              0.1111111111111111,
              "#46039f"
             ],
             [
              0.2222222222222222,
              "#7201a8"
             ],
             [
              0.3333333333333333,
              "#9c179e"
             ],
             [
              0.4444444444444444,
              "#bd3786"
             ],
             [
              0.5555555555555556,
              "#d8576b"
             ],
             [
              0.6666666666666666,
              "#ed7953"
             ],
             [
              0.7777777777777778,
              "#fb9f3a"
             ],
             [
              0.8888888888888888,
              "#fdca26"
             ],
             [
              1,
              "#f0f921"
             ]
            ],
            "type": "heatmapgl"
           }
          ],
          "histogram": [
           {
            "marker": {
             "pattern": {
              "fillmode": "overlay",
              "size": 10,
              "solidity": 0.2
             }
            },
            "type": "histogram"
           }
          ],
          "histogram2d": [
           {
            "colorbar": {
             "outlinewidth": 0,
             "ticks": ""
            },
            "colorscale": [
             [
              0,
              "#0d0887"
             ],
             [
              0.1111111111111111,
              "#46039f"
             ],
             [
              0.2222222222222222,
              "#7201a8"
             ],
             [
              0.3333333333333333,
              "#9c179e"
             ],
             [
              0.4444444444444444,
              "#bd3786"
             ],
             [
              0.5555555555555556,
              "#d8576b"
             ],
             [
              0.6666666666666666,
              "#ed7953"
             ],
             [
              0.7777777777777778,
              "#fb9f3a"
             ],
             [
              0.8888888888888888,
              "#fdca26"
             ],
             [
              1,
              "#f0f921"
             ]
            ],
            "type": "histogram2d"
           }
          ],
          "histogram2dcontour": [
           {
            "colorbar": {
             "outlinewidth": 0,
             "ticks": ""
            },
            "colorscale": [
             [
              0,
              "#0d0887"
             ],
             [
              0.1111111111111111,
              "#46039f"
             ],
             [
              0.2222222222222222,
              "#7201a8"
             ],
             [
              0.3333333333333333,
              "#9c179e"
             ],
             [
              0.4444444444444444,
              "#bd3786"
             ],
             [
              0.5555555555555556,
              "#d8576b"
             ],
             [
              0.6666666666666666,
              "#ed7953"
             ],
             [
              0.7777777777777778,
              "#fb9f3a"
             ],
             [
              0.8888888888888888,
              "#fdca26"
             ],
             [
              1,
              "#f0f921"
             ]
            ],
            "type": "histogram2dcontour"
           }
          ],
          "mesh3d": [
           {
            "colorbar": {
             "outlinewidth": 0,
             "ticks": ""
            },
            "type": "mesh3d"
           }
          ],
          "parcoords": [
           {
            "line": {
             "colorbar": {
              "outlinewidth": 0,
              "ticks": ""
             }
            },
            "type": "parcoords"
           }
          ],
          "pie": [
           {
            "automargin": true,
            "type": "pie"
           }
          ],
          "scatter": [
           {
            "fillpattern": {
             "fillmode": "overlay",
             "size": 10,
             "solidity": 0.2
            },
            "type": "scatter"
           }
          ],
          "scatter3d": [
           {
            "line": {
             "colorbar": {
              "outlinewidth": 0,
              "ticks": ""
             }
            },
            "marker": {
             "colorbar": {
              "outlinewidth": 0,
              "ticks": ""
             }
            },
            "type": "scatter3d"
           }
          ],
          "scattercarpet": [
           {
            "marker": {
             "colorbar": {
              "outlinewidth": 0,
              "ticks": ""
             }
            },
            "type": "scattercarpet"
           }
          ],
          "scattergeo": [
           {
            "marker": {
             "colorbar": {
              "outlinewidth": 0,
              "ticks": ""
             }
            },
            "type": "scattergeo"
           }
          ],
          "scattergl": [
           {
            "marker": {
             "colorbar": {
              "outlinewidth": 0,
              "ticks": ""
             }
            },
            "type": "scattergl"
           }
          ],
          "scattermapbox": [
           {
            "marker": {
             "colorbar": {
              "outlinewidth": 0,
              "ticks": ""
             }
            },
            "type": "scattermapbox"
           }
          ],
          "scatterpolar": [
           {
            "marker": {
             "colorbar": {
              "outlinewidth": 0,
              "ticks": ""
             }
            },
            "type": "scatterpolar"
           }
          ],
          "scatterpolargl": [
           {
            "marker": {
             "colorbar": {
              "outlinewidth": 0,
              "ticks": ""
             }
            },
            "type": "scatterpolargl"
           }
          ],
          "scatterternary": [
           {
            "marker": {
             "colorbar": {
              "outlinewidth": 0,
              "ticks": ""
             }
            },
            "type": "scatterternary"
           }
          ],
          "surface": [
           {
            "colorbar": {
             "outlinewidth": 0,
             "ticks": ""
            },
            "colorscale": [
             [
              0,
              "#0d0887"
             ],
             [
              0.1111111111111111,
              "#46039f"
             ],
             [
              0.2222222222222222,
              "#7201a8"
             ],
             [
              0.3333333333333333,
              "#9c179e"
             ],
             [
              0.4444444444444444,
              "#bd3786"
             ],
             [
              0.5555555555555556,
              "#d8576b"
             ],
             [
              0.6666666666666666,
              "#ed7953"
             ],
             [
              0.7777777777777778,
              "#fb9f3a"
             ],
             [
              0.8888888888888888,
              "#fdca26"
             ],
             [
              1,
              "#f0f921"
             ]
            ],
            "type": "surface"
           }
          ],
          "table": [
           {
            "cells": {
             "fill": {
              "color": "#EBF0F8"
             },
             "line": {
              "color": "white"
             }
            },
            "header": {
             "fill": {
              "color": "#C8D4E3"
             },
             "line": {
              "color": "white"
             }
            },
            "type": "table"
           }
          ]
         },
         "layout": {
          "annotationdefaults": {
           "arrowcolor": "#2a3f5f",
           "arrowhead": 0,
           "arrowwidth": 1
          },
          "autotypenumbers": "strict",
          "coloraxis": {
           "colorbar": {
            "outlinewidth": 0,
            "ticks": ""
           }
          },
          "colorscale": {
           "diverging": [
            [
             0,
             "#8e0152"
            ],
            [
             0.1,
             "#c51b7d"
            ],
            [
             0.2,
             "#de77ae"
            ],
            [
             0.3,
             "#f1b6da"
            ],
            [
             0.4,
             "#fde0ef"
            ],
            [
             0.5,
             "#f7f7f7"
            ],
            [
             0.6,
             "#e6f5d0"
            ],
            [
             0.7,
             "#b8e186"
            ],
            [
             0.8,
             "#7fbc41"
            ],
            [
             0.9,
             "#4d9221"
            ],
            [
             1,
             "#276419"
            ]
           ],
           "sequential": [
            [
             0,
             "#0d0887"
            ],
            [
             0.1111111111111111,
             "#46039f"
            ],
            [
             0.2222222222222222,
             "#7201a8"
            ],
            [
             0.3333333333333333,
             "#9c179e"
            ],
            [
             0.4444444444444444,
             "#bd3786"
            ],
            [
             0.5555555555555556,
             "#d8576b"
            ],
            [
             0.6666666666666666,
             "#ed7953"
            ],
            [
             0.7777777777777778,
             "#fb9f3a"
            ],
            [
             0.8888888888888888,
             "#fdca26"
            ],
            [
             1,
             "#f0f921"
            ]
           ],
           "sequentialminus": [
            [
             0,
             "#0d0887"
            ],
            [
             0.1111111111111111,
             "#46039f"
            ],
            [
             0.2222222222222222,
             "#7201a8"
            ],
            [
             0.3333333333333333,
             "#9c179e"
            ],
            [
             0.4444444444444444,
             "#bd3786"
            ],
            [
             0.5555555555555556,
             "#d8576b"
            ],
            [
             0.6666666666666666,
             "#ed7953"
            ],
            [
             0.7777777777777778,
             "#fb9f3a"
            ],
            [
             0.8888888888888888,
             "#fdca26"
            ],
            [
             1,
             "#f0f921"
            ]
           ]
          },
          "colorway": [
           "#636efa",
           "#EF553B",
           "#00cc96",
           "#ab63fa",
           "#FFA15A",
           "#19d3f3",
           "#FF6692",
           "#B6E880",
           "#FF97FF",
           "#FECB52"
          ],
          "font": {
           "color": "#2a3f5f"
          },
          "geo": {
           "bgcolor": "white",
           "lakecolor": "white",
           "landcolor": "#E5ECF6",
           "showlakes": true,
           "showland": true,
           "subunitcolor": "white"
          },
          "hoverlabel": {
           "align": "left"
          },
          "hovermode": "closest",
          "mapbox": {
           "style": "light"
          },
          "paper_bgcolor": "white",
          "plot_bgcolor": "#E5ECF6",
          "polar": {
           "angularaxis": {
            "gridcolor": "white",
            "linecolor": "white",
            "ticks": ""
           },
           "bgcolor": "#E5ECF6",
           "radialaxis": {
            "gridcolor": "white",
            "linecolor": "white",
            "ticks": ""
           }
          },
          "scene": {
           "xaxis": {
            "backgroundcolor": "#E5ECF6",
            "gridcolor": "white",
            "gridwidth": 2,
            "linecolor": "white",
            "showbackground": true,
            "ticks": "",
            "zerolinecolor": "white"
           },
           "yaxis": {
            "backgroundcolor": "#E5ECF6",
            "gridcolor": "white",
            "gridwidth": 2,
            "linecolor": "white",
            "showbackground": true,
            "ticks": "",
            "zerolinecolor": "white"
           },
           "zaxis": {
            "backgroundcolor": "#E5ECF6",
            "gridcolor": "white",
            "gridwidth": 2,
            "linecolor": "white",
            "showbackground": true,
            "ticks": "",
            "zerolinecolor": "white"
           }
          },
          "shapedefaults": {
           "line": {
            "color": "#2a3f5f"
           }
          },
          "ternary": {
           "aaxis": {
            "gridcolor": "white",
            "linecolor": "white",
            "ticks": ""
           },
           "baxis": {
            "gridcolor": "white",
            "linecolor": "white",
            "ticks": ""
           },
           "bgcolor": "#E5ECF6",
           "caxis": {
            "gridcolor": "white",
            "linecolor": "white",
            "ticks": ""
           }
          },
          "title": {
           "x": 0.05
          },
          "xaxis": {
           "automargin": true,
           "gridcolor": "white",
           "linecolor": "white",
           "ticks": "",
           "title": {
            "standoff": 15
           },
           "zerolinecolor": "white",
           "zerolinewidth": 2
          },
          "yaxis": {
           "automargin": true,
           "gridcolor": "white",
           "linecolor": "white",
           "ticks": "",
           "title": {
            "standoff": 15
           },
           "zerolinecolor": "white",
           "zerolinewidth": 2
          }
         }
        },
        "title": {
         "text": "Box Plot of trestbps"
        },
        "xaxis": {
         "anchor": "y",
         "domain": [
          0,
          1
         ]
        },
        "yaxis": {
         "anchor": "x",
         "domain": [
          0,
          1
         ],
         "title": {
          "text": "trestbps"
         }
        }
       }
      }
     },
     "metadata": {},
     "output_type": "display_data"
    },
    {
     "data": {
      "application/vnd.plotly.v1+json": {
       "config": {
        "plotlyServerURL": "https://plot.ly"
       },
       "data": [
        {
         "alignmentgroup": "True",
         "hovertemplate": "age=%{y}<extra></extra>",
         "legendgroup": "",
         "marker": {
          "color": "#636efa"
         },
         "name": "",
         "notched": false,
         "offsetgroup": "",
         "orientation": "v",
         "showlegend": false,
         "type": "box",
         "x0": " ",
         "xaxis": "x",
         "y": [
          52,
          53,
          70,
          61,
          62,
          58,
          58,
          55,
          46,
          54,
          71,
          43,
          34,
          51,
          52,
          34,
          51,
          54,
          50,
          58,
          60,
          67,
          45,
          63,
          42,
          61,
          44,
          58,
          56,
          55,
          44,
          50,
          57,
          70,
          50,
          46,
          51,
          59,
          64,
          57,
          65,
          54,
          61,
          46,
          55,
          42,
          41,
          66,
          66,
          60,
          58,
          57,
          38,
          49,
          55,
          55,
          56,
          48,
          67,
          57,
          29,
          66,
          67,
          59,
          29,
          59,
          53,
          42,
          37,
          62,
          59,
          61,
          56,
          59,
          48,
          47,
          48,
          63,
          52,
          52,
          50,
          49,
          46,
          38,
          37,
          44,
          58,
          59,
          62,
          68,
          54,
          62,
          63,
          44,
          62,
          45,
          57,
          53,
          65,
          76,
          43,
          57,
          54,
          47,
          52,
          47,
          51,
          62,
          40,
          54,
          44,
          53,
          48,
          57,
          59,
          61,
          63,
          43,
          29,
          42,
          54,
          44,
          60,
          65,
          61,
          60,
          66,
          53,
          52,
          57,
          60,
          51,
          41,
          50,
          54,
          58,
          55,
          64,
          47,
          41,
          57,
          63,
          61,
          34,
          47,
          40,
          51,
          41,
          52,
          39,
          58,
          54,
          58,
          54,
          63,
          54,
          40,
          54,
          67,
          41,
          77,
          51,
          77,
          48,
          56,
          59,
          56,
          57,
          43,
          45,
          43,
          56,
          56,
          39,
          54,
          56,
          56,
          64,
          44,
          56,
          63,
          64,
          60,
          42,
          45,
          57,
          40,
          56,
          63,
          64,
          41,
          56,
          67,
          69,
          67,
          59,
          58,
          45,
          60,
          50,
          62,
          34,
          52,
          64,
          66,
          42,
          59,
          41,
          38,
          62,
          42,
          67,
          50,
          43,
          45,
          49,
          65,
          41,
          46,
          54,
          57,
          63,
          64,
          39,
          51,
          54,
          49,
          44,
          52,
          66,
          58,
          56,
          60,
          41,
          49,
          64,
          49,
          57,
          60,
          62,
          54,
          67,
          38,
          60,
          51,
          44,
          54,
          46,
          39,
          42,
          47,
          45,
          55,
          57,
          35,
          62,
          35,
          64,
          38,
          66,
          44,
          54,
          48,
          55,
          58,
          45,
          53,
          67,
          58,
          71,
          43,
          44,
          39,
          54,
          66,
          56,
          57,
          44,
          55,
          41,
          45,
          35,
          41,
          64,
          58,
          71,
          64,
          71,
          58,
          40,
          52,
          58,
          61,
          59,
          56,
          67,
          67,
          58,
          35,
          52,
          46,
          51,
          55,
          60,
          52,
          62,
          44,
          44,
          59,
          56,
          61,
          48,
          70,
          74,
          40,
          42,
          64,
          63,
          59,
          53,
          53,
          48,
          45,
          66,
          48,
          56,
          54,
          57,
          70,
          53,
          37,
          63,
          37,
          54,
          60,
          58,
          57,
          54,
          56,
          60,
          38,
          44,
          65,
          52,
          41,
          66,
          50,
          54,
          43,
          62,
          66,
          50,
          57,
          57,
          57,
          46,
          59,
          67,
          59,
          53,
          48,
          62,
          43,
          53,
          57,
          53,
          58,
          48,
          58,
          51,
          43,
          55,
          54,
          58,
          46,
          66,
          59,
          64,
          67,
          52,
          58,
          58,
          59,
          58,
          35,
          51,
          42,
          77,
          64,
          63,
          58,
          45,
          51,
          62,
          63,
          66,
          68,
          40,
          66,
          63,
          49,
          71,
          70,
          46,
          61,
          56,
          58,
          58,
          46,
          46,
          41,
          56,
          57,
          70,
          59,
          41,
          54,
          52,
          62,
          65,
          57,
          42,
          57,
          58,
          45,
          51,
          54,
          57,
          43,
          47,
          67,
          65,
          60,
          37,
          41,
          57,
          59,
          67,
          47,
          58,
          62,
          60,
          57,
          57,
          47,
          52,
          53,
          55,
          51,
          52,
          63,
          49,
          66,
          49,
          65,
          69,
          47,
          39,
          43,
          51,
          69,
          48,
          52,
          43,
          67,
          38,
          44,
          47,
          61,
          67,
          60,
          64,
          58,
          41,
          48,
          57,
          57,
          57,
          39,
          58,
          51,
          63,
          51,
          35,
          65,
          62,
          41,
          65,
          54,
          61,
          57,
          57,
          64,
          55,
          51,
          59,
          68,
          57,
          54,
          46,
          71,
          35,
          46,
          45,
          47,
          44,
          61,
          41,
          56,
          55,
          54,
          43,
          44,
          54,
          44,
          49,
          60,
          41,
          49,
          61,
          59,
          58,
          67,
          61,
          58,
          51,
          62,
          62,
          59,
          69,
          60,
          65,
          63,
          53,
          54,
          76,
          50,
          52,
          46,
          64,
          58,
          44,
          62,
          59,
          54,
          48,
          70,
          67,
          51,
          68,
          69,
          54,
          43,
          53,
          58,
          67,
          59,
          48,
          39,
          67,
          58,
          65,
          42,
          44,
          56,
          53,
          50,
          41,
          54,
          42,
          54,
          60,
          34,
          44,
          60,
          43,
          52,
          70,
          62,
          58,
          46,
          44,
          55,
          43,
          55,
          40,
          64,
          59,
          61,
          54,
          74,
          63,
          70,
          63,
          64,
          61,
          59,
          38,
          58,
          63,
          62,
          46,
          58,
          63,
          47,
          71,
          66,
          42,
          64,
          55,
          43,
          55,
          58,
          55,
          51,
          50,
          43,
          41,
          49,
          65,
          57,
          48,
          62,
          61,
          59,
          69,
          58,
          38,
          69,
          65,
          45,
          49,
          45,
          61,
          52,
          53,
          59,
          58,
          65,
          58,
          46,
          56,
          64,
          65,
          44,
          50,
          47,
          64,
          71,
          45,
          62,
          41,
          66,
          56,
          41,
          41,
          57,
          39,
          64,
          59,
          61,
          58,
          47,
          58,
          66,
          65,
          35,
          57,
          29,
          66,
          61,
          52,
          68,
          54,
          63,
          58,
          60,
          63,
          41,
          68,
          42,
          59,
          59,
          43,
          60,
          63,
          52,
          58,
          56,
          54,
          58,
          55,
          53,
          63,
          39,
          35,
          50,
          67,
          66,
          35,
          41,
          35,
          71,
          57,
          51,
          58,
          57,
          56,
          60,
          45,
          56,
          35,
          45,
          66,
          51,
          70,
          55,
          56,
          55,
          52,
          64,
          45,
          67,
          68,
          74,
          60,
          48,
          56,
          46,
          55,
          44,
          52,
          51,
          44,
          52,
          50,
          59,
          67,
          58,
          52,
          44,
          41,
          63,
          58,
          60,
          51,
          64,
          60,
          44,
          58,
          55,
          65,
          48,
          65,
          51,
          48,
          64,
          66,
          46,
          61,
          57,
          49,
          56,
          58,
          63,
          57,
          57,
          68,
          46,
          71,
          41,
          45,
          62,
          65,
          48,
          51,
          61,
          53,
          59,
          34,
          44,
          58,
          64,
          56,
          54,
          55,
          67,
          51,
          62,
          62,
          54,
          54,
          68,
          60,
          61,
          62,
          41,
          65,
          59,
          43,
          67,
          63,
          63,
          52,
          58,
          53,
          57,
          44,
          51,
          54,
          40,
          57,
          62,
          53,
          62,
          58,
          70,
          45,
          42,
          58,
          61,
          62,
          60,
          54,
          61,
          63,
          42,
          57,
          44,
          54,
          51,
          58,
          68,
          55,
          42,
          49,
          53,
          52,
          51,
          51,
          70,
          35,
          58,
          59,
          60,
          56,
          35,
          61,
          58,
          52,
          58,
          37,
          52,
          67,
          65,
          46,
          68,
          43,
          68,
          51,
          52,
          64,
          59,
          52,
          59,
          60,
          41,
          41,
          56,
          56,
          48,
          39,
          64,
          57,
          59,
          60,
          61,
          43,
          54,
          59,
          57,
          57,
          57,
          48,
          70,
          57,
          61,
          57,
          60,
          63,
          55,
          64,
          54,
          52,
          51,
          62,
          59,
          52,
          42,
          59,
          61,
          42,
          62,
          59,
          55,
          64,
          42,
          50,
          62,
          50,
          50,
          58,
          35,
          45,
          66,
          46,
          65,
          47,
          59,
          38,
          39,
          58,
          44,
          54,
          61,
          57,
          54,
          42,
          54,
          60,
          65,
          40,
          51,
          38,
          42,
          56,
          43,
          64,
          53,
          49,
          57,
          52,
          69,
          65,
          66,
          56,
          67,
          54,
          70,
          57,
          67,
          62,
          54,
          45,
          53,
          62,
          49,
          50,
          65,
          69,
          52,
          58,
          52,
          57,
          44,
          76,
          58,
          60,
          53,
          52,
          38,
          52,
          52,
          51,
          43,
          39,
          63,
          52,
          44,
          45,
          57,
          39,
          67,
          64,
          59,
          62,
          55,
          57,
          60,
          71,
          56,
          60,
          50,
          43,
          59,
          44,
          56,
          54,
          42,
          67,
          64,
          42,
          66,
          52,
          51,
          55,
          58,
          56,
          42,
          40,
          51,
          45,
          48,
          58,
          44,
          58,
          65,
          53,
          41,
          47,
          59,
          60,
          47,
          50,
          54
         ],
         "y0": " ",
         "yaxis": "y"
        }
       ],
       "layout": {
        "boxmode": "group",
        "legend": {
         "tracegroupgap": 0
        },
        "template": {
         "data": {
          "bar": [
           {
            "error_x": {
             "color": "#2a3f5f"
            },
            "error_y": {
             "color": "#2a3f5f"
            },
            "marker": {
             "line": {
              "color": "#E5ECF6",
              "width": 0.5
             },
             "pattern": {
              "fillmode": "overlay",
              "size": 10,
              "solidity": 0.2
             }
            },
            "type": "bar"
           }
          ],
          "barpolar": [
           {
            "marker": {
             "line": {
              "color": "#E5ECF6",
              "width": 0.5
             },
             "pattern": {
              "fillmode": "overlay",
              "size": 10,
              "solidity": 0.2
             }
            },
            "type": "barpolar"
           }
          ],
          "carpet": [
           {
            "aaxis": {
             "endlinecolor": "#2a3f5f",
             "gridcolor": "white",
             "linecolor": "white",
             "minorgridcolor": "white",
             "startlinecolor": "#2a3f5f"
            },
            "baxis": {
             "endlinecolor": "#2a3f5f",
             "gridcolor": "white",
             "linecolor": "white",
             "minorgridcolor": "white",
             "startlinecolor": "#2a3f5f"
            },
            "type": "carpet"
           }
          ],
          "choropleth": [
           {
            "colorbar": {
             "outlinewidth": 0,
             "ticks": ""
            },
            "type": "choropleth"
           }
          ],
          "contour": [
           {
            "colorbar": {
             "outlinewidth": 0,
             "ticks": ""
            },
            "colorscale": [
             [
              0,
              "#0d0887"
             ],
             [
              0.1111111111111111,
              "#46039f"
             ],
             [
              0.2222222222222222,
              "#7201a8"
             ],
             [
              0.3333333333333333,
              "#9c179e"
             ],
             [
              0.4444444444444444,
              "#bd3786"
             ],
             [
              0.5555555555555556,
              "#d8576b"
             ],
             [
              0.6666666666666666,
              "#ed7953"
             ],
             [
              0.7777777777777778,
              "#fb9f3a"
             ],
             [
              0.8888888888888888,
              "#fdca26"
             ],
             [
              1,
              "#f0f921"
             ]
            ],
            "type": "contour"
           }
          ],
          "contourcarpet": [
           {
            "colorbar": {
             "outlinewidth": 0,
             "ticks": ""
            },
            "type": "contourcarpet"
           }
          ],
          "heatmap": [
           {
            "colorbar": {
             "outlinewidth": 0,
             "ticks": ""
            },
            "colorscale": [
             [
              0,
              "#0d0887"
             ],
             [
              0.1111111111111111,
              "#46039f"
             ],
             [
              0.2222222222222222,
              "#7201a8"
             ],
             [
              0.3333333333333333,
              "#9c179e"
             ],
             [
              0.4444444444444444,
              "#bd3786"
             ],
             [
              0.5555555555555556,
              "#d8576b"
             ],
             [
              0.6666666666666666,
              "#ed7953"
             ],
             [
              0.7777777777777778,
              "#fb9f3a"
             ],
             [
              0.8888888888888888,
              "#fdca26"
             ],
             [
              1,
              "#f0f921"
             ]
            ],
            "type": "heatmap"
           }
          ],
          "heatmapgl": [
           {
            "colorbar": {
             "outlinewidth": 0,
             "ticks": ""
            },
            "colorscale": [
             [
              0,
              "#0d0887"
             ],
             [
              0.1111111111111111,
              "#46039f"
             ],
             [
              0.2222222222222222,
              "#7201a8"
             ],
             [
              0.3333333333333333,
              "#9c179e"
             ],
             [
              0.4444444444444444,
              "#bd3786"
             ],
             [
              0.5555555555555556,
              "#d8576b"
             ],
             [
              0.6666666666666666,
              "#ed7953"
             ],
             [
              0.7777777777777778,
              "#fb9f3a"
             ],
             [
              0.8888888888888888,
              "#fdca26"
             ],
             [
              1,
              "#f0f921"
             ]
            ],
            "type": "heatmapgl"
           }
          ],
          "histogram": [
           {
            "marker": {
             "pattern": {
              "fillmode": "overlay",
              "size": 10,
              "solidity": 0.2
             }
            },
            "type": "histogram"
           }
          ],
          "histogram2d": [
           {
            "colorbar": {
             "outlinewidth": 0,
             "ticks": ""
            },
            "colorscale": [
             [
              0,
              "#0d0887"
             ],
             [
              0.1111111111111111,
              "#46039f"
             ],
             [
              0.2222222222222222,
              "#7201a8"
             ],
             [
              0.3333333333333333,
              "#9c179e"
             ],
             [
              0.4444444444444444,
              "#bd3786"
             ],
             [
              0.5555555555555556,
              "#d8576b"
             ],
             [
              0.6666666666666666,
              "#ed7953"
             ],
             [
              0.7777777777777778,
              "#fb9f3a"
             ],
             [
              0.8888888888888888,
              "#fdca26"
             ],
             [
              1,
              "#f0f921"
             ]
            ],
            "type": "histogram2d"
           }
          ],
          "histogram2dcontour": [
           {
            "colorbar": {
             "outlinewidth": 0,
             "ticks": ""
            },
            "colorscale": [
             [
              0,
              "#0d0887"
             ],
             [
              0.1111111111111111,
              "#46039f"
             ],
             [
              0.2222222222222222,
              "#7201a8"
             ],
             [
              0.3333333333333333,
              "#9c179e"
             ],
             [
              0.4444444444444444,
              "#bd3786"
             ],
             [
              0.5555555555555556,
              "#d8576b"
             ],
             [
              0.6666666666666666,
              "#ed7953"
             ],
             [
              0.7777777777777778,
              "#fb9f3a"
             ],
             [
              0.8888888888888888,
              "#fdca26"
             ],
             [
              1,
              "#f0f921"
             ]
            ],
            "type": "histogram2dcontour"
           }
          ],
          "mesh3d": [
           {
            "colorbar": {
             "outlinewidth": 0,
             "ticks": ""
            },
            "type": "mesh3d"
           }
          ],
          "parcoords": [
           {
            "line": {
             "colorbar": {
              "outlinewidth": 0,
              "ticks": ""
             }
            },
            "type": "parcoords"
           }
          ],
          "pie": [
           {
            "automargin": true,
            "type": "pie"
           }
          ],
          "scatter": [
           {
            "fillpattern": {
             "fillmode": "overlay",
             "size": 10,
             "solidity": 0.2
            },
            "type": "scatter"
           }
          ],
          "scatter3d": [
           {
            "line": {
             "colorbar": {
              "outlinewidth": 0,
              "ticks": ""
             }
            },
            "marker": {
             "colorbar": {
              "outlinewidth": 0,
              "ticks": ""
             }
            },
            "type": "scatter3d"
           }
          ],
          "scattercarpet": [
           {
            "marker": {
             "colorbar": {
              "outlinewidth": 0,
              "ticks": ""
             }
            },
            "type": "scattercarpet"
           }
          ],
          "scattergeo": [
           {
            "marker": {
             "colorbar": {
              "outlinewidth": 0,
              "ticks": ""
             }
            },
            "type": "scattergeo"
           }
          ],
          "scattergl": [
           {
            "marker": {
             "colorbar": {
              "outlinewidth": 0,
              "ticks": ""
             }
            },
            "type": "scattergl"
           }
          ],
          "scattermapbox": [
           {
            "marker": {
             "colorbar": {
              "outlinewidth": 0,
              "ticks": ""
             }
            },
            "type": "scattermapbox"
           }
          ],
          "scatterpolar": [
           {
            "marker": {
             "colorbar": {
              "outlinewidth": 0,
              "ticks": ""
             }
            },
            "type": "scatterpolar"
           }
          ],
          "scatterpolargl": [
           {
            "marker": {
             "colorbar": {
              "outlinewidth": 0,
              "ticks": ""
             }
            },
            "type": "scatterpolargl"
           }
          ],
          "scatterternary": [
           {
            "marker": {
             "colorbar": {
              "outlinewidth": 0,
              "ticks": ""
             }
            },
            "type": "scatterternary"
           }
          ],
          "surface": [
           {
            "colorbar": {
             "outlinewidth": 0,
             "ticks": ""
            },
            "colorscale": [
             [
              0,
              "#0d0887"
             ],
             [
              0.1111111111111111,
              "#46039f"
             ],
             [
              0.2222222222222222,
              "#7201a8"
             ],
             [
              0.3333333333333333,
              "#9c179e"
             ],
             [
              0.4444444444444444,
              "#bd3786"
             ],
             [
              0.5555555555555556,
              "#d8576b"
             ],
             [
              0.6666666666666666,
              "#ed7953"
             ],
             [
              0.7777777777777778,
              "#fb9f3a"
             ],
             [
              0.8888888888888888,
              "#fdca26"
             ],
             [
              1,
              "#f0f921"
             ]
            ],
            "type": "surface"
           }
          ],
          "table": [
           {
            "cells": {
             "fill": {
              "color": "#EBF0F8"
             },
             "line": {
              "color": "white"
             }
            },
            "header": {
             "fill": {
              "color": "#C8D4E3"
             },
             "line": {
              "color": "white"
             }
            },
            "type": "table"
           }
          ]
         },
         "layout": {
          "annotationdefaults": {
           "arrowcolor": "#2a3f5f",
           "arrowhead": 0,
           "arrowwidth": 1
          },
          "autotypenumbers": "strict",
          "coloraxis": {
           "colorbar": {
            "outlinewidth": 0,
            "ticks": ""
           }
          },
          "colorscale": {
           "diverging": [
            [
             0,
             "#8e0152"
            ],
            [
             0.1,
             "#c51b7d"
            ],
            [
             0.2,
             "#de77ae"
            ],
            [
             0.3,
             "#f1b6da"
            ],
            [
             0.4,
             "#fde0ef"
            ],
            [
             0.5,
             "#f7f7f7"
            ],
            [
             0.6,
             "#e6f5d0"
            ],
            [
             0.7,
             "#b8e186"
            ],
            [
             0.8,
             "#7fbc41"
            ],
            [
             0.9,
             "#4d9221"
            ],
            [
             1,
             "#276419"
            ]
           ],
           "sequential": [
            [
             0,
             "#0d0887"
            ],
            [
             0.1111111111111111,
             "#46039f"
            ],
            [
             0.2222222222222222,
             "#7201a8"
            ],
            [
             0.3333333333333333,
             "#9c179e"
            ],
            [
             0.4444444444444444,
             "#bd3786"
            ],
            [
             0.5555555555555556,
             "#d8576b"
            ],
            [
             0.6666666666666666,
             "#ed7953"
            ],
            [
             0.7777777777777778,
             "#fb9f3a"
            ],
            [
             0.8888888888888888,
             "#fdca26"
            ],
            [
             1,
             "#f0f921"
            ]
           ],
           "sequentialminus": [
            [
             0,
             "#0d0887"
            ],
            [
             0.1111111111111111,
             "#46039f"
            ],
            [
             0.2222222222222222,
             "#7201a8"
            ],
            [
             0.3333333333333333,
             "#9c179e"
            ],
            [
             0.4444444444444444,
             "#bd3786"
            ],
            [
             0.5555555555555556,
             "#d8576b"
            ],
            [
             0.6666666666666666,
             "#ed7953"
            ],
            [
             0.7777777777777778,
             "#fb9f3a"
            ],
            [
             0.8888888888888888,
             "#fdca26"
            ],
            [
             1,
             "#f0f921"
            ]
           ]
          },
          "colorway": [
           "#636efa",
           "#EF553B",
           "#00cc96",
           "#ab63fa",
           "#FFA15A",
           "#19d3f3",
           "#FF6692",
           "#B6E880",
           "#FF97FF",
           "#FECB52"
          ],
          "font": {
           "color": "#2a3f5f"
          },
          "geo": {
           "bgcolor": "white",
           "lakecolor": "white",
           "landcolor": "#E5ECF6",
           "showlakes": true,
           "showland": true,
           "subunitcolor": "white"
          },
          "hoverlabel": {
           "align": "left"
          },
          "hovermode": "closest",
          "mapbox": {
           "style": "light"
          },
          "paper_bgcolor": "white",
          "plot_bgcolor": "#E5ECF6",
          "polar": {
           "angularaxis": {
            "gridcolor": "white",
            "linecolor": "white",
            "ticks": ""
           },
           "bgcolor": "#E5ECF6",
           "radialaxis": {
            "gridcolor": "white",
            "linecolor": "white",
            "ticks": ""
           }
          },
          "scene": {
           "xaxis": {
            "backgroundcolor": "#E5ECF6",
            "gridcolor": "white",
            "gridwidth": 2,
            "linecolor": "white",
            "showbackground": true,
            "ticks": "",
            "zerolinecolor": "white"
           },
           "yaxis": {
            "backgroundcolor": "#E5ECF6",
            "gridcolor": "white",
            "gridwidth": 2,
            "linecolor": "white",
            "showbackground": true,
            "ticks": "",
            "zerolinecolor": "white"
           },
           "zaxis": {
            "backgroundcolor": "#E5ECF6",
            "gridcolor": "white",
            "gridwidth": 2,
            "linecolor": "white",
            "showbackground": true,
            "ticks": "",
            "zerolinecolor": "white"
           }
          },
          "shapedefaults": {
           "line": {
            "color": "#2a3f5f"
           }
          },
          "ternary": {
           "aaxis": {
            "gridcolor": "white",
            "linecolor": "white",
            "ticks": ""
           },
           "baxis": {
            "gridcolor": "white",
            "linecolor": "white",
            "ticks": ""
           },
           "bgcolor": "#E5ECF6",
           "caxis": {
            "gridcolor": "white",
            "linecolor": "white",
            "ticks": ""
           }
          },
          "title": {
           "x": 0.05
          },
          "xaxis": {
           "automargin": true,
           "gridcolor": "white",
           "linecolor": "white",
           "ticks": "",
           "title": {
            "standoff": 15
           },
           "zerolinecolor": "white",
           "zerolinewidth": 2
          },
          "yaxis": {
           "automargin": true,
           "gridcolor": "white",
           "linecolor": "white",
           "ticks": "",
           "title": {
            "standoff": 15
           },
           "zerolinecolor": "white",
           "zerolinewidth": 2
          }
         }
        },
        "title": {
         "text": "Box Plot of age"
        },
        "xaxis": {
         "anchor": "y",
         "domain": [
          0,
          1
         ]
        },
        "yaxis": {
         "anchor": "x",
         "domain": [
          0,
          1
         ],
         "title": {
          "text": "age"
         }
        }
       }
      }
     },
     "metadata": {},
     "output_type": "display_data"
    }
   ],
   "source": [
    "import plotly.express as px\n",
    "\n",
    "for col in numeric_cols:\n",
    "    fig = px.box(df, y=col, title=f\"Box Plot of {col}\")\n",
    "    fig.show()"
   ]
  },
  {
   "cell_type": "code",
   "execution_count": 150,
   "id": "89b2bdd4",
   "metadata": {},
   "outputs": [],
   "source": [
    "# print the row from df where trestbps value is 0\n",
    "df[df['trestbps'] == 0]\n",
    "# remove this row from data\n",
    "df = df[df['trestbps'] != 0]"
   ]
  },
  {
   "cell_type": "code",
   "execution_count": 151,
   "id": "e2f74346",
   "metadata": {},
   "outputs": [
    {
     "data": {
      "text/plain": [
       "<bound method NDFrame.head of       age  sex  cp  trestbps  chol  fbs  restecg  thalach  exang  oldpeak  \\\n",
       "0      52    1   0       125   212    0        1      168      0      1.0   \n",
       "1      53    1   0       140   203    1        0      155      1      3.1   \n",
       "2      70    1   0       145   174    0        1      125      1      2.6   \n",
       "3      61    1   0       148   203    0        1      161      0      0.0   \n",
       "4      62    0   0       138   294    1        1      106      0      1.9   \n",
       "...   ...  ...  ..       ...   ...  ...      ...      ...    ...      ...   \n",
       "1020   59    1   1       140   221    0        1      164      1      0.0   \n",
       "1021   60    1   0       125   258    0        0      141      1      2.8   \n",
       "1022   47    1   0       110   275    0        0      118      1      1.0   \n",
       "1023   50    0   0       110   254    0        0      159      0      0.0   \n",
       "1024   54    1   0       120   188    0        1      113      0      1.4   \n",
       "\n",
       "      slope  ca  thal  target  \n",
       "0         2   2     3       0  \n",
       "1         0   0     3       0  \n",
       "2         0   0     3       0  \n",
       "3         2   1     3       0  \n",
       "4         1   3     2       0  \n",
       "...     ...  ..   ...     ...  \n",
       "1020      2   0     2       1  \n",
       "1021      1   1     3       0  \n",
       "1022      1   1     2       0  \n",
       "1023      2   0     2       1  \n",
       "1024      1   1     3       0  \n",
       "\n",
       "[1025 rows x 14 columns]>"
      ]
     },
     "execution_count": 151,
     "metadata": {},
     "output_type": "execute_result"
    }
   ],
   "source": [
    "df.head"
   ]
  },
  {
   "cell_type": "code",
   "execution_count": 152,
   "id": "d7cc270d",
   "metadata": {},
   "outputs": [
    {
     "data": {
      "text/plain": [
       "target\n",
       "1    526\n",
       "0    499\n",
       "Name: count, dtype: int64"
      ]
     },
     "execution_count": 152,
     "metadata": {},
     "output_type": "execute_result"
    }
   ],
   "source": [
    "df['target'].value_counts()"
   ]
  },
  {
   "cell_type": "code",
   "execution_count": 153,
   "id": "04c35032",
   "metadata": {},
   "outputs": [
    {
     "name": "stdout",
     "output_type": "stream",
     "text": [
      "Independent variables (X):\n",
      "   age  sex  cp  trestbps  chol  fbs  restecg  thalach  exang  oldpeak  slope  \\\n",
      "0   52    1   0       125   212    0        1      168      0      1.0      2   \n",
      "1   53    1   0       140   203    1        0      155      1      3.1      0   \n",
      "2   70    1   0       145   174    0        1      125      1      2.6      0   \n",
      "3   61    1   0       148   203    0        1      161      0      0.0      2   \n",
      "4   62    0   0       138   294    1        1      106      0      1.9      1   \n",
      "\n",
      "   ca  thal  \n",
      "0   2     3  \n",
      "1   0     3  \n",
      "2   0     3  \n",
      "3   1     3  \n",
      "4   3     2  \n",
      "\n",
      "Dependent variable (y):\n",
      "0    0\n",
      "1    0\n",
      "2    0\n",
      "3    0\n",
      "4    0\n",
      "Name: target, dtype: int64\n"
     ]
    }
   ],
   "source": [
    "# Separate independent (X) and dependent (y) variables\n",
    "X = df.drop('target', axis=1)  \n",
    "y = df['target']               \n",
    "\n",
    "print(\"Independent variables (X):\")\n",
    "print(X.head())\n",
    "print(\"\\nDependent variable (y):\")\n",
    "print(y.head())\n",
    "\n"
   ]
  },
  {
   "cell_type": "code",
   "execution_count": 154,
   "id": "b91e5ba7",
   "metadata": {},
   "outputs": [
    {
     "data": {
      "text/plain": [
       "(1025, 13)"
      ]
     },
     "execution_count": 154,
     "metadata": {},
     "output_type": "execute_result"
    }
   ],
   "source": [
    "X.shape"
   ]
  },
  {
   "cell_type": "code",
   "execution_count": 155,
   "id": "506f4b1e",
   "metadata": {},
   "outputs": [
    {
     "data": {
      "text/plain": [
       "(1025,)"
      ]
     },
     "execution_count": 155,
     "metadata": {},
     "output_type": "execute_result"
    }
   ],
   "source": [
    "y.shape"
   ]
  },
  {
   "cell_type": "code",
   "execution_count": 158,
   "id": "69e79549",
   "metadata": {},
   "outputs": [
    {
     "name": "stdout",
     "output_type": "stream",
     "text": [
      "CSV file saved successfully!\n"
     ]
    }
   ],
   "source": [
    "# Save new_df as a CSV file\n",
    "X.to_csv('X.csv', index=False)\n",
    "\n",
    "print(\"CSV file saved successfully!\")"
   ]
  },
  {
   "cell_type": "code",
   "execution_count": 157,
   "id": "8a84ae5b",
   "metadata": {},
   "outputs": [
    {
     "name": "stdout",
     "output_type": "stream",
     "text": [
      "CSV file saved successfully!\n"
     ]
    }
   ],
   "source": [
    "# Save new_df as a CSV file\n",
    "y.to_csv('y.csv', index=False)\n",
    "\n",
    "print(\"CSV file saved successfully!\")"
   ]
  },
  {
   "cell_type": "code",
   "execution_count": null,
   "id": "f750d938",
   "metadata": {},
   "outputs": [],
   "source": []
  }
 ],
 "metadata": {
  "kernelspec": {
   "display_name": "base",
   "language": "python",
   "name": "python3"
  },
  "language_info": {
   "codemirror_mode": {
    "name": "ipython",
    "version": 3
   },
   "file_extension": ".py",
   "mimetype": "text/x-python",
   "name": "python",
   "nbconvert_exporter": "python",
   "pygments_lexer": "ipython3",
   "version": "3.12.7"
  }
 },
 "nbformat": 4,
 "nbformat_minor": 5
}
